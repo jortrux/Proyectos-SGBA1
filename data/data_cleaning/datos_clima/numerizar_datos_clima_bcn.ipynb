{
 "cells": [
  {
   "cell_type": "code",
   "execution_count": 1,
   "metadata": {},
   "outputs": [
    {
     "name": "stdout",
     "output_type": "stream",
     "text": [
      "Directorio de trabajo actual: /home/david/proyectos4/repositorios/Proyectos-SGBA1/data\n"
     ]
    }
   ],
   "source": [
    "import os\n",
    "\n",
    "ruta_base = '../../'\n",
    "\n",
    "# Cambiar el directorio de trabajo\n",
    "os.chdir(ruta_base)\n",
    "\n",
    "print(\"Directorio de trabajo actual:\", os.getcwd())"
   ]
  },
  {
   "cell_type": "code",
   "execution_count": 2,
   "metadata": {},
   "outputs": [],
   "source": [
    "import pandas as pd\n",
    "df_clima_ejemplo = pd.read_csv('processed/datos_clima/0200E_clima_completo.csv')"
   ]
  },
  {
   "cell_type": "code",
   "execution_count": 3,
   "metadata": {},
   "outputs": [
    {
     "name": "stdout",
     "output_type": "stream",
     "text": [
      "fecha           object\n",
      "indicativo      object\n",
      "nombre          object\n",
      "provincia       object\n",
      "altitud          int64\n",
      "tmed            object\n",
      "prec            object\n",
      "tmin            object\n",
      "horatmin        object\n",
      "tmax            object\n",
      "horatmax        object\n",
      "dir            float64\n",
      "velmedia        object\n",
      "racha           object\n",
      "horaracha       object\n",
      "sol             object\n",
      "presMax         object\n",
      "horaPresMax     object\n",
      "presMin         object\n",
      "horaPresMin     object\n",
      "hrMedia        float64\n",
      "dtype: object\n"
     ]
    }
   ],
   "source": [
    "# Tipos de datos de las columnas\n",
    "print(df_clima_ejemplo.dtypes)"
   ]
  },
  {
   "cell_type": "markdown",
   "metadata": {},
   "source": [
    "# Numerizar datos"
   ]
  },
  {
   "cell_type": "code",
   "execution_count": 4,
   "metadata": {},
   "outputs": [],
   "source": [
    "import pandas as pd\n",
    "import numpy as np\n",
    "from sklearn.preprocessing import StandardScaler, OneHotEncoder\n",
    "from sklearn.impute import SimpleImputer\n",
    "from datetime import datetime"
   ]
  },
  {
   "cell_type": "code",
   "execution_count": 5,
   "metadata": {},
   "outputs": [],
   "source": [
    "df_procesado = df_clima_ejemplo.copy()"
   ]
  },
  {
   "cell_type": "markdown",
   "metadata": {},
   "source": [
    "### Procesar fechas"
   ]
  },
  {
   "cell_type": "code",
   "execution_count": 6,
   "metadata": {},
   "outputs": [],
   "source": [
    "# 1. Procesamiento de fechas y horas\n",
    "# Convertir fecha a datetime y extraer características\n",
    "df_procesado['fecha'] = pd.to_datetime(df_procesado['fecha'])\n",
    "df_procesado['año'] = df_procesado['fecha'].dt.year\n",
    "df_procesado['mes'] = df_procesado['fecha'].dt.month\n",
    "df_procesado['dia'] = df_procesado['fecha'].dt.day\n",
    "df_procesado['dia_semana'] = df_procesado['fecha'].dt.dayofweek\n",
    "df_procesado['estacion_año'] = df_procesado['fecha'].dt.month % 12 // 3"
   ]
  },
  {
   "cell_type": "markdown",
   "metadata": {},
   "source": [
    "### Procesar columnas de Horas y minutos"
   ]
  },
  {
   "cell_type": "code",
   "execution_count": 7,
   "metadata": {},
   "outputs": [
    {
     "name": "stdout",
     "output_type": "stream",
     "text": [
      "Index(['fecha', 'indicativo', 'nombre', 'provincia', 'altitud', 'tmed', 'prec',\n",
      "       'tmin', 'horatmin', 'tmax', 'horatmax', 'dir', 'velmedia', 'racha',\n",
      "       'horaracha', 'sol', 'presMax', 'horaPresMax', 'presMin', 'horaPresMin',\n",
      "       'hrMedia', 'año', 'mes', 'dia', 'dia_semana', 'estacion_año'],\n",
      "      dtype='object')\n"
     ]
    }
   ],
   "source": [
    "print(df_procesado.columns)"
   ]
  },
  {
   "cell_type": "code",
   "execution_count": 8,
   "metadata": {},
   "outputs": [
    {
     "name": "stdout",
     "output_type": "stream",
     "text": [
      "['00' '24' 'Varias' '22' '11' '08' '23' '02' '20' '03' '10' '09' '19' '12'\n",
      " '21' '05' '01' '13' '07' '06' '14']\n",
      "['24' '05' '00' '06' 'Varias' '03' '17' '14' '16' '04' '15' '01' '21' '12'\n",
      " '02' '22' '18' '23' '19' '20' '08' '09' '11' '13' '10' '07']\n"
     ]
    }
   ],
   "source": [
    "print(df_procesado['horaPresMax'].unique())\n",
    "print(df_procesado['horaPresMin'].unique())"
   ]
  },
  {
   "cell_type": "code",
   "execution_count": 9,
   "metadata": {},
   "outputs": [
    {
     "name": "stdout",
     "output_type": "stream",
     "text": [
      "['23:02' '01:02' '00:12' ... '22:56' '14:32' '13:15']\n",
      "['11:20' '01:39' '13:43' '14:25' 'Varias' '15:35' '04:05' '14:55' '09:34'\n",
      " '13:54' '13:40' '00:13' '12:28' '13:55' '13:10' '12:32' '14:35' '14:04'\n",
      " '13:05' '10:18' '15:10' '12:36' '12:07' '13:42' '13:38' '14:26' '10:27'\n",
      " '11:52' '13:13' '14:30' '14:16' '14:05' '14:40' '14:32' '12:53' '11:07'\n",
      " '00:00' '13:41' '12:47' '13:22' '12:45' '12:52' '12:58' '13:01' '14:11'\n",
      " '14:20' '13:47' '14:47' '12:19' '15:13' '14:29' '14:45' '14:12' '14:50'\n",
      " '14:52' '13:25' '13:21' '13:03' '13:50' '10:28' '14:15' '11:00' '12:17'\n",
      " '15:09' '13:28' '12:18' '12:57' '23:59' '00:55' '13:52' '13:15' '16:10'\n",
      " '01:15' '14:48' '13:49' '13:19' '13:20' '16:02' '15:00' '14:31' '11:24'\n",
      " '13:16' '12:11' '16:30' '15:15' '14:07' '14:13' '12:30' '03:29' '15:31'\n",
      " '12:10' '11:13' '12:29' '13:30' '12:35' '09:24' '12:05' '10:55' '10:58'\n",
      " '11:40' '11:17' '12:40' '13:44' '12:50' '13:35' '12:41' '12:20' '12:25'\n",
      " '12:38' '12:08' '10:15' '11:29' '11:41' '14:09' '11:30' '12:04' '15:38'\n",
      " '11:05' '10:52' '13:14' '12:54' '11:37' '15:25' '15:19' '13:06' '14:28'\n",
      " '10:47' '11:01' '10:43' '13:18' '14:43' '10:45' '09:45' '13:09' '12:42'\n",
      " '13:07' '12:12' '12:24' '12:22' '15:06' '13:39' '09:10' '10:31' '12:27'\n",
      " '12:46' '10:23' '13:53' '11:55' '14:00' '13:24' '11:15' '11:53' '11:27'\n",
      " '12:14' '13:46' '13:37' '11:42' '10:42' '11:12' '13:27' '16:20' '15:50'\n",
      " '18:10' '11:57' '11:25' '13:31' '11:36' '12:13' '15:55' '11:32' '11:48'\n",
      " '13:12' '12:37' '11:44' '13:11' '12:39' '09:30' '11:38' '12:55' '13:00'\n",
      " '14:14' '11:19' '13:23' '14:18' '12:44' '11:45' '12:21' '10:13' '14:24'\n",
      " '13:33' '11:18' '14:03' '12:16' '13:08' '15:20' '14:02' '12:15' '14:17'\n",
      " '12:48' '12:01' '23:15' '12:56' '14:06' '13:32' '15:46' '15:45' '15:30'\n",
      " '11:51' '15:24' '15:12' '13:34' '13:45' '15:16' '14:44' '11:21' '10:49'\n",
      " '21:10' '14:01' '13:36' '11:50' '13:17' '11:09' '14:34' '14:19' '14:58'\n",
      " '14:53' '10:30' '14:08' '09:23' '13:51' '11:23' '09:44' '11:10' '15:05'\n",
      " '14:27' '12:03' '16:25' '10:05' '14:42' '10:10' '15:11' '10:46' '09:16'\n",
      " '11:14' '13:04' '12:51' '12:02' '11:16' '12:49' '08:47' '11:59' '11:39'\n",
      " '12:43' '15:26' '11:58' '12:00' '14:10' '10:19' '11:46' '00:29' '09:33'\n",
      " '12:06' '15:17' '13:29' '11:31' '13:59' '01:42' '11:04' '14:51' '14:57'\n",
      " '13:48' '14:22' '21:40' '00:20' '10:54' '01:57' '17:44' '16:33' '12:31'\n",
      " '20:30' '11:33' '09:53' '07:38' '17:10' '12:33' '16:39' '14:23' '10:41'\n",
      " '09:50' '10:38' '15:22' '13:57' '08:33' '13:26' '15:42' '10:40' '10:02'\n",
      " '01:49' '16:07' '10:04' '10:59' '14:39' '10:34' '08:19' '09:02' '15:01'\n",
      " '12:26' '10:11' '10:48' '14:41' '11:43' '11:26' '11:56' '09:26' '10:17'\n",
      " '14:21' '15:34' '10:33' '10:50' '11:03' '11:06' '17:29' '13:58' '14:49'\n",
      " '19:30' '13:02' '15:18' '14:56' '15:52' '15:40' '14:46' '15:49' nan\n",
      " '04:50' '01:21' '15:04' '14:59' '09:37' '10:08' '14:37' '14:54' '15:32'\n",
      " '02:48' '12:23' '13:56' '09:48' '01:10' '11:02' '11:54' '10:12' '09:38'\n",
      " '09:17' '11:28' '10:24' '08:10' '10:36' '15:39' '10:29' '10:57' '15:54'\n",
      " '10:21' '11:49' '14:36' '00:10' '09:52' '10:37' '10:51' '09:57' '11:47'\n",
      " '21:00' '00:24' '10:00' '18:40' '19:47' '20:50' '18:55' '02:05' '15:21'\n",
      " '15:28' '01:09' '11:22' '11:34' '11:35' '10:53' '10:35' '09:31' '05:40'\n",
      " '09:51' '10:26' '00:51' '00:25' '10:20' '08:53' '07:10' '09:12' '15:23'\n",
      " '14:33' '12:09' '10:39' '15:02' '00:22' '19:40' '00:30' '18:50' '04:22'\n",
      " '02:25' '21:55' '17:06' '16:00' '14:38' '09:04' '12:34' '15:29' '09:07'\n",
      " '10:07' '10:44' '09:32' '01:36' '08:38' '15:33' '00:05' '15:14' '01:12'\n",
      " '15:37' '10:14' '11:11' '08:01' '15:07' '10:03' '09:20' '19:27' '09:13'\n",
      " '15:48' '09:54' '15:03']\n",
      "['05:17' '23:59' '04:15' '05:00' '04:09' '08:15' '19:30' '06:53' 'Varias'\n",
      " '06:52' '07:19' '23:55' '23:50' '03:46' '09:38' '05:16' '06:16' '00:00'\n",
      " '04:45' '21:30' '23:00' '18:05' '07:22' '18:45' '07:35' '06:03' '06:35'\n",
      " '07:50' '01:32' '06:15' '06:04' '00:41' '10:12' '06:51' '07:16' '02:54'\n",
      " '05:05' '02:05' '05:01' '05:41' '00:33' '08:31' '22:27' '19:05' '07:45'\n",
      " '00:03' '09:13' '04:50' '19:10' '22:30' '05:55' '23:40' '06:19' '21:40'\n",
      " '06:20' '08:46' '06:54' '06:06' '06:07' '07:10' '05:08' '03:58' '06:22'\n",
      " '13:41' '04:06' '01:54' '03:22' '01:07' '07:20' '03:45' '05:36' '08:10'\n",
      " '20:00' '04:18' '06:10' '04:35' '06:47' '06:44' '05:49' '02:10' '06:18'\n",
      " '22:10' '05:39' '03:11' '02:08' '17:15' '02:42' '06:23' '19:40' '01:13'\n",
      " '21:10' '01:41' '05:35' '23:20' '21:55' '08:05' '05:34' '05:14' '03:41'\n",
      " '05:47' '00:17' '23:10' '22:20' '20:50' '04:43' '00:05' '04:05' '06:12'\n",
      " '04:52' '04:07' '03:20' '01:10' '00:39' '04:33' '04:49' '05:10' '03:15'\n",
      " '04:51' '05:27' '05:02' '04:31' '02:59' '02:28' '04:55' '01:48' '01:21'\n",
      " '03:26' '04:14' '03:06' '04:34' '20:17' '01:55' '03:49' '14:38' '00:25'\n",
      " '03:09' '04:16' '05:04' '01:00' '01:12' '04:36' '01:08' '04:38' '04:28'\n",
      " '04:24' '20:30' '04:26' '03:59' '21:00' '03:30' '04:56' '01:37' '20:20'\n",
      " '05:28' '04:29' '03:10' '03:55' '04:27' '22:40' '01:31' '09:32' '04:39'\n",
      " '02:45' '21:45' '19:35' '04:01' '16:26' '18:30' '03:04' '23:15' '07:49'\n",
      " '04:13' '05:18' '02:15' '07:59' '07:14' '04:54' '01:05' '05:24' '00:30'\n",
      " '21:05' '06:41' '06:39' '05:31' '02:11' '01:36' '02:07' '06:49' '00:47'\n",
      " '06:40' '01:25' '00:27' '00:16' '05:13' '06:01' '04:59' '07:05' '00:34'\n",
      " '22:50' '19:45' '00:31' '03:23' '06:55' '05:51' '01:59' '07:40' '05:12'\n",
      " '06:59' '06:57' '01:20' '23:30' '07:21' '05:59' '06:13' '06:42' '04:32'\n",
      " '02:16' '03:28' '02:14' '05:06' '07:27' '07:41' '05:11' '04:53' '01:30'\n",
      " '07:17' '07:38' '00:43' '06:25' '06:48' '06:11' '08:39' '06:58' '00:56'\n",
      " '04:47' '06:26' '22:15' '00:02' '02:01' '05:30' '06:00' '06:43' '05:57'\n",
      " '03:24' '03:16' '05:20' '05:26' '06:30' '06:45' '01:57' '02:24' '02:53'\n",
      " '05:15' '04:37' '06:31' '00:57' '00:15' '22:05' '06:17' '22:45' '22:00'\n",
      " '00:49' '20:40' '04:58' '05:32' '02:06' '04:22' '02:13' '03:52' '00:10'\n",
      " '00:55' '04:08' '03:42' '00:53' '23:45' '04:25' '15:37' '04:20' '01:06'\n",
      " '00:37' '04:04' '02:23' '03:18' '02:44' '20:05' '00:59' '20:28' '00:48'\n",
      " '06:29' '02:19' '03:12' '00:19' '03:39' '22:55' '02:52' '20:52' '00:06'\n",
      " '05:54' '01:29' '21:20' '01:23' '04:21' '05:42' '01:22' '00:22' '02:38'\n",
      " '02:34' '23:22' '04:46' '05:45' '05:44' '20:10' '02:30' '03:00' '18:15'\n",
      " '04:00' '01:44' '23:33' '07:18' '21:50' '09:27' '03:01' '01:47' '23:25'\n",
      " '01:27' '06:14' '07:37' '05:23' '03:17' '07:01' '01:45' '02:26' '00:23'\n",
      " '07:15' '07:08' '06:02' '07:52' '21:53' '01:43' '08:28' '03:44' '08:30'\n",
      " '03:36' '02:29' '04:41' '06:34' '03:43' '05:50' '06:21' '06:27' '00:40'\n",
      " '04:40' '02:36' '06:05' '19:50' '00:36' '00:38' '19:17' '09:35' '00:04'\n",
      " '03:56' '03:02' '03:27' '03:35' '04:42' '22:35' '01:46' '00:14' '00:44'\n",
      " '00:08' '19:20' '08:32' '00:24' '05:56' '23:32' '01:33' '03:48' '02:47'\n",
      " '14:21' '02:20' '03:38' '04:17' '01:50' '03:05' '05:33' '01:58' '07:56'\n",
      " '06:33' '05:03' '07:03' '06:38' '17:36' '08:02' '08:08' '05:52' '06:46'\n",
      " '00:13' '07:02' '07:39' '05:48' '03:34' '07:51' '03:13' '08:42' '06:50'\n",
      " '07:09' '05:58' '00:01' '08:40' '07:13' '03:07' '15:30' '07:42' '13:49'\n",
      " '02:03' '06:36' '06:09' '03:50' '01:04' '05:46' '16:15' '05:25' '23:06'\n",
      " '23:36' '10:29' '10:08' '05:29' '13:55' '07:53' '06:08' '04:30' '04:11'\n",
      " '00:12' '01:51' '10:50' '03:47' '23:58' '00:52' '04:44' '20:08' '01:49'\n",
      " '18:10' '01:14' '01:52' '08:34' '19:47' '01:53' '06:28' '00:58' '13:00'\n",
      " '00:32' '23:21' '04:48' '03:53' '17:40' '06:56' '02:32' '02:41' '02:39'\n",
      " '05:43' '01:35' '07:36' '01:01' '03:37' '02:37' '07:23' '05:09' '23:37'\n",
      " '02:55' '03:19' '08:24' '17:50' '02:00' '02:46' '03:54' '07:11' '23:42'\n",
      " '07:58' '08:51' '04:12' '06:37' '01:19' '03:33' '02:35' '05:53' '17:16'\n",
      " '04:19' '19:12' '23:05' '08:07' '02:17' '01:39' '00:07' '09:45' '19:48'\n",
      " '00:11' '04:57' '04:02' '00:54' '19:25' '00:18' '03:51' '03:21' '23:46'\n",
      " '02:56' '16:40' '22:46' '05:38' '17:49' '02:04' '10:18' '03:57' '03:08'\n",
      " '11:08' '00:09' '23:12' '01:24' '05:19' '01:15' '05:37' '08:23' '04:23'\n",
      " '07:24' '16:37' '08:37' '03:29' '10:14' '01:34' '07:07' '08:45' '10:09'\n",
      " '05:07' '08:00' '17:39' '02:48' '01:28' '02:18' '19:00' '15:55' '19:15'\n",
      " '01:11' '18:50' '20:58' '03:25' '01:18' '17:11' '02:57' '03:31' '04:10'\n",
      " '00:51' '01:16' '00:20' '17:20' '01:40' '02:40' '05:40' '08:14' '03:40'\n",
      " '20:55' '02:31' '11:39' '18:36' '03:03' '08:17' '22:49' '02:27' '21:41'\n",
      " '20:46' '07:12' '09:20' '02:25' '07:06' '08:04' '08:25' '07:28' '02:51'\n",
      " '22:33' '02:33' '07:32' '09:09' '23:02' '20:31' '21:35' '09:16' '22:38'\n",
      " '20:47' '20:35' '16:45' '15:19' '02:02' '21:32' '22:08' '22:25' '02:22'\n",
      " '00:29' '00:35' '20:13' '09:25' '04:03' '09:07' '02:21' '01:02' '20:25'\n",
      " '21:02' '08:50' '19:39' '21:24' '18:00' '19:01' '21:01']\n"
     ]
    }
   ],
   "source": [
    "print(df_procesado['horaracha'].unique())\n",
    "print(df_procesado['horatmax'].unique())\n",
    "print(df_procesado['horatmin'].unique())"
   ]
  },
  {
   "cell_type": "code",
   "execution_count": 10,
   "metadata": {},
   "outputs": [
    {
     "name": "stdout",
     "output_type": "stream",
     "text": [
      "horatmin\n",
      "['Varias']\n",
      "horatmax\n",
      "['Varias' 'nan']\n",
      "horaracha\n",
      "['nan']\n"
     ]
    }
   ],
   "source": [
    "for col in ['horatmin', 'horatmax', 'horaracha', ]:\n",
    "    if col in df_procesado.columns:\n",
    "        # Ensure the column is of string type before applying the ~ operator\n",
    "        df_procesado[col] = df_procesado[col].astype(str)\n",
    "        print(col)\n",
    "        print(df_procesado[col][~df_procesado[col].str.contains(':')].unique())\n",
    "    else:\n",
    "        print(f\"La columna '{col}' no existe en el DataFrame.\")"
   ]
  },
  {
   "cell_type": "code",
   "execution_count": 11,
   "metadata": {},
   "outputs": [],
   "source": [
    "def convertir_hora_a_minutos(x):\n",
    "    if pd.isna(x) or x == 'nan':\n",
    "        return pd.NA\n",
    "    \n",
    "    if x == 'Varias':\n",
    "        # -1 podría ser un marcador para 'Varias'\n",
    "        # (lo normalizaremos después, así que el -1 no afectará al modelo)\n",
    "        return -1\n",
    "        \n",
    "    # Solo proceder si tiene el formato HH:MM esperado\n",
    "    if isinstance(x, str) and ':' in x and x.replace(':', '').isdigit():\n",
    "        try:\n",
    "            horas, minutos = x.split(':')\n",
    "            return int(horas) * 60 + int(minutos)\n",
    "        except (ValueError, TypeError):\n",
    "            return pd.NA\n",
    "    else:\n",
    "        return pd.NA"
   ]
  },
  {
   "cell_type": "code",
   "execution_count": 12,
   "metadata": {},
   "outputs": [
    {
     "name": "stdout",
     "output_type": "stream",
     "text": [
      "Columnas para horatmin:\n",
      "   horatmin_varias  horatmin_sin  horatmin_cos\n",
      "0                0      0.982450      0.186524\n",
      "1                0     -0.004363      0.999990\n",
      "2                0      0.896873      0.442289\n",
      "3                0      0.965926      0.258819\n",
      "4                0      0.884988      0.465615\n",
      "\n",
      "Columnas para horatmax:\n",
      "   horatmax_varias  horatmax_sin  horatmax_cos\n",
      "0                0      0.173648     -0.984808\n",
      "1                0      0.418660      0.908143\n",
      "2                0     -0.434445     -0.900698\n",
      "3                0     -0.591310     -0.806445\n",
      "4                1           NaN           NaN\n",
      "\n",
      "Columnas para horaracha:\n",
      "   horaracha_varias  horaracha_sin  horaracha_cos\n",
      "0                 0      -0.250380       0.968148\n",
      "1                 0       0.267238       0.963630\n",
      "2                 0       0.052336       0.998630\n",
      "3                 0       0.719340       0.694658\n",
      "4                 0       0.771625       0.636078\n"
     ]
    }
   ],
   "source": [
    "# Convertir horas a valores numéricos con codificación especial\n",
    "max_minutes = 24 * 60  # Total minutos en un día\n",
    "\n",
    "for col in ['horatmin', 'horatmax', 'horaracha']:\n",
    "    if col in df_procesado.columns:\n",
    "        # Crear columna para indicar si es 'Varias'\n",
    "        df_procesado[f'{col}_varias'] = (df_procesado[col] == 'Varias').astype(int)\n",
    "        df_procesado[f'{col}_minutos'] = df_procesado[col].apply(convertir_hora_a_minutos)\n",
    "        \n",
    "        # Paso adicional: Normalizar entre 0 y 2pi para representación cíclica del tiempo\n",
    "        # Filtrar solo los valores válidos (que no son NaN o -1)\n",
    "        valid_mask = df_procesado[f'{col}_minutos'].notna() & (df_procesado[f'{col}_minutos'] != -1)\n",
    "        valid_minutes = df_procesado.loc[valid_mask, f'{col}_minutos']\n",
    "        \n",
    "        # Crear las columnas seno y coseno para capturar la naturaleza cíclica del tiempo\n",
    "        df_procesado[f'{col}_sin'] = np.nan\n",
    "        df_procesado[f'{col}_cos'] = np.nan\n",
    "        \n",
    "        # Asignar los valores trigonométricos solo para los valores válidos\n",
    "        if not valid_minutes.empty:\n",
    "            # Convertir minutos a ángulos (0 a 2π)\n",
    "            angles = valid_minutes.astype(float) * (2 * np.pi / max_minutes)\n",
    "            df_procesado.loc[valid_mask, f'{col}_sin'] = np.sin(angles)\n",
    "            df_procesado.loc[valid_mask, f'{col}_cos'] = np.cos(angles)\n",
    "\n",
    "# Comprobar que las columnas se han creado correctamente\n",
    "print(\"Columnas para horatmin:\")\n",
    "print(df_procesado[['horatmin_varias', 'horatmin_sin', 'horatmin_cos']].head())\n",
    "print(\"\\nColumnas para horatmax:\")\n",
    "print(df_procesado[['horatmax_varias', 'horatmax_sin', 'horatmax_cos']].head())\n",
    "print(\"\\nColumnas para horaracha:\")\n",
    "print(df_procesado[['horaracha_varias', 'horaracha_sin', 'horaracha_cos']].head())\n",
    "        "
   ]
  },
  {
   "cell_type": "markdown",
   "metadata": {},
   "source": [
    "### Procesar columnas de solo Horas"
   ]
  },
  {
   "cell_type": "code",
   "execution_count": 13,
   "metadata": {},
   "outputs": [],
   "source": [
    "def convertir_hora_entera(x):\n",
    "    if pd.isna(x) or x == 'nan':\n",
    "        return pd.NA\n",
    "    \n",
    "    if x == 'Varias':\n",
    "        return -1\n",
    "    \n",
    "    try:\n",
    "        # Convertir a entero (estas columnas solo tienen horas enteras)\n",
    "        hora = int(x)\n",
    "    \n",
    "        # Manejar el caso especial de '24' (debería ser '00')\n",
    "        if hora == 24:\n",
    "            hora = 0\n",
    "            \n",
    "        # Convertir a minutos para mantener consistencia con otras columnas\n",
    "        return hora * 60\n",
    "    except (ValueError, TypeError):\n",
    "        return pd.NA"
   ]
  },
  {
   "cell_type": "code",
   "execution_count": 14,
   "metadata": {},
   "outputs": [
    {
     "name": "stdout",
     "output_type": "stream",
     "text": [
      "Columnas para horaPresMax:\n",
      "      horaPresMax_varias  horaPresMax_sin  horaPresMax_cos\n",
      "2515                   0         0.000000         1.000000\n",
      "2516                   0         0.258819        -0.965926\n",
      "2517                   0         0.258819         0.965926\n",
      "2518                   1         0.000000         0.000000\n",
      "2519                   1         0.000000         0.000000\n",
      "\n",
      "Columnas para horaPresMin:\n",
      "   horaPresMin_varias  horaPresMin_sin  horaPresMin_cos\n",
      "0                   0         0.000000     1.000000e+00\n",
      "1                   0         0.965926     2.588190e-01\n",
      "2                   0         0.000000     1.000000e+00\n",
      "3                   0         0.000000     1.000000e+00\n",
      "4                   0         1.000000     6.123234e-17\n"
     ]
    }
   ],
   "source": [
    "# Convertir horas de presión a valores numéricos (formato específico)\n",
    "for col in ['horaPresMax', 'horaPresMin']:\n",
    "    if col in df_procesado.columns:\n",
    "        # Crear columna para indicar si es 'Varias'\n",
    "        df_procesado[f'{col}_varias'] = (df_procesado[col] == 'Varias').astype(int)\n",
    "        df_procesado[f'{col}_minutos'] = df_procesado[col].apply(convertir_hora_entera)\n",
    "\n",
    "        # Normalización circular (valores entre 0 y 2π)\n",
    "        valid_minutes = df_procesado[df_procesado[f'{col}_minutos'] >= 0][f'{col}_minutos']\n",
    "        if not valid_minutes.empty:\n",
    "            max_minutes = 24 * 60  # 24 horas * 60 minutos\n",
    "            \n",
    "            # Convertir a valores circulares\n",
    "            df_procesado[f'{col}_sin'] = np.where(\n",
    "                df_procesado[f'{col}_minutos'] >= 0,\n",
    "                np.sin(2 * np.pi * df_procesado[f'{col}_minutos'] / max_minutes),\n",
    "                0  # Valor por defecto para NA o 'Varias'\n",
    "            )\n",
    "            \n",
    "            df_procesado[f'{col}_cos'] = np.where(\n",
    "                df_procesado[f'{col}_minutos'] >= 0,\n",
    "                np.cos(2 * np.pi * df_procesado[f'{col}_minutos'] / max_minutes),\n",
    "                0  # Valor por defecto para NA o 'Varias'\n",
    "            )\n",
    "        \n",
    "        # Eliminar la columna original y la intermedia\n",
    "        df_procesado = df_procesado.drop(columns=[col, f'{col}_minutos'])\n",
    "\n",
    "# Comprobar que las columnas se han creado correctamente\n",
    "print(\"Columnas para horaPresMax:\")\n",
    "print(df_procesado[['horaPresMax_varias', 'horaPresMax_sin', 'horaPresMax_cos']].tail())\n",
    "print(\"\\nColumnas para horaPresMin:\")\n",
    "print(df_procesado[['horaPresMin_varias', 'horaPresMin_sin', 'horaPresMin_cos']].head())"
   ]
  },
  {
   "cell_type": "markdown",
   "metadata": {},
   "source": [
    "### Procesar precipitación"
   ]
  },
  {
   "cell_type": "code",
   "execution_count": 15,
   "metadata": {},
   "outputs": [
    {
     "name": "stdout",
     "output_type": "stream",
     "text": [
      "['20,6' '8,9' 'Ip' '0,0' '0,1' '0,8' '6,1' '1,1' '1,2' '0,7' '19,2' '10,8'\n",
      " '1,3' '35,3' '26,1' '4,0' '3,0' '0,4' '2,7' '12,5' '0,5' '5,3' '7,6'\n",
      " '9,6' '9,1' '8,5' '13,8' '4,5' '3,9' '4,1' '1,6' '0,3' '5,4' '47,0' '6,2'\n",
      " '4,7' '4,2' '1,7' '5,2' '2,5' '4,8' '13,6' '8,0' '4,4' '0,9' '7,9' '2,1'\n",
      " '19,7' '2,4' '0,2' '23,5' '6,4' '11,3' '3,1' '1,5' '1,9' '1,4' '6,9'\n",
      " '5,5' '15,0' '8,7' '1,0' '12,8' '9,2' '10,0' '2,9' '9,5' '12,2' '3,7'\n",
      " '3,4' '8,6' '16,3' '12,1' '11,9' '2,0' '0,6' '26,7' '66,0' '2,8' '31,7'\n",
      " '16,7' '6,6' '21,9' '12,6' '12,0' '7,4' '20,2' '16,1' '2,3' '10,3' '19,3'\n",
      " '115,1' '7,0' '22,4' '7,7' '15,1' '19,6' '3,5' '5,8' '3,8' '2,2' '14,9'\n",
      " '13,3' '7,1' '12,7' '50,0' '75,7' '7,3' '30,8' '8,8' '33,1' '26,3' '16,6'\n",
      " '38,8' '46,6' '31,1' '6,0' '6,8' '24,1' '7,8' '2,6' '14,7' '6,7' '13,9'\n",
      " '36,4' '10,4' '3,6' '13,4' '16,5' '5,1' '20,3' '29,4' '27,2' '34,0' '7,5'\n",
      " '23,6' '21,4' '32,2' '5,9' '23,9' '96,8' '44,2' '10,9' '4,3' '9,0' '28,8'\n",
      " '35,0' '27,9' '1,8' '17,5' '3,2' '52,5' '12,9' '5,6' '44,6' '65,5' '4,6'\n",
      " '10,6' '21,1' '100,9' '3,3' '15,5' '38,4' '17,1' '28,9' '8,3' '17,4'\n",
      " '9,7' '75,6' '54,0' '74,4' '14,6' '19,8' '15,6' '29,1' '13,5' '26,5'\n",
      " '6,5' '19,5' '15,9']\n"
     ]
    }
   ],
   "source": [
    "# Valores únicos en la columna 'precipitacion'\n",
    "print(df_procesado['prec'].unique())"
   ]
  },
  {
   "cell_type": "code",
   "execution_count": 16,
   "metadata": {},
   "outputs": [],
   "source": [
    "def convertir_precipitacion(x):\n",
    "        if pd.isna(x):\n",
    "            return np.nan\n",
    "        \n",
    "        if isinstance(x, (int, float)):\n",
    "            return float(x)\n",
    "        \n",
    "        if isinstance(x, str) and x == 'Ip':\n",
    "            # Valor inapreciable: asignamos un valor pequeño (0.05 mm)\n",
    "            return 0.05\n",
    "            \n",
    "        # Por si hay algún otro string inesperado\n",
    "        try:\n",
    "            return float(x)\n",
    "        except (ValueError, TypeError):\n",
    "            return np.nan"
   ]
  },
  {
   "cell_type": "code",
   "execution_count": 17,
   "metadata": {},
   "outputs": [
    {
     "name": "stdout",
     "output_type": "stream",
     "text": [
      "Columnas para precipitación:\n",
      "   prec_inapreciable  prec_valor  prec_log\n",
      "0                  0         NaN       NaN\n",
      "1                  0         NaN       NaN\n",
      "2                  1        0.05   0.04879\n",
      "3                  0         NaN       NaN\n",
      "4                  1        0.05   0.04879\n"
     ]
    }
   ],
   "source": [
    "# Procesamiento simplificado de la columna de precipitación\n",
    "if 'prec' in df_procesado.columns:\n",
    "    # Crear columna indicadora para precipitación inapreciable\n",
    "    df_procesado['prec_inapreciable'] = df_procesado['prec'].apply(\n",
    "        lambda x: 1 if isinstance(x, str) and x == 'Ip' else 0)\n",
    "       \n",
    "    # Aplicar la conversión\n",
    "    df_procesado['prec_valor'] = df_procesado['prec'].apply(convertir_precipitacion)\n",
    "    \n",
    "    # Transformación logarítmica para manejar la naturaleza sesgada de las precipitaciones\n",
    "    # Agregamos 1 para evitar log(0) y usar log(1+x)\n",
    "    df_procesado['prec_log'] = np.log1p(df_procesado['prec_valor'])\n",
    "    \n",
    "    # Eliminamos la columna original\n",
    "    df_procesado = df_procesado.drop(columns=['prec'])\n",
    "\n",
    "# Comprobar que las columnas se han creado correctamente\n",
    "print(\"Columnas para precipitación:\")\n",
    "print(df_procesado[['prec_inapreciable', 'prec_valor', 'prec_log']].head())"
   ]
  },
  {
   "cell_type": "markdown",
   "metadata": {},
   "source": [
    "### Asegurar que las columnas float lo son"
   ]
  },
  {
   "cell_type": "code",
   "execution_count": 18,
   "metadata": {},
   "outputs": [
    {
     "name": "stdout",
     "output_type": "stream",
     "text": [
      "altitud     float64\n",
      "tmed        float64\n",
      "tmin        float64\n",
      "tmax        float64\n",
      "dir         float64\n",
      "velmedia    float64\n",
      "racha       float64\n",
      "sol         float64\n",
      "presMax     float64\n",
      "presMin     float64\n",
      "hrMedia     float64\n",
      "dtype: object\n"
     ]
    }
   ],
   "source": [
    "# Asegurar que las columnas que deben ser de tipo float lo sean\n",
    "# altitud, tmed, tmin, tmax, dir, velmedia, sol, presmax, presmin, hrmedia\n",
    "\n",
    "# Verificar qué columnas existen en el dataframe\n",
    "available_cols = []\n",
    "for col in ['altitud', 'tmed', 'tmin', 'tmax', 'dir', 'velmedia', 'racha', 'sol', 'presMax', 'presMin', 'hrMedia']:\n",
    "\tif col in df_procesado.columns:\n",
    "\t\tavailable_cols.append(col)\n",
    "\n",
    "# Convertir columnas a float si existen en el dataframe\n",
    "for col in available_cols:\n",
    "\ttry:\n",
    "\t\tdf_procesado[col] = df_procesado[col].astype(float)\n",
    "\texcept ValueError:\n",
    "\t\t# Si hay valores que no se pueden convertir (como comas en lugar de puntos)\n",
    "\t\tif isinstance(df_procesado[col][0], str) and ',' in df_procesado[col][0]:\n",
    "\t\t\tdf_procesado[col] = df_procesado[col].str.replace(',', '.').astype(float)\n",
    "\t\telse:\n",
    "\t\t\tprint(f\"No se pudo convertir la columna {col} a tipo float.\")\n",
    "\n",
    "# Comprobar que las columnas se han convertido correctamente\n",
    "print(df_procesado[available_cols].dtypes)"
   ]
  },
  {
   "cell_type": "markdown",
   "metadata": {},
   "source": [
    "## Verificación de tipos de datos"
   ]
  },
  {
   "cell_type": "code",
   "execution_count": 19,
   "metadata": {},
   "outputs": [
    {
     "name": "stdout",
     "output_type": "stream",
     "text": [
      "fecha                 datetime64[ns]\n",
      "indicativo                    object\n",
      "nombre                        object\n",
      "provincia                     object\n",
      "altitud                      float64\n",
      "tmed                         float64\n",
      "tmin                         float64\n",
      "horatmin                      object\n",
      "tmax                         float64\n",
      "horatmax                      object\n",
      "dir                          float64\n",
      "velmedia                     float64\n",
      "racha                        float64\n",
      "horaracha                     object\n",
      "sol                          float64\n",
      "presMax                      float64\n",
      "presMin                      float64\n",
      "hrMedia                      float64\n",
      "año                            int32\n",
      "mes                            int32\n",
      "dia                            int32\n",
      "dia_semana                     int32\n",
      "estacion_año                   int32\n",
      "horatmin_varias                int64\n",
      "horatmin_minutos               int64\n",
      "horatmin_sin                 float64\n",
      "horatmin_cos                 float64\n",
      "horatmax_varias                int64\n",
      "horatmax_minutos              object\n",
      "horatmax_sin                 float64\n",
      "horatmax_cos                 float64\n",
      "horaracha_varias               int64\n",
      "horaracha_minutos             object\n",
      "horaracha_sin                float64\n",
      "horaracha_cos                float64\n",
      "horaPresMax_varias             int64\n",
      "horaPresMax_sin              float64\n",
      "horaPresMax_cos              float64\n",
      "horaPresMin_varias             int64\n",
      "horaPresMin_sin              float64\n",
      "horaPresMin_cos              float64\n",
      "prec_inapreciable              int64\n",
      "prec_valor                   float64\n",
      "prec_log                     float64\n",
      "dtype: object\n"
     ]
    }
   ],
   "source": [
    "print(df_procesado.dtypes)\n"
   ]
  },
  {
   "cell_type": "code",
   "execution_count": 20,
   "metadata": {},
   "outputs": [
    {
     "name": "stdout",
     "output_type": "stream",
     "text": [
      "[17.8 18.9 11.4 10.3 10.8  8.6 11.9  9.7 17.2 14.4 14.2  5.8  4.7  7.5\n",
      " 12.2 10.6 10.  15.  16.4 21.7 12.8 11.7 15.3 15.6 25.3 16.1 13.6 17.5\n",
      " 13.3 15.8  4.2 14.7 16.9 13.1  9.4 23.1 18.1  9.2  6.4  8.9 18.3  6.1\n",
      " 12.5 21.9  7.2  8.1 21.1  7.8  6.9  6.7  5.3  4.4 19.2 19.7  nan 21.4\n",
      " 22.8 20.6 20.  18.6 24.4 26.1 24.2 20.3 20.8 25.6 23.3 24.7 28.6 28.9\n",
      " 11.1  8.3 13.9]\n"
     ]
    }
   ],
   "source": [
    "print(df_procesado['racha'].unique())"
   ]
  },
  {
   "cell_type": "code",
   "execution_count": 21,
   "metadata": {},
   "outputs": [
    {
     "name": "stdout",
     "output_type": "stream",
     "text": [
      "Index(['fecha', 'indicativo', 'altitud', 'tmed', 'tmin', 'tmax', 'dir',\n",
      "       'velmedia', 'racha', 'sol', 'presMax', 'presMin', 'hrMedia', 'año',\n",
      "       'mes', 'dia', 'dia_semana', 'estacion_año', 'horatmin_varias',\n",
      "       'horatmin_minutos', 'horatmin_sin', 'horatmin_cos', 'horatmax_varias',\n",
      "       'horatmax_minutos', 'horatmax_sin', 'horatmax_cos', 'horaracha_varias',\n",
      "       'horaracha_minutos', 'horaracha_sin', 'horaracha_cos',\n",
      "       'horaPresMax_varias', 'horaPresMax_sin', 'horaPresMax_cos',\n",
      "       'horaPresMin_varias', 'horaPresMin_sin', 'horaPresMin_cos',\n",
      "       'prec_inapreciable', 'prec_valor', 'prec_log'],\n",
      "      dtype='object')\n"
     ]
    }
   ],
   "source": [
    "# Eliminar columnas que no se usarán en el modelo\n",
    "\n",
    "# nombre                        object\n",
    "# provincia                     object\n",
    "# horatmin                      object\n",
    "# horatmax                      object\n",
    "# horaracha                     object\n",
    "\n",
    "columnas_eliminar = ['nombre', 'provincia', 'horatmin', 'horatmax', 'horaracha']\n",
    "df_procesado = df_procesado.drop(columns=columnas_eliminar)\n",
    "\n",
    "print(df_procesado.columns)"
   ]
  },
  {
   "cell_type": "markdown",
   "metadata": {},
   "source": [
    "### Guardar el dataframe"
   ]
  },
  {
   "cell_type": "code",
   "execution_count": 22,
   "metadata": {},
   "outputs": [
    {
     "name": "stdout",
     "output_type": "stream",
     "text": [
      "/home/david/proyectos4/repositorios/Proyectos-SGBA1/data\n"
     ]
    }
   ],
   "source": [
    "!pwd"
   ]
  },
  {
   "cell_type": "code",
   "execution_count": 26,
   "metadata": {},
   "outputs": [
    {
     "name": "stdout",
     "output_type": "stream",
     "text": [
      "Requirement already satisfied: pyarrow in /home/david/proyectos4/p4_venv/lib/python3.10/site-packages (19.0.1)\n",
      "Note: you may need to restart the kernel to use updated packages.\n"
     ]
    }
   ],
   "source": [
    "%pip install pyarrow"
   ]
  },
  {
   "cell_type": "code",
   "execution_count": 27,
   "metadata": {},
   "outputs": [],
   "source": [
    "# Guardar el dataframe procesado\n",
    "ruta = 'processed/datos_clima/0200E_clima_numerizado'\n",
    "df_procesado.to_parquet(ruta+\".parquet\", index=False)\n",
    "df_procesado.to_csv(ruta+\".csv\", index=False)\n",
    "\n"
   ]
  }
 ],
 "metadata": {
  "kernelspec": {
   "display_name": "p4_venv",
   "language": "python",
   "name": "python3"
  },
  "language_info": {
   "codemirror_mode": {
    "name": "ipython",
    "version": 3
   },
   "file_extension": ".py",
   "mimetype": "text/x-python",
   "name": "python",
   "nbconvert_exporter": "python",
   "pygments_lexer": "ipython3",
   "version": "3.10.12"
  }
 },
 "nbformat": 4,
 "nbformat_minor": 2
}

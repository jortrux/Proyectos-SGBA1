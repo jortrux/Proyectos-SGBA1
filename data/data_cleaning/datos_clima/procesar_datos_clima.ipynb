{
 "cells": [
  {
   "cell_type": "code",
   "execution_count": 1,
   "metadata": {},
   "outputs": [
    {
     "name": "stdout",
     "output_type": "stream",
     "text": [
      "/home/david/proyectos4/repositorios/Proyectos-SGBA1/data/data_cleaning/datos_clima\n"
     ]
    }
   ],
   "source": [
    "!pwd"
   ]
  },
  {
   "cell_type": "code",
   "execution_count": 2,
   "metadata": {},
   "outputs": [
    {
     "name": "stdout",
     "output_type": "stream",
     "text": [
      "Directorio de trabajo actual: /home/david/proyectos4/repositorios/Proyectos-SGBA1/data\n"
     ]
    }
   ],
   "source": [
    "import os\n",
    "\n",
    "ruta_base = '../../'\n",
    "\n",
    "# Cambiar el directorio de trabajo\n",
    "os.chdir(ruta_base)\n",
    "\n",
    "print(\"Directorio de trabajo actual:\", os.getcwd())"
   ]
  },
  {
   "cell_type": "markdown",
   "metadata": {},
   "source": [
    "# Juntar todos los JSON en un csv"
   ]
  },
  {
   "cell_type": "code",
   "execution_count": 3,
   "metadata": {},
   "outputs": [
    {
     "name": "stdout",
     "output_type": "stream",
     "text": [
      "['./raw/datos_clima/3196', './raw/datos_clima/9434', './raw/datos_clima/8019', './raw/datos_clima/0208', './raw/datos_clima/1505', './raw/datos_clima/2539', './raw/datos_clima/8175', './raw/datos_clima/4121', './raw/datos_clima/3469A', './raw/datos_clima/0200E', './raw/datos_clima/6155A', './raw/datos_clima/5514', './raw/datos_clima/9170']\n"
     ]
    }
   ],
   "source": [
    "import os\n",
    "\n",
    "# Función para obtener todas las rutas de las carpetas dentro de un directorio\n",
    "def obtener_rutas_carpetas(directorio_base):\n",
    "    rutas_carpetas = []\n",
    "    for root, dirs, files in os.walk(directorio_base):\n",
    "        for dir in dirs:\n",
    "            rutas_carpetas.append(os.path.join(root, dir))\n",
    "    return rutas_carpetas\n",
    "\n",
    "ruta_base = './raw/datos_clima/'\n",
    "rutas_carpetas = obtener_rutas_carpetas(ruta_base)\n",
    "print(rutas_carpetas)"
   ]
  },
  {
   "cell_type": "code",
   "execution_count": 4,
   "metadata": {},
   "outputs": [
    {
     "name": "stdout",
     "output_type": "stream",
     "text": [
      "[]\n",
      "Archivo CSV creado en: ./processed/datos_clima/3196_clima_completo.csv\n",
      "[]\n",
      "Archivo CSV creado en: ./processed/datos_clima/9434_clima_completo.csv\n",
      "[]\n",
      "Archivo CSV creado en: ./processed/datos_clima/8019_clima_completo.csv\n",
      "[]\n",
      "No se encontraron archivos JSON en el directorio: ./raw/datos_clima/0208\n",
      "[]\n",
      "Archivo CSV creado en: ./processed/datos_clima/1505_clima_completo.csv\n",
      "[]\n",
      "Archivo CSV creado en: ./processed/datos_clima/2539_clima_completo.csv\n",
      "[]\n",
      "Archivo CSV creado en: ./processed/datos_clima/8175_clima_completo.csv\n",
      "[]\n",
      "Archivo CSV creado en: ./processed/datos_clima/4121_clima_completo.csv\n",
      "[]\n",
      "Archivo CSV creado en: ./processed/datos_clima/3469A_clima_completo.csv\n",
      "[]\n",
      "Archivo CSV creado en: ./processed/datos_clima/0200E_clima_completo.csv\n",
      "[]\n",
      "Archivo CSV creado en: ./processed/datos_clima/6155A_clima_completo.csv\n",
      "[]\n",
      "Archivo CSV creado en: ./processed/datos_clima/5514_clima_completo.csv\n",
      "[]\n",
      "Archivo CSV creado en: ./processed/datos_clima/9170_clima_completo.csv\n"
     ]
    }
   ],
   "source": [
    "import os\n",
    "import pandas as pd\n",
    "\n",
    "# Directorio donde se encuentran los archivos JSON\n",
    "# directorios_json = [ruta + '/' for ruta in rutas_carpetas]\n",
    "directorios_json = rutas_carpetas\n",
    "\n",
    "# Recorrer todos los archivos en el directorio\n",
    "for directorio_json in directorios_json:\n",
    "\n",
    "    idema = directorio_json.split('/')[-1]\n",
    "\n",
    "    # Lista para almacenar los dataframes\n",
    "    dataframes = []\n",
    "\n",
    "    for root, dirs, files in os.walk(directorio_json):\n",
    "        print(dirs)\n",
    "        for file in files:\n",
    "            if file.endswith('.json'):\n",
    "                ruta_archivo = os.path.join(root, file)\n",
    "                # Leer el archivo JSON y convertirlo en un dataframe\n",
    "                df = pd.read_json(ruta_archivo)\n",
    "                dataframes.append(df)\n",
    "    \n",
    "    # Verificar si hay dataframes para concatenar\n",
    "    if dataframes:\n",
    "        # Concatenar todos los dataframes en uno solo\n",
    "        df_completo = pd.concat(dataframes, ignore_index=True)\n",
    "\n",
    "        # ORDENA POR FECHA\n",
    "        df_completo['fecha'] = pd.to_datetime(df_completo['fecha'])\n",
    "        df_completo = df_completo.sort_values('fecha')\n",
    "\n",
    "        # Guardar el dataframe completo en un archivo CSV\n",
    "        ruta_csv = f'./processed/datos_clima/{idema}_clima_completo.csv'\n",
    "\n",
    "        df_completo.to_csv(ruta_csv, index=False)\n",
    "\n",
    "        print(f\"Archivo CSV creado en: {ruta_csv}\")\n",
    "    else:\n",
    "        print(f\"No se encontraron archivos JSON en el directorio: {directorio_json}\")\n",
    "\n",
    "\n",
    "\n"
   ]
  },
  {
   "cell_type": "code",
   "execution_count": null,
   "metadata": {},
   "outputs": [
    {
     "name": "stdout",
     "output_type": "stream",
     "text": [
      "Archivo CSV creado en: ./datos_clima/0200E/datos_climatologicos_completos.csv\n"
     ]
    }
   ],
   "source": []
  }
 ],
 "metadata": {
  "kernelspec": {
   "display_name": "p4_venv",
   "language": "python",
   "name": "python3"
  },
  "language_info": {
   "codemirror_mode": {
    "name": "ipython",
    "version": 3
   },
   "file_extension": ".py",
   "mimetype": "text/x-python",
   "name": "python",
   "nbconvert_exporter": "python",
   "pygments_lexer": "ipython3",
   "version": "3.10.12"
  }
 },
 "nbformat": 4,
 "nbformat_minor": 2
}

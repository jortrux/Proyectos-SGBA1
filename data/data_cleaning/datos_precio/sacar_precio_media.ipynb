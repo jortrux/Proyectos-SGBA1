{
 "cells": [
  {
   "cell_type": "code",
   "execution_count": 1,
   "metadata": {},
   "outputs": [],
   "source": [
    "import os"
   ]
  },
  {
   "cell_type": "code",
   "execution_count": 2,
   "metadata": {},
   "outputs": [
    {
     "name": "stdout",
     "output_type": "stream",
     "text": [
      "/home/david/proyectos4/repositorios/Proyectos-SGBA1/data/data_cleaning/datos_precio\n"
     ]
    }
   ],
   "source": [
    "!pwd"
   ]
  },
  {
   "cell_type": "code",
   "execution_count": 3,
   "metadata": {},
   "outputs": [
    {
     "name": "stdout",
     "output_type": "stream",
     "text": [
      "Directorio actual: /home/david/proyectos4/repositorios/Proyectos-SGBA1\n"
     ]
    }
   ],
   "source": [
    "script_dir = os.getcwd()\n",
    "working_dir = script_dir.split('data/')[0]\n",
    "os.chdir(working_dir) # Poner la carpeta data como directorio actual\n",
    "print(f\"Directorio actual: {os.getcwd()}\")"
   ]
  },
  {
   "cell_type": "code",
   "execution_count": 4,
   "metadata": {},
   "outputs": [],
   "source": [
    "# Cargar datos consumo y euros pagados\n",
    "\n",
    "import pandas as pd\n",
    "import numpy as np\n",
    "\n",
    "df_consumo = pd.read_csv('data/processed/datos_consumo/hogares_bcn/consumo_total_media.csv')\n",
    "df_precios = pd.read_csv('data/processed/datos_precio/precio_electrico_timestamp_media.csv')"
   ]
  },
  {
   "cell_type": "code",
   "execution_count": 5,
   "metadata": {},
   "outputs": [
    {
     "name": "stdout",
     "output_type": "stream",
     "text": [
      "Consumo\n",
      "Index(['timestamp', 'consumo_kwh'], dtype='object')\n",
      "Precios\n",
      "Index(['timestamp', 'coste_euros'], dtype='object')\n"
     ]
    }
   ],
   "source": [
    "print(\"Consumo\")\n",
    "print(df_consumo.columns)\n",
    "print(\"Precios\")\n",
    "print(df_precios.columns)"
   ]
  },
  {
   "cell_type": "code",
   "execution_count": 6,
   "metadata": {},
   "outputs": [],
   "source": [
    "df_precio_consumo = pd.merge(df_consumo, df_precios, on='timestamp', how='inner')\n"
   ]
  },
  {
   "cell_type": "code",
   "execution_count": 7,
   "metadata": {},
   "outputs": [
    {
     "name": "stdout",
     "output_type": "stream",
     "text": [
      "Precio y consumo\n",
      "Index(['timestamp', 'consumo_kwh', 'coste_euros'], dtype='object')\n"
     ]
    }
   ],
   "source": [
    "print(\"Precio y consumo\")\n",
    "print(df_precio_consumo.columns)"
   ]
  },
  {
   "cell_type": "code",
   "execution_count": 10,
   "metadata": {},
   "outputs": [],
   "source": [
    "df_precio_consumo['€/kwh'] = df_precio_consumo['coste_euros'] / df_precio_consumo['consumo_kwh']\n",
    "df_precio_consumo['€/kwh'] = df_precio_consumo['€/kwh'].replace([np.inf, -np.inf], np.nan)\n",
    "df_precio_consumo['€/kwh'] = df_precio_consumo['€/kwh'].fillna(0)\n"
   ]
  },
  {
   "cell_type": "code",
   "execution_count": 11,
   "metadata": {},
   "outputs": [
    {
     "name": "stdout",
     "output_type": "stream",
     "text": [
      "Precio y consumo guardado en data/processed/datos_precio/precio_consumo_electrico_timestamp_media.csv\n"
     ]
    }
   ],
   "source": [
    "df_precio_consumo.to_csv('data/processed/datos_precio/precio_consumo_electrico_timestamp_media.csv', index=False)\n",
    "print(\"Precio y consumo guardado en data/processed/datos_precio/precio_consumo_electrico_timestamp_media.csv\")"
   ]
  },
  {
   "cell_type": "code",
   "execution_count": null,
   "metadata": {},
   "outputs": [],
   "source": [
    "df_solo_precio = df_precio_consumo[['timestamp', '€/kwh']]\n",
    "df_solo_precio.to_csv('data/processed/datos_precio/precio_electrico_timestamp_media.csv', index=False)"
   ]
  }
 ],
 "metadata": {
  "kernelspec": {
   "display_name": "p4_venv",
   "language": "python",
   "name": "python3"
  },
  "language_info": {
   "codemirror_mode": {
    "name": "ipython",
    "version": 3
   },
   "file_extension": ".py",
   "mimetype": "text/x-python",
   "name": "python",
   "nbconvert_exporter": "python",
   "pygments_lexer": "ipython3",
   "version": "3.10.12"
  }
 },
 "nbformat": 4,
 "nbformat_minor": 2
}

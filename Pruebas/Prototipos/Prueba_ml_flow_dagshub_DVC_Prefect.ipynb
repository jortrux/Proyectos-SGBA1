{
 "cells": [
  {
   "cell_type": "markdown",
   "metadata": {},
   "source": [
    "# Tutorial Prefect + Dagshub + mlflow + DVC\n",
    "\n",
    "## Integración y Funcionamiento de Herramientas en el Pipeline\n",
    "\n",
    "* **Prefect:** Orquesta el pipeline, organizando el flujo de tareas.\n",
    "    * **@task:** Cada función que realiza una operación específica se decora con @task lo que permite que Prefect gestione la ejecución, el manejo de errores y la monitorización de cada tarea.\n",
    "    * **@Flow** Se utiliza para definir el flujo principal, que organiza la ejecución de todas las tareas en el orden deseado.\n",
    "    \n",
    "* **Dagshub:** Facilita la colaboración, el versionado de datos y la integración con MLflow.\n",
    "    * para **inicializar dagshub** usamos la función dagshub.init(...)  que se invoca al inicio del flujo para conectar el proyecto con el repositorio y habilitar la integración con MLflow.\n",
    "\n",
    "* **MLflow:** Registra y rastrea experimentos, parámetros, métricas y modelos.\n",
    "    * **Registro de Experimentos:**\n",
    "        * Se **inicia mlflow** con mlflow.start_run(...) para cada modelo, lo que permite agrupar todos los registros asociados a ese experimento.\n",
    "    \n",
    "    * **Registro de Parámetros y Métricas:**\n",
    "        * Los parámetros del modelo se registran mediante mlflow.log_params(...).\n",
    "        * Las métricas de evaluación (MSE, RMSE, MAE, R2) se registran utilizando mlflow.log_metrics(...).\n",
    "    \n",
    "    * **Almacenamiento de Modelos:**\n",
    "        * Una vez entrenado, el modelo se registra y almacena usando mlflow.sklearn.log_model(...), lo que facilita su posterior carga y despliegue.\n",
    "\n",
    "## Apartados del notebook:\n",
    "1. Cargado y procesado de datos.\n",
    "2. dividir los datos en conjuntos de entrenamiento y prueba.\n",
    "3. Entrenar y evaluar distintos modelos de regresion.\n",
    "4. Registrar los experimentos y modelos utilizando MLFlow y DagsHub.\n",
    "\n",
    "Cada uno de estos pasos se implementa como una tarea (`@task`) de Prefect y se orquesta mediante un flujo principal (`@flow`)."
   ]
  },
  {
   "cell_type": "markdown",
   "metadata": {},
   "source": [
    "## Importar Librerias"
   ]
  },
  {
   "cell_type": "code",
   "execution_count": null,
   "metadata": {},
   "outputs": [],
   "source": [
    "import pandas as pd\n",
    "import numpy as np\n",
    "import warnings\n",
    "warnings.filterwarnings('ignore')\n",
    "\n",
    "from sklearn.metrics import mean_squared_error, mean_absolute_error, r2_score\n",
    "from sklearn.ensemble import RandomForestRegressor\n",
    "from sklearn.linear_model import LinearRegression\n",
    "from xgboost import XGBRegressor\n",
    "\n",
    "import mlflow\n",
    "import mlflow.sklearn\n",
    "import dagshub\n",
    "\n",
    "from prefect import flow, task"
   ]
  },
  {
   "cell_type": "markdown",
   "metadata": {},
   "source": [
    "## Cargar y preprocesar los datos\n"
   ]
  },
  {
   "cell_type": "code",
   "execution_count": null,
   "metadata": {},
   "outputs": [],
   "source": [
    "@task\n",
    "def load_and_preprocess_data(filepath: str) -> pd.DataFrame:\n",
    "    data = pd.read_csv(filepath, delimiter=';', decimal=',')\n",
    "    \n",
    "    data = data[data['Hora'].between(0, 23)]\n",
    "    \n",
    "    data['DateTime'] = pd.to_datetime(\n",
    "        data['Fecha'] + ' ' + data['Hora'].astype(str) + ':00:00', \n",
    "        format='%d/%m/%Y %H:%M:%S'\n",
    "    )\n",
    "    \n",
    "    data = data.set_index('DateTime')\n",
    "    data = data.sort_index()\n",
    "    \n",
    "    return data"
   ]
  },
  {
   "cell_type": "markdown",
   "metadata": {},
   "source": [
    "## Dividir los datos en entrenamiento y prueba\n"
   ]
  },
  {
   "cell_type": "code",
   "execution_count": null,
   "metadata": {},
   "outputs": [],
   "source": [
    "@task\n",
    "def split_data(data: pd.DataFrame):\n",
    "    y = data['Consumo_kWh']\n",
    "    \n",
    "    X = data.index.astype(np.int64).values.reshape(-1, 1)\n",
    "    \n",
    "    train_size = int(len(X) * 0.7)\n",
    "    X_train, X_test = X[:train_size], X[train_size:]\n",
    "    y_train, y_test = y[:train_size], y[train_size:]\n",
    "    \n",
    "    return X_train, X_test, y_train, y_test"
   ]
  },
  {
   "cell_type": "markdown",
   "metadata": {},
   "source": [
    "## Entrenar y registrar un modelo con MLflow\n",
    "1. **Inicio de una Corrida de Experimentación:**\n",
    "   * **`with mlflow.start_run(run_name=model_name) as run:`**  \n",
    "     Este bloque inicia una nueva corrida de experimentación en MLflow. Al asignar el nombre del modelo, se facilita la identificación de los experimentos en la interfaz de MLflow.\n",
    "\n",
    "2. **Registro de Metadatos y Parámetros:**\n",
    "   * **`mlflow.set_tag(\"model_name\", model_name)`**  \n",
    "     Se añade una etiqueta (tag) con el nombre del modelo, lo cual ayuda a clasificar y buscar experimentos específicos.\n",
    "   * **`mlflow.log_params(params)`**  \n",
    "     Con esta línea se registran todos los parámetros del modelo. Esto permite documentar las configuraciones con las que se entrenó el modelo.\n",
    "\n",
    "3. **Entrenamiento del Modelo:**\n",
    "   * Aunque el entrenamiento (con model.fit(X_train, y_train)) se realiza de forma habitual, el hecho de estar dentro del contexto de MLflow garantiza que el proceso quede registrado, asociando el entrenamiento con los parámetros y la versión del experimento.\n",
    "\n",
    "4. **Evaluación y Registro de Métricas:**\n",
    "   * Después de realizar las predicciones y calcular las métricas de evaluación (MSE, RMSE, MAE, R2), se registra cada una de estas métricas:\n",
    "\n",
    "5. **Almacenamiento y Versionado del Modelo:**\n",
    "   * **`mlflow.sklearn.log_model(model, \"model\", input_example=X_train)`**  \n",
    "     Esta línea registra y almacena el modelo entrenado en MLflow. Utilizando el método específico para modelos de scikit-learn, se guarda el modelo junto con un ejemplo de entrada.\n",
    "\n",
    "6. **Retorno de las Métricas:**\n",
    "   * la función devuelbe un diccionario con las métricas calculadas.\n"
   ]
  },
  {
   "cell_type": "code",
   "execution_count": null,
   "metadata": {},
   "outputs": [],
   "source": [
    "@task\n",
    "def train_and_log_model(model_name: str, params: dict, model, X_train, y_train, X_test, y_test):\n",
    "    with mlflow.start_run(run_name=model_name) as run:\n",
    "        mlflow.set_tag(\"model_name\", model_name)\n",
    "        mlflow.log_params(params)\n",
    "\n",
    "        model.set_params(**params)\n",
    "        model.fit(X_train, y_train)\n",
    "\n",
    "        y_pred = model.predict(X_test)\n",
    "        mse = mean_squared_error(y_test, y_pred)\n",
    "        rmse = np.sqrt(mse)\n",
    "        mae = mean_absolute_error(y_test, y_pred)\n",
    "        r2 = r2_score(y_test, y_pred)\n",
    "\n",
    "        mlflow.log_metrics({\n",
    "            'MSE': mse,\n",
    "            'RMSE': rmse,\n",
    "            'MAE': mae,\n",
    "            'R2': r2\n",
    "        })\n",
    "\n",
    "        mlflow.sklearn.log_model(model, \"model\", input_example=X_train)\n",
    "    \n",
    "    return {\"MSE\": mse, \"RMSE\": rmse, \"MAE\": mae, \"R2\": r2}"
   ]
  },
  {
   "cell_type": "markdown",
   "metadata": {},
   "source": [
    "## Flujo Principal\n",
    "\n",
    "* Inicializa DagsHub y configura el experimento en MLflow.\n",
    "* Llama a la tarea de carga y preprocesamiento.\n",
    "* Divide los datos en conjuntos de entrenamiento y prueba.\n",
    "* Define una lista de modelos a entrenar, junto con sus parámetros.\n",
    "* Para cada modelo, ejecuta la tarea `train_and_log_model` y almacena las métricas resultantes.\n"
   ]
  },
  {
   "cell_type": "code",
   "execution_count": null,
   "metadata": {},
   "outputs": [],
   "source": [
    "@flow(name=\"Flujo de entrenamiento y evaluación de modelos\")\n",
    "def main_flow(filepath: str):\n",
    "    dagshub.init(repo_owner='auditoria.SGBA1', repo_name='SGBA1-smartgrids', mlflow=True)\n",
    "    mlflow.set_experiment(\"Prueba 3 - Mlflow, DagsHub y Factura_Luz\")\n",
    "    \n",
    "    data = load_and_preprocess_data(filepath)\n",
    "    \n",
    "    X_train, X_test, y_train, y_test = split_data(data)\n",
    "    \n",
    "    models = [\n",
    "        (\"Linear Regression\", {}, LinearRegression()),\n",
    "        (\"Random Forest Regressor\", {\"n_estimators\": 30, \"max_depth\": 3}, RandomForestRegressor()),\n",
    "        (\"XGBRegressor\", {\"use_label_encoder\": False, \"eval_metric\": 'rmse'}, XGBRegressor())\n",
    "    ]\n",
    "    \n",
    "    results = {}\n",
    "    \n",
    "    for model_name, params, model in models:\n",
    "        metrics = train_and_log_model(model_name, params, model, X_train, y_train, X_test, y_test)\n",
    "        results[model_name] = metrics\n",
    "    \n",
    "    return results"
   ]
  },
  {
   "cell_type": "code",
   "execution_count": null,
   "metadata": {},
   "outputs": [
    {
     "data": {
      "text/html": [
       "<pre style=\"white-space:pre;overflow-x:auto;line-height:normal;font-family:Menlo,'DejaVu Sans Mono',consolas,'Courier New',monospace\">21:04:41.867 | <span style=\"color: #008080; text-decoration-color: #008080\">INFO</span>    | Flow run<span style=\"color: #800080; text-decoration-color: #800080\"> 'daring-jackal'</span> - Beginning flow run<span style=\"color: #800080; text-decoration-color: #800080\"> 'daring-jackal'</span> for flow<span style=\"color: #800080; text-decoration-color: #800080; font-weight: bold\"> 'Flujo de entrenamiento y evaluación de modelos'</span>\n",
       "</pre>\n"
      ],
      "text/plain": [
       "21:04:41.867 | \u001b[36mINFO\u001b[0m    | Flow run\u001b[35m 'daring-jackal'\u001b[0m - Beginning flow run\u001b[35m 'daring-jackal'\u001b[0m for flow\u001b[1;35m 'Flujo de entrenamiento y evaluación de modelos'\u001b[0m\n"
      ]
     },
     "metadata": {},
     "output_type": "display_data"
    },
    {
     "data": {
      "text/html": [
       "<pre style=\"white-space:pre;overflow-x:auto;line-height:normal;font-family:Menlo,'DejaVu Sans Mono',consolas,'Courier New',monospace\">Initialized MLflow to track repo <span style=\"color: #008000; text-decoration-color: #008000\">\"auditoria.SGBA1/SGBA1-smartgrids\"</span>\n",
       "</pre>\n"
      ],
      "text/plain": [
       "Initialized MLflow to track repo \u001b[32m\"auditoria.SGBA1/SGBA1-smartgrids\"\u001b[0m\n"
      ]
     },
     "metadata": {},
     "output_type": "display_data"
    },
    {
     "data": {
      "text/html": [
       "<pre style=\"white-space:pre;overflow-x:auto;line-height:normal;font-family:Menlo,'DejaVu Sans Mono',consolas,'Courier New',monospace\">Repository auditoria.SGBA1/SGBA1-smartgrids initialized!\n",
       "</pre>\n"
      ],
      "text/plain": [
       "Repository auditoria.SGBA1/SGBA1-smartgrids initialized!\n"
      ]
     },
     "metadata": {},
     "output_type": "display_data"
    },
    {
     "data": {
      "text/html": [
       "<pre style=\"white-space:pre;overflow-x:auto;line-height:normal;font-family:Menlo,'DejaVu Sans Mono',consolas,'Courier New',monospace\">21:04:43.025 | <span style=\"color: #008080; text-decoration-color: #008080\">INFO</span>    | Task run 'load_and_preprocess_data-837' - Finished in state <span style=\"color: #008000; text-decoration-color: #008000\">Completed</span>()\n",
       "</pre>\n"
      ],
      "text/plain": [
       "21:04:43.025 | \u001b[36mINFO\u001b[0m    | Task run 'load_and_preprocess_data-837' - Finished in state \u001b[32mCompleted\u001b[0m()\n"
      ]
     },
     "metadata": {},
     "output_type": "display_data"
    },
    {
     "data": {
      "text/html": [
       "<pre style=\"white-space:pre;overflow-x:auto;line-height:normal;font-family:Menlo,'DejaVu Sans Mono',consolas,'Courier New',monospace\">21:04:43.369 | <span style=\"color: #008080; text-decoration-color: #008080\">INFO</span>    | Task run 'split_data-7cc' - Finished in state <span style=\"color: #008000; text-decoration-color: #008000\">Completed</span>()\n",
       "</pre>\n"
      ],
      "text/plain": [
       "21:04:43.369 | \u001b[36mINFO\u001b[0m    | Task run 'split_data-7cc' - Finished in state \u001b[32mCompleted\u001b[0m()\n"
      ]
     },
     "metadata": {},
     "output_type": "display_data"
    },
    {
     "name": "stdout",
     "output_type": "stream",
     "text": [
      "🏃 View run Linear Regression at: https://dagshub.com/auditoria.SGBA1/SGBA1-smartgrids.mlflow/#/experiments/4/runs/55c48b6a36294a9b9c966ea7b4945a98\n",
      "🧪 View experiment at: https://dagshub.com/auditoria.SGBA1/SGBA1-smartgrids.mlflow/#/experiments/4\n"
     ]
    },
    {
     "data": {
      "text/html": [
       "<pre style=\"white-space:pre;overflow-x:auto;line-height:normal;font-family:Menlo,'DejaVu Sans Mono',consolas,'Courier New',monospace\">21:04:53.876 | <span style=\"color: #008080; text-decoration-color: #008080\">INFO</span>    | Task run 'train_and_log_model-4cd' - Finished in state <span style=\"color: #008000; text-decoration-color: #008000\">Completed</span>()\n",
       "</pre>\n"
      ],
      "text/plain": [
       "21:04:53.876 | \u001b[36mINFO\u001b[0m    | Task run 'train_and_log_model-4cd' - Finished in state \u001b[32mCompleted\u001b[0m()\n"
      ]
     },
     "metadata": {},
     "output_type": "display_data"
    },
    {
     "name": "stdout",
     "output_type": "stream",
     "text": [
      "🏃 View run Random Forest Regressor at: https://dagshub.com/auditoria.SGBA1/SGBA1-smartgrids.mlflow/#/experiments/4/runs/bcc7e46c03664a74b813aa95d1c15f61\n",
      "🧪 View experiment at: https://dagshub.com/auditoria.SGBA1/SGBA1-smartgrids.mlflow/#/experiments/4\n"
     ]
    },
    {
     "data": {
      "text/html": [
       "<pre style=\"white-space:pre;overflow-x:auto;line-height:normal;font-family:Menlo,'DejaVu Sans Mono',consolas,'Courier New',monospace\">21:05:04.348 | <span style=\"color: #008080; text-decoration-color: #008080\">INFO</span>    | Task run 'train_and_log_model-2fa' - Finished in state <span style=\"color: #008000; text-decoration-color: #008000\">Completed</span>()\n",
       "</pre>\n"
      ],
      "text/plain": [
       "21:05:04.348 | \u001b[36mINFO\u001b[0m    | Task run 'train_and_log_model-2fa' - Finished in state \u001b[32mCompleted\u001b[0m()\n"
      ]
     },
     "metadata": {},
     "output_type": "display_data"
    },
    {
     "name": "stdout",
     "output_type": "stream",
     "text": [
      "🏃 View run XGBRegressor at: https://dagshub.com/auditoria.SGBA1/SGBA1-smartgrids.mlflow/#/experiments/4/runs/9b5920f4544f4b0d8526409cc6508697\n",
      "🧪 View experiment at: https://dagshub.com/auditoria.SGBA1/SGBA1-smartgrids.mlflow/#/experiments/4\n"
     ]
    },
    {
     "data": {
      "text/html": [
       "<pre style=\"white-space:pre;overflow-x:auto;line-height:normal;font-family:Menlo,'DejaVu Sans Mono',consolas,'Courier New',monospace\">21:05:18.981 | <span style=\"color: #008080; text-decoration-color: #008080\">INFO</span>    | Task run 'train_and_log_model-56a' - Finished in state <span style=\"color: #008000; text-decoration-color: #008000\">Completed</span>()\n",
       "</pre>\n"
      ],
      "text/plain": [
       "21:05:18.981 | \u001b[36mINFO\u001b[0m    | Task run 'train_and_log_model-56a' - Finished in state \u001b[32mCompleted\u001b[0m()\n"
      ]
     },
     "metadata": {},
     "output_type": "display_data"
    },
    {
     "data": {
      "text/html": [
       "<pre style=\"white-space:pre;overflow-x:auto;line-height:normal;font-family:Menlo,'DejaVu Sans Mono',consolas,'Courier New',monospace\">21:05:19.056 | <span style=\"color: #008080; text-decoration-color: #008080\">INFO</span>    | Flow run<span style=\"color: #800080; text-decoration-color: #800080\"> 'daring-jackal'</span> - Finished in state <span style=\"color: #008000; text-decoration-color: #008000\">Completed</span>()\n",
       "</pre>\n"
      ],
      "text/plain": [
       "21:05:19.056 | \u001b[36mINFO\u001b[0m    | Flow run\u001b[35m 'daring-jackal'\u001b[0m - Finished in state \u001b[32mCompleted\u001b[0m()\n"
      ]
     },
     "metadata": {},
     "output_type": "display_data"
    },
    {
     "name": "stdout",
     "output_type": "stream",
     "text": [
      "Resultados de la evaluación de modelos:\n",
      "Linear Regression: {'MSE': 0.05142135341179214, 'RMSE': np.float64(0.22676276901597436), 'MAE': 0.1213649807816132, 'R2': -0.1450123137302124}\n",
      "Random Forest Regressor: {'MSE': 0.1964072471551676, 'RMSE': np.float64(0.4431785725361365), 'MAE': 0.4219112909764975, 'R2': -3.373449969267978}\n",
      "XGBRegressor: {'MSE': 0.04902147673288318, 'RMSE': np.float64(0.2214079418920721), 'MAE': 0.16596375114410422, 'R2': -0.09157365125901884}\n"
     ]
    }
   ],
   "source": [
    "if __name__ == \"__main__\":\n",
    "    filepath = 'data/varillas_24-25.csv'\n",
    "\n",
    "    results = main_flow(filepath)\n",
    "    print(\"Resultados de la evaluación de modelos:\")\n",
    "    for model, metrics in results.items():\n",
    "        print(f\"{model}: {metrics}\")"
   ]
  }
 ],
 "metadata": {
  "kernelspec": {
   "display_name": "venv",
   "language": "python",
   "name": "python3"
  },
  "language_info": {
   "codemirror_mode": {
    "name": "ipython",
    "version": 3
   },
   "file_extension": ".py",
   "mimetype": "text/x-python",
   "name": "python",
   "nbconvert_exporter": "python",
   "pygments_lexer": "ipython3",
   "version": "3.11.9"
  }
 },
 "nbformat": 4,
 "nbformat_minor": 2
}

{
 "cells": [
  {
   "cell_type": "code",
   "execution_count": 1,
   "metadata": {},
   "outputs": [
    {
     "name": "stdout",
     "output_type": "stream",
     "text": [
      "/home/david/proyectos4/repositorios/Proyectos-SGBA1/Pruebas/Modelos/precio_peninsula\n"
     ]
    }
   ],
   "source": [
    "import os\n",
    "\n",
    "dir_notebook = os.getcwd()\n",
    "print(dir_notebook)"
   ]
  },
  {
   "cell_type": "code",
   "execution_count": 2,
   "metadata": {},
   "outputs": [
    {
     "name": "stdout",
     "output_type": "stream",
     "text": [
      "Directorio de trabajo actual: /home/david/proyectos4/repositorios/Proyectos-SGBA1\n"
     ]
    }
   ],
   "source": [
    "ruta_trabajo = '../../../'\n",
    "\n",
    "# Cambiar el directorio de trabajo\n",
    "os.chdir(ruta_trabajo)\n",
    "\n",
    "print(\"Directorio de trabajo actual:\", os.getcwd())"
   ]
  },
  {
   "cell_type": "code",
   "execution_count": 3,
   "metadata": {},
   "outputs": [],
   "source": [
    "import pandas as pd\n",
    "df_train = pd.read_parquet('data/processed/datos_precio/df_train_lagged.parquet')\n",
    "df_val = pd.read_parquet('data/processed/datos_precio/df_val_lagged.parquet')"
   ]
  },
  {
   "cell_type": "code",
   "execution_count": 4,
   "metadata": {},
   "outputs": [],
   "source": [
    "import pandas as pd\n",
    "import numpy as np\n",
    "import lightgbm as lgb\n",
    "from sklearn.metrics import mean_squared_error, r2_score\n",
    "import mlflow\n",
    "import mlflow.lightgbm"
   ]
  },
  {
   "cell_type": "code",
   "execution_count": null,
   "metadata": {},
   "outputs": [],
   "source": []
  },
  {
   "cell_type": "code",
   "execution_count": 5,
   "metadata": {},
   "outputs": [],
   "source": [
    "from sklearn.preprocessing import StandardScaler\n",
    "\n",
    "# Select features (excluding datetime, object columns and target)\n",
    "feature_cols = df_train.select_dtypes(include=['int64', 'float64']).columns\n",
    "feature_cols = feature_cols.drop('€/kwh')\n",
    "\n",
    "# Prepare X and y for training\n",
    "X_train = df_train[feature_cols]\n",
    "y_train = df_train['€/kwh']\n",
    "\n",
    "# Prepare X and y for validation\n",
    "X_val = df_val[feature_cols]\n",
    "y_val = df_val['€/kwh']\n",
    "\n",
    "# Scale features\n",
    "scaler = StandardScaler()\n",
    "X_train_scaled = scaler.fit_transform(X_train)\n",
    "X_val_scaled = scaler.transform(X_val)"
   ]
  },
  {
   "cell_type": "markdown",
   "metadata": {},
   "source": [
    "# LOGEAR EXPERIMENTO"
   ]
  },
  {
   "cell_type": "code",
   "execution_count": 6,
   "metadata": {},
   "outputs": [
    {
     "data": {
      "text/html": [
       "<pre style=\"white-space:pre;overflow-x:auto;line-height:normal;font-family:Menlo,'DejaVu Sans Mono',consolas,'Courier New',monospace\">Accessing as auditoria.SGBA1\n",
       "</pre>\n"
      ],
      "text/plain": [
       "Accessing as auditoria.SGBA1\n"
      ]
     },
     "metadata": {},
     "output_type": "display_data"
    },
    {
     "data": {
      "text/html": [
       "<pre style=\"white-space:pre;overflow-x:auto;line-height:normal;font-family:Menlo,'DejaVu Sans Mono',consolas,'Courier New',monospace\">Initialized MLflow to track repo <span style=\"color: #008000; text-decoration-color: #008000\">\"auditoria.SGBA1/Proyectos-SGBA1\"</span>\n",
       "</pre>\n"
      ],
      "text/plain": [
       "Initialized MLflow to track repo \u001b[32m\"auditoria.SGBA1/Proyectos-SGBA1\"\u001b[0m\n"
      ]
     },
     "metadata": {},
     "output_type": "display_data"
    },
    {
     "data": {
      "text/html": [
       "<pre style=\"white-space:pre;overflow-x:auto;line-height:normal;font-family:Menlo,'DejaVu Sans Mono',consolas,'Courier New',monospace\">Repository auditoria.SGBA1/Proyectos-SGBA1 initialized!\n",
       "</pre>\n"
      ],
      "text/plain": [
       "Repository auditoria.SGBA1/Proyectos-SGBA1 initialized!\n"
      ]
     },
     "metadata": {},
     "output_type": "display_data"
    }
   ],
   "source": [
    "import dagshub\n",
    "dagshub.init(repo_owner='auditoria.SGBA1', repo_name='Proyectos-SGBA1', mlflow=True)"
   ]
  },
  {
   "cell_type": "code",
   "execution_count": 7,
   "metadata": {},
   "outputs": [
    {
     "name": "stdout",
     "output_type": "stream",
     "text": [
      "Training RMSE: 0.0070\n",
      "Validation RMSE: 0.0526\n",
      "Training R2: 0.8345\n",
      "Validation R2: 0.0069\n",
      "🏃 View run RandomForest_Model_Run_ at: https://dagshub.com/auditoria.SGBA1/Proyectos-SGBA1.mlflow/#/experiments/1/runs/f7d6db184f01409da0ac949d6fbcaaa3\n",
      "🧪 View experiment at: https://dagshub.com/auditoria.SGBA1/Proyectos-SGBA1.mlflow/#/experiments/1\n"
     ]
    }
   ],
   "source": [
    "from sklearn.ensemble import RandomForestRegressor\n",
    "import mlflow\n",
    "\n",
    "mlflow.set_experiment(\"precio/\")\n",
    "\n",
    "with mlflow.start_run(run_name=\"RandomForest_Model_Run_\"):\n",
    "    # Configurar y entrenar el modelo\n",
    "    params = {\n",
    "        'n_estimators': 100,\n",
    "        'max_depth': 10,\n",
    "        'min_samples_split': 2,\n",
    "        'min_samples_leaf': 1,\n",
    "        'random_state': 42,\n",
    "        'n_jobs': -1\n",
    "    }\n",
    "    \n",
    "    # Crear y entrenar el modelo\n",
    "    model = RandomForestRegressor(**params)\n",
    "    model.fit(X_train_scaled, y_train)\n",
    "    \n",
    "    # Hacer predicciones\n",
    "    y_pred_train = model.predict(X_train_scaled)\n",
    "    y_pred_val = model.predict(X_val_scaled)\n",
    "    \n",
    "    # Calcular métricas\n",
    "    train_rmse = np.sqrt(mean_squared_error(y_train, y_pred_train))\n",
    "    val_rmse = np.sqrt(mean_squared_error(y_val, y_pred_val))\n",
    "    train_r2 = r2_score(y_train, y_pred_train)\n",
    "    val_r2 = r2_score(y_val, y_pred_val)\n",
    "    \n",
    "    # Registrar parámetros\n",
    "    mlflow.log_params(params)\n",
    "    \n",
    "    # Registrar métricas\n",
    "    mlflow.log_metric('train_rmse', train_rmse)\n",
    "    mlflow.log_metric('val_rmse', val_rmse)\n",
    "    mlflow.log_metric('train_r2', train_r2)\n",
    "    mlflow.log_metric('val_r2', val_r2)\n",
    "    \n",
    "    # Guardar el modelo\n",
    "    input_example = X_train_scaled[:5]\n",
    "    mlflow.sklearn.log_model(model, \"random_forest_model\", input_example=input_example)\n",
    "    \n",
    "    # Imprimir resultados\n",
    "    print(f'Training RMSE: {train_rmse:.4f}')\n",
    "    print(f'Validation RMSE: {val_rmse:.4f}')\n",
    "    print(f'Training R2: {train_r2:.4f}')\n",
    "    print(f'Validation R2: {val_r2:.4f}')\n"
   ]
  },
  {
   "cell_type": "code",
   "execution_count": null,
   "metadata": {},
   "outputs": [],
   "source": []
  }
 ],
 "metadata": {
  "kernelspec": {
   "display_name": "p4_venv",
   "language": "python",
   "name": "python3"
  },
  "language_info": {
   "codemirror_mode": {
    "name": "ipython",
    "version": 3
   },
   "file_extension": ".py",
   "mimetype": "text/x-python",
   "name": "python",
   "nbconvert_exporter": "python",
   "pygments_lexer": "ipython3",
   "version": "3.10.12"
  }
 },
 "nbformat": 4,
 "nbformat_minor": 2
}

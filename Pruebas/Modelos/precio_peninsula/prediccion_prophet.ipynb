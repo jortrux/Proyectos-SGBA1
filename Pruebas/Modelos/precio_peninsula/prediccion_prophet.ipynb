{
 "cells": [
  {
   "cell_type": "code",
   "execution_count": 1,
   "metadata": {},
   "outputs": [
    {
     "name": "stdout",
     "output_type": "stream",
     "text": [
      "/home/david/proyectos4/repositorios/Proyectos-SGBA1/Pruebas/Modelos/precio_peninsula\n",
      "Directorio de trabajo actual: /home/david/proyectos4/repositorios/Proyectos-SGBA1\n"
     ]
    }
   ],
   "source": [
    "import pandas as pd\n",
    "# %pip install tensorflow[and-cuda]\n",
    "import os\n",
    "\n",
    "dir_notebook = os.getcwd()\n",
    "print(dir_notebook)\n",
    "ruta_trabajo = '../../../'\n",
    "\n",
    "# Cambiar el directorio de trabajo\n",
    "os.chdir(ruta_trabajo)\n",
    "print(\"Directorio de trabajo actual:\", os.getcwd())"
   ]
  },
  {
   "cell_type": "code",
   "execution_count": 2,
   "metadata": {},
   "outputs": [],
   "source": [
    "df_precio = pd.read_parquet('data/processed/datos_precio/clima_precio_merged.parquet')"
   ]
  },
  {
   "cell_type": "code",
   "execution_count": 3,
   "metadata": {},
   "outputs": [
    {
     "data": {
      "text/html": [
       "<div>\n",
       "<style scoped>\n",
       "    .dataframe tbody tr th:only-of-type {\n",
       "        vertical-align: middle;\n",
       "    }\n",
       "\n",
       "    .dataframe tbody tr th {\n",
       "        vertical-align: top;\n",
       "    }\n",
       "\n",
       "    .dataframe thead th {\n",
       "        text-align: right;\n",
       "    }\n",
       "</style>\n",
       "<table border=\"1\" class=\"dataframe\">\n",
       "  <thead>\n",
       "    <tr style=\"text-align: right;\">\n",
       "      <th></th>\n",
       "      <th>timestamp</th>\n",
       "      <th>€/kwh</th>\n",
       "      <th>fecha</th>\n",
       "      <th>indicativo_3196</th>\n",
       "      <th>altitud_3196</th>\n",
       "      <th>tmed_3196</th>\n",
       "      <th>tmin_3196</th>\n",
       "      <th>tmax_3196</th>\n",
       "      <th>velmedia_3196</th>\n",
       "      <th>racha_3196</th>\n",
       "      <th>...</th>\n",
       "      <th>horaPresMax_cos_8175</th>\n",
       "      <th>horaPresMin_varias_8175</th>\n",
       "      <th>horaPresMin_minutos_8175</th>\n",
       "      <th>horaPresMin_sin_8175</th>\n",
       "      <th>horaPresMin_cos_8175</th>\n",
       "      <th>prec_inapreciable_8175</th>\n",
       "      <th>prec_valor_8175</th>\n",
       "      <th>prec_log_8175</th>\n",
       "      <th>dir_sin_8175</th>\n",
       "      <th>dir_cos_8175</th>\n",
       "    </tr>\n",
       "  </thead>\n",
       "  <tbody>\n",
       "    <tr>\n",
       "      <th>0</th>\n",
       "      <td>2014-11-03 14:00:00</td>\n",
       "      <td>0.0</td>\n",
       "      <td>2014-11-03</td>\n",
       "      <td>3196.0</td>\n",
       "      <td>690.0</td>\n",
       "      <td>11.5</td>\n",
       "      <td>8.0</td>\n",
       "      <td>15.0</td>\n",
       "      <td>6.1</td>\n",
       "      <td>17.5</td>\n",
       "      <td>...</td>\n",
       "      <td>1.0</td>\n",
       "      <td>0.0</td>\n",
       "      <td>0.0</td>\n",
       "      <td>0.0</td>\n",
       "      <td>1.0</td>\n",
       "      <td>0.0</td>\n",
       "      <td>0.0</td>\n",
       "      <td>0.0</td>\n",
       "      <td>-0.984808</td>\n",
       "      <td>-0.173648</td>\n",
       "    </tr>\n",
       "    <tr>\n",
       "      <th>1</th>\n",
       "      <td>2014-11-03 15:00:00</td>\n",
       "      <td>0.0</td>\n",
       "      <td>2014-11-03</td>\n",
       "      <td>3196.0</td>\n",
       "      <td>690.0</td>\n",
       "      <td>11.5</td>\n",
       "      <td>8.0</td>\n",
       "      <td>15.0</td>\n",
       "      <td>6.1</td>\n",
       "      <td>17.5</td>\n",
       "      <td>...</td>\n",
       "      <td>1.0</td>\n",
       "      <td>0.0</td>\n",
       "      <td>0.0</td>\n",
       "      <td>0.0</td>\n",
       "      <td>1.0</td>\n",
       "      <td>0.0</td>\n",
       "      <td>0.0</td>\n",
       "      <td>0.0</td>\n",
       "      <td>-0.984808</td>\n",
       "      <td>-0.173648</td>\n",
       "    </tr>\n",
       "    <tr>\n",
       "      <th>2</th>\n",
       "      <td>2014-11-03 16:00:00</td>\n",
       "      <td>0.0</td>\n",
       "      <td>2014-11-03</td>\n",
       "      <td>3196.0</td>\n",
       "      <td>690.0</td>\n",
       "      <td>11.5</td>\n",
       "      <td>8.0</td>\n",
       "      <td>15.0</td>\n",
       "      <td>6.1</td>\n",
       "      <td>17.5</td>\n",
       "      <td>...</td>\n",
       "      <td>1.0</td>\n",
       "      <td>0.0</td>\n",
       "      <td>0.0</td>\n",
       "      <td>0.0</td>\n",
       "      <td>1.0</td>\n",
       "      <td>0.0</td>\n",
       "      <td>0.0</td>\n",
       "      <td>0.0</td>\n",
       "      <td>-0.984808</td>\n",
       "      <td>-0.173648</td>\n",
       "    </tr>\n",
       "    <tr>\n",
       "      <th>3</th>\n",
       "      <td>2014-11-03 17:00:00</td>\n",
       "      <td>0.0</td>\n",
       "      <td>2014-11-03</td>\n",
       "      <td>3196.0</td>\n",
       "      <td>690.0</td>\n",
       "      <td>11.5</td>\n",
       "      <td>8.0</td>\n",
       "      <td>15.0</td>\n",
       "      <td>6.1</td>\n",
       "      <td>17.5</td>\n",
       "      <td>...</td>\n",
       "      <td>1.0</td>\n",
       "      <td>0.0</td>\n",
       "      <td>0.0</td>\n",
       "      <td>0.0</td>\n",
       "      <td>1.0</td>\n",
       "      <td>0.0</td>\n",
       "      <td>0.0</td>\n",
       "      <td>0.0</td>\n",
       "      <td>-0.984808</td>\n",
       "      <td>-0.173648</td>\n",
       "    </tr>\n",
       "    <tr>\n",
       "      <th>4</th>\n",
       "      <td>2014-11-03 18:00:00</td>\n",
       "      <td>0.0</td>\n",
       "      <td>2014-11-03</td>\n",
       "      <td>3196.0</td>\n",
       "      <td>690.0</td>\n",
       "      <td>11.5</td>\n",
       "      <td>8.0</td>\n",
       "      <td>15.0</td>\n",
       "      <td>6.1</td>\n",
       "      <td>17.5</td>\n",
       "      <td>...</td>\n",
       "      <td>1.0</td>\n",
       "      <td>0.0</td>\n",
       "      <td>0.0</td>\n",
       "      <td>0.0</td>\n",
       "      <td>1.0</td>\n",
       "      <td>0.0</td>\n",
       "      <td>0.0</td>\n",
       "      <td>0.0</td>\n",
       "      <td>-0.984808</td>\n",
       "      <td>-0.173648</td>\n",
       "    </tr>\n",
       "  </tbody>\n",
       "</table>\n",
       "<p>5 rows × 516 columns</p>\n",
       "</div>"
      ],
      "text/plain": [
       "            timestamp  €/kwh      fecha  indicativo_3196  altitud_3196  \\\n",
       "0 2014-11-03 14:00:00    0.0 2014-11-03           3196.0         690.0   \n",
       "1 2014-11-03 15:00:00    0.0 2014-11-03           3196.0         690.0   \n",
       "2 2014-11-03 16:00:00    0.0 2014-11-03           3196.0         690.0   \n",
       "3 2014-11-03 17:00:00    0.0 2014-11-03           3196.0         690.0   \n",
       "4 2014-11-03 18:00:00    0.0 2014-11-03           3196.0         690.0   \n",
       "\n",
       "   tmed_3196  tmin_3196  tmax_3196  velmedia_3196  racha_3196  ...  \\\n",
       "0       11.5        8.0       15.0            6.1        17.5  ...   \n",
       "1       11.5        8.0       15.0            6.1        17.5  ...   \n",
       "2       11.5        8.0       15.0            6.1        17.5  ...   \n",
       "3       11.5        8.0       15.0            6.1        17.5  ...   \n",
       "4       11.5        8.0       15.0            6.1        17.5  ...   \n",
       "\n",
       "   horaPresMax_cos_8175  horaPresMin_varias_8175  horaPresMin_minutos_8175  \\\n",
       "0                   1.0                      0.0                       0.0   \n",
       "1                   1.0                      0.0                       0.0   \n",
       "2                   1.0                      0.0                       0.0   \n",
       "3                   1.0                      0.0                       0.0   \n",
       "4                   1.0                      0.0                       0.0   \n",
       "\n",
       "   horaPresMin_sin_8175  horaPresMin_cos_8175  prec_inapreciable_8175  \\\n",
       "0                   0.0                   1.0                     0.0   \n",
       "1                   0.0                   1.0                     0.0   \n",
       "2                   0.0                   1.0                     0.0   \n",
       "3                   0.0                   1.0                     0.0   \n",
       "4                   0.0                   1.0                     0.0   \n",
       "\n",
       "   prec_valor_8175  prec_log_8175  dir_sin_8175  dir_cos_8175  \n",
       "0              0.0            0.0     -0.984808     -0.173648  \n",
       "1              0.0            0.0     -0.984808     -0.173648  \n",
       "2              0.0            0.0     -0.984808     -0.173648  \n",
       "3              0.0            0.0     -0.984808     -0.173648  \n",
       "4              0.0            0.0     -0.984808     -0.173648  \n",
       "\n",
       "[5 rows x 516 columns]"
      ]
     },
     "execution_count": 3,
     "metadata": {},
     "output_type": "execute_result"
    }
   ],
   "source": [
    "df_precio.head()"
   ]
  },
  {
   "cell_type": "code",
   "execution_count": 4,
   "metadata": {},
   "outputs": [],
   "source": [
    "def prepare_data(df):\n",
    "    # Create base prophet dataframe with datetime and target\n",
    "    base_cols = {'timestamp': 'ds', '€/kwh': 'y'}\n",
    "    prophet_df = df.reset_index()[list(base_cols.keys())].rename(columns=base_cols)\n",
    "    \n",
    "    # Get additional numeric columns (excluding timestamp and target)\n",
    "    numeric_columns = df.select_dtypes(include=['float64', 'int64']).columns\n",
    "    additional_cols = [col for col in numeric_columns \n",
    "                      if col != '€/kwh' and 'timestamp' not in col and 'fecha' not in col]\n",
    "    \n",
    "    # Combine all columns efficiently using concat\n",
    "    if additional_cols:\n",
    "        prophet_df = pd.concat([\n",
    "            prophet_df,\n",
    "            df[additional_cols]\n",
    "        ], axis=1)\n",
    "    \n",
    "    # Convert any potential NaN values to 0\n",
    "    return prophet_df.fillna(0)"
   ]
  },
  {
   "cell_type": "code",
   "execution_count": 5,
   "metadata": {},
   "outputs": [
    {
     "name": "stderr",
     "output_type": "stream",
     "text": [
      "/home/david/proyectos4/p4_venv/lib/python3.10/site-packages/tqdm/auto.py:21: TqdmWarning: IProgress not found. Please update jupyter and ipywidgets. See https://ipywidgets.readthedocs.io/en/stable/user_install.html\n",
      "  from .autonotebook import tqdm as notebook_tqdm\n"
     ]
    }
   ],
   "source": [
    "from prophet import Prophet\n",
    "from sklearn.metrics import mean_absolute_error, mean_squared_error, r2_score\n",
    "import numpy as np\n",
    "from sklearn.model_selection import TimeSeriesSplit\n",
    "\n",
    "def train_evaluate_prophet(df, params, n_splits=5):\n",
    "    \"\"\"\n",
    "    Trains and evaluates a Prophet model using TimeSeriesSplit for validation.\n",
    "\n",
    "    Args:\n",
    "        df (pd.DataFrame): Input DataFrame with 'ds' (datetime) and 'y' (target) columns.\n",
    "        params (dict): Parameters for the Prophet model.\n",
    "        n_splits (int): Number of splits for TimeSeriesSplit.\n",
    "\n",
    "    Returns:\n",
    "        tuple: (model, metrics, forecast)\n",
    "               model: Trained Prophet model.\n",
    "               metrics: Dictionary of evaluation metrics.\n",
    "               forecast: DataFrame with forecast values.\n",
    "    \"\"\"\n",
    "    \n",
    "    tscv = TimeSeriesSplit(n_splits=n_splits)\n",
    "    metrics_list = []\n",
    "    models = []\n",
    "    forecasts = []\n",
    "\n",
    "    for train_index, test_index in tscv.split(df):\n",
    "        train_df = df.iloc[train_index]\n",
    "        test_df = df.iloc[test_index]\n",
    "\n",
    "        # Initialize and train Prophet model\n",
    "        model = Prophet(**params)\n",
    "\n",
    "        # Add every column as regressor except 'ds' and 'y'\n",
    "        for col in train_df.columns:\n",
    "            if col not in ['ds', 'y']:\n",
    "                model.add_regressor(col)\n",
    "\n",
    "        \n",
    "        model.fit(train_df)\n",
    "        \n",
    "        \n",
    "\n",
    "        # Make predictions\n",
    "        future = model.make_future_dataframe(periods=len(test_df))\n",
    "        forecast = model.predict(future)\n",
    "        \n",
    "        # Calculate metrics\n",
    "        y_true = test_df['y'].values\n",
    "        y_pred = forecast.tail(len(test_df))['yhat'].values\n",
    "        \n",
    "        metrics = {\n",
    "            'mae': mean_absolute_error(y_true, y_pred),\n",
    "            'mse': mean_squared_error(y_true, y_pred),\n",
    "            'rmse': np.sqrt(mean_squared_error(y_true, y_pred)),\n",
    "            'r2': r2_score(y_true, y_pred)\n",
    "        }\n",
    "        metrics_list.append(metrics)\n",
    "        models.append(model)\n",
    "        forecasts.append(forecast)\n",
    "    \n",
    "    # Average the metrics across all splits\n",
    "    avg_metrics = {}\n",
    "    for metric in metrics_list[0].keys():\n",
    "        avg_metrics[metric] = np.mean([m[metric] for m in metrics_list])\n",
    "\n",
    "    # You might want to train a final model on the entire dataset\n",
    "    final_model = Prophet(**params)\n",
    "    final_model.fit(df)\n",
    "    future = final_model.make_future_dataframe(periods=0)  # No future periods for the final model\n",
    "    final_forecast = final_model.predict(future)\n",
    "\n",
    "    return final_model, avg_metrics, final_forecast"
   ]
  },
  {
   "cell_type": "code",
   "execution_count": 6,
   "metadata": {},
   "outputs": [
    {
     "name": "stdout",
     "output_type": "stream",
     "text": [
      "/home/david/proyectos4/repositorios/Proyectos-SGBA1\n"
     ]
    }
   ],
   "source": [
    "!pwd"
   ]
  },
  {
   "cell_type": "code",
   "execution_count": null,
   "metadata": {},
   "outputs": [
    {
     "name": "stderr",
     "output_type": "stream",
     "text": [
      "19:19:20 - cmdstanpy - INFO - Chain [1] start processing\n",
      "19:19:21 - cmdstanpy - INFO - Chain [1] done processing\n",
      "19:19:21 - cmdstanpy - ERROR - Chain [1] error: error during processing Operation not permitted\n",
      "Optimization terminated abnormally. Falling back to Newton.\n",
      "19:19:26 - cmdstanpy - INFO - Chain [1] start processing\n"
     ]
    },
    {
     "ename": "KeyboardInterrupt",
     "evalue": "",
     "output_type": "error",
     "traceback": [
      "\u001b[0;31m---------------------------------------------------------------------------\u001b[0m",
      "\u001b[0;31mRuntimeError\u001b[0m                              Traceback (most recent call last)",
      "File \u001b[0;32m~/proyectos4/p4_venv/lib/python3.10/site-packages/prophet/models.py:121\u001b[0m, in \u001b[0;36mCmdStanPyBackend.fit\u001b[0;34m(self, stan_init, stan_data, **kwargs)\u001b[0m\n\u001b[1;32m    120\u001b[0m \u001b[38;5;28;01mtry\u001b[39;00m:\n\u001b[0;32m--> 121\u001b[0m     \u001b[38;5;28mself\u001b[39m\u001b[38;5;241m.\u001b[39mstan_fit \u001b[38;5;241m=\u001b[39m \u001b[38;5;28;43mself\u001b[39;49m\u001b[38;5;241;43m.\u001b[39;49m\u001b[43mmodel\u001b[49m\u001b[38;5;241;43m.\u001b[39;49m\u001b[43moptimize\u001b[49m\u001b[43m(\u001b[49m\u001b[38;5;241;43m*\u001b[39;49m\u001b[38;5;241;43m*\u001b[39;49m\u001b[43margs\u001b[49m\u001b[43m)\u001b[49m\n\u001b[1;32m    122\u001b[0m \u001b[38;5;28;01mexcept\u001b[39;00m \u001b[38;5;167;01mRuntimeError\u001b[39;00m \u001b[38;5;28;01mas\u001b[39;00m e:\n\u001b[1;32m    123\u001b[0m     \u001b[38;5;66;03m# Fall back on Newton\u001b[39;00m\n",
      "File \u001b[0;32m~/proyectos4/p4_venv/lib/python3.10/site-packages/cmdstanpy/model.py:659\u001b[0m, in \u001b[0;36mCmdStanModel.optimize\u001b[0;34m(self, data, seed, inits, output_dir, sig_figs, save_profile, algorithm, init_alpha, tol_obj, tol_rel_obj, tol_grad, tol_rel_grad, tol_param, history_size, iter, save_iterations, require_converged, show_console, refresh, time_fmt, timeout, jacobian)\u001b[0m\n\u001b[1;32m    658\u001b[0m     \u001b[38;5;28;01melse\u001b[39;00m:\n\u001b[0;32m--> 659\u001b[0m         \u001b[38;5;28;01mraise\u001b[39;00m \u001b[38;5;167;01mRuntimeError\u001b[39;00m(msg)\n\u001b[1;32m    660\u001b[0m mle \u001b[38;5;241m=\u001b[39m CmdStanMLE(runset)\n",
      "\u001b[0;31mRuntimeError\u001b[0m: Error during optimization! Command '/home/david/proyectos4/p4_venv/lib/python3.10/site-packages/prophet/stan_model/prophet_model.bin random seed=30132 data file=/tmp/tmpch2rdd0j/c8eql_fe.json init=/tmp/tmpch2rdd0j/5qifs0n9.json output file=/tmp/tmpch2rdd0j/prophet_modelgcagx_u8/prophet_model-20250324191920.csv method=optimize algorithm=lbfgs iter=10000' failed: console log output:\n\nmethod = optimize\n  optimize\n    algorithm = lbfgs (Default)\n      lbfgs\n        init_alpha = 0.001 (Default)\n        tol_obj = 9.9999999999999998e-13 (Default)\n        tol_rel_obj = 10000 (Default)\n        tol_grad = 1e-08 (Default)\n        tol_rel_grad = 10000000 (Default)\n        tol_param = 1e-08 (Default)\n        history_size = 5 (Default)\n    jacobian = 0 (Default)\n    iter = 10000\n    save_iterations = 0 (Default)\nid = 1 (Default)\ndata\n  file = /tmp/tmpch2rdd0j/c8eql_fe.json\ninit = /tmp/tmpch2rdd0j/5qifs0n9.json\nrandom\n  seed = 30132\noutput\n  file = /tmp/tmpch2rdd0j/prophet_modelgcagx_u8/prophet_model-20250324191920.csv\n  diagnostic_file =  (Default)\n  refresh = 100 (Default)\n  sig_figs = -1 (Default)\n  profile_file = profile.csv (Default)\nnum_threads = 1 (Default)\n\nInitial log joint probability = -387.483\n    Iter      log prob        ||dx||      ||grad||       alpha      alpha0  # evals  Notes \n       1      -387.483             0   1.49036e+07       1e-12       0.001       37   \nOptimization terminated with error: \n  Line search failed to achieve a sufficient decrease, no more progress can be made\n",
      "\nDuring handling of the above exception, another exception occurred:\n",
      "\u001b[0;31mKeyboardInterrupt\u001b[0m                         Traceback (most recent call last)",
      "Cell \u001b[0;32mIn[23], line 13\u001b[0m\n\u001b[1;32m      6\u001b[0m \u001b[38;5;66;03m# Define parameters to try\u001b[39;00m\n\u001b[1;32m      7\u001b[0m prophet_params \u001b[38;5;241m=\u001b[39m {\n\u001b[1;32m      8\u001b[0m     \u001b[38;5;124m'\u001b[39m\u001b[38;5;124myearly_seasonality\u001b[39m\u001b[38;5;124m'\u001b[39m: \u001b[38;5;28;01mTrue\u001b[39;00m,\n\u001b[1;32m      9\u001b[0m     \u001b[38;5;124m'\u001b[39m\u001b[38;5;124mweekly_seasonality\u001b[39m\u001b[38;5;124m'\u001b[39m: \u001b[38;5;28;01mTrue\u001b[39;00m,\n\u001b[1;32m     10\u001b[0m     \u001b[38;5;124m'\u001b[39m\u001b[38;5;124mdaily_seasonality\u001b[39m\u001b[38;5;124m'\u001b[39m: \u001b[38;5;28;01mTrue\u001b[39;00m,\n\u001b[1;32m     11\u001b[0m }\n\u001b[0;32m---> 13\u001b[0m model, metrics, forecast \u001b[38;5;241m=\u001b[39m \u001b[43mtrain_evaluate_prophet\u001b[49m\u001b[43m(\u001b[49m\u001b[43mprophet_df\u001b[49m\u001b[43m,\u001b[49m\u001b[43m \u001b[49m\u001b[43mprophet_params\u001b[49m\u001b[43m)\u001b[49m\n\u001b[1;32m     15\u001b[0m \u001b[38;5;28mprint\u001b[39m(metrics)\n",
      "Cell \u001b[0;32mIn[21], line 40\u001b[0m, in \u001b[0;36mtrain_evaluate_prophet\u001b[0;34m(df, params, n_splits)\u001b[0m\n\u001b[1;32m     36\u001b[0m     \u001b[38;5;28;01mif\u001b[39;00m col \u001b[38;5;129;01mnot\u001b[39;00m \u001b[38;5;129;01min\u001b[39;00m [\u001b[38;5;124m'\u001b[39m\u001b[38;5;124mds\u001b[39m\u001b[38;5;124m'\u001b[39m, \u001b[38;5;124m'\u001b[39m\u001b[38;5;124my\u001b[39m\u001b[38;5;124m'\u001b[39m]:\n\u001b[1;32m     37\u001b[0m         model\u001b[38;5;241m.\u001b[39madd_regressor(col)\n\u001b[0;32m---> 40\u001b[0m \u001b[43mmodel\u001b[49m\u001b[38;5;241;43m.\u001b[39;49m\u001b[43mfit\u001b[49m\u001b[43m(\u001b[49m\u001b[43mtrain_df\u001b[49m\u001b[43m)\u001b[49m\n\u001b[1;32m     44\u001b[0m \u001b[38;5;66;03m# Make predictions\u001b[39;00m\n\u001b[1;32m     45\u001b[0m future \u001b[38;5;241m=\u001b[39m model\u001b[38;5;241m.\u001b[39mmake_future_dataframe(periods\u001b[38;5;241m=\u001b[39m\u001b[38;5;28mlen\u001b[39m(test_df))\n",
      "File \u001b[0;32m~/proyectos4/p4_venv/lib/python3.10/site-packages/prophet/forecaster.py:1232\u001b[0m, in \u001b[0;36mProphet.fit\u001b[0;34m(self, df, **kwargs)\u001b[0m\n\u001b[1;32m   1230\u001b[0m     \u001b[38;5;28mself\u001b[39m\u001b[38;5;241m.\u001b[39mparams \u001b[38;5;241m=\u001b[39m \u001b[38;5;28mself\u001b[39m\u001b[38;5;241m.\u001b[39mstan_backend\u001b[38;5;241m.\u001b[39msampling(stan_init, dat, \u001b[38;5;28mself\u001b[39m\u001b[38;5;241m.\u001b[39mmcmc_samples, \u001b[38;5;241m*\u001b[39m\u001b[38;5;241m*\u001b[39mkwargs)\n\u001b[1;32m   1231\u001b[0m \u001b[38;5;28;01melse\u001b[39;00m:\n\u001b[0;32m-> 1232\u001b[0m     \u001b[38;5;28mself\u001b[39m\u001b[38;5;241m.\u001b[39mparams \u001b[38;5;241m=\u001b[39m \u001b[38;5;28;43mself\u001b[39;49m\u001b[38;5;241;43m.\u001b[39;49m\u001b[43mstan_backend\u001b[49m\u001b[38;5;241;43m.\u001b[39;49m\u001b[43mfit\u001b[49m\u001b[43m(\u001b[49m\u001b[43mstan_init\u001b[49m\u001b[43m,\u001b[49m\u001b[43m \u001b[49m\u001b[43mdat\u001b[49m\u001b[43m,\u001b[49m\u001b[43m \u001b[49m\u001b[38;5;241;43m*\u001b[39;49m\u001b[38;5;241;43m*\u001b[39;49m\u001b[43mkwargs\u001b[49m\u001b[43m)\u001b[49m\n\u001b[1;32m   1234\u001b[0m \u001b[38;5;28mself\u001b[39m\u001b[38;5;241m.\u001b[39mstan_fit \u001b[38;5;241m=\u001b[39m \u001b[38;5;28mself\u001b[39m\u001b[38;5;241m.\u001b[39mstan_backend\u001b[38;5;241m.\u001b[39mstan_fit\n\u001b[1;32m   1235\u001b[0m \u001b[38;5;66;03m# If no changepoints were requested, replace delta with 0s\u001b[39;00m\n",
      "File \u001b[0;32m~/proyectos4/p4_venv/lib/python3.10/site-packages/prophet/models.py:128\u001b[0m, in \u001b[0;36mCmdStanPyBackend.fit\u001b[0;34m(self, stan_init, stan_data, **kwargs)\u001b[0m\n\u001b[1;32m    126\u001b[0m     logger\u001b[38;5;241m.\u001b[39mwarning(\u001b[38;5;124m'\u001b[39m\u001b[38;5;124mOptimization terminated abnormally. Falling back to Newton.\u001b[39m\u001b[38;5;124m'\u001b[39m)\n\u001b[1;32m    127\u001b[0m     args[\u001b[38;5;124m'\u001b[39m\u001b[38;5;124malgorithm\u001b[39m\u001b[38;5;124m'\u001b[39m] \u001b[38;5;241m=\u001b[39m \u001b[38;5;124m'\u001b[39m\u001b[38;5;124mNewton\u001b[39m\u001b[38;5;124m'\u001b[39m\n\u001b[0;32m--> 128\u001b[0m     \u001b[38;5;28mself\u001b[39m\u001b[38;5;241m.\u001b[39mstan_fit \u001b[38;5;241m=\u001b[39m \u001b[38;5;28;43mself\u001b[39;49m\u001b[38;5;241;43m.\u001b[39;49m\u001b[43mmodel\u001b[49m\u001b[38;5;241;43m.\u001b[39;49m\u001b[43moptimize\u001b[49m\u001b[43m(\u001b[49m\u001b[38;5;241;43m*\u001b[39;49m\u001b[38;5;241;43m*\u001b[39;49m\u001b[43margs\u001b[49m\u001b[43m)\u001b[49m\n\u001b[1;32m    129\u001b[0m params \u001b[38;5;241m=\u001b[39m \u001b[38;5;28mself\u001b[39m\u001b[38;5;241m.\u001b[39mstan_to_dict_numpy(\n\u001b[1;32m    130\u001b[0m     \u001b[38;5;28mself\u001b[39m\u001b[38;5;241m.\u001b[39mstan_fit\u001b[38;5;241m.\u001b[39mcolumn_names, \u001b[38;5;28mself\u001b[39m\u001b[38;5;241m.\u001b[39mstan_fit\u001b[38;5;241m.\u001b[39moptimized_params_np)\n\u001b[1;32m    131\u001b[0m \u001b[38;5;28;01mfor\u001b[39;00m par \u001b[38;5;129;01min\u001b[39;00m params:\n",
      "File \u001b[0;32m~/proyectos4/p4_venv/lib/python3.10/site-packages/cmdstanpy/model.py:644\u001b[0m, in \u001b[0;36mCmdStanModel.optimize\u001b[0;34m(self, data, seed, inits, output_dir, sig_figs, save_profile, algorithm, init_alpha, tol_obj, tol_rel_obj, tol_grad, tol_rel_grad, tol_param, history_size, iter, save_iterations, require_converged, show_console, refresh, time_fmt, timeout, jacobian)\u001b[0m\n\u001b[1;32m    642\u001b[0m     dummy_chain_id \u001b[38;5;241m=\u001b[39m \u001b[38;5;241m0\u001b[39m\n\u001b[1;32m    643\u001b[0m     runset \u001b[38;5;241m=\u001b[39m RunSet(args\u001b[38;5;241m=\u001b[39margs, chains\u001b[38;5;241m=\u001b[39m\u001b[38;5;241m1\u001b[39m, time_fmt\u001b[38;5;241m=\u001b[39mtime_fmt)\n\u001b[0;32m--> 644\u001b[0m     \u001b[38;5;28;43mself\u001b[39;49m\u001b[38;5;241;43m.\u001b[39;49m\u001b[43m_run_cmdstan\u001b[49m\u001b[43m(\u001b[49m\n\u001b[1;32m    645\u001b[0m \u001b[43m        \u001b[49m\u001b[43mrunset\u001b[49m\u001b[43m,\u001b[49m\n\u001b[1;32m    646\u001b[0m \u001b[43m        \u001b[49m\u001b[43mdummy_chain_id\u001b[49m\u001b[43m,\u001b[49m\n\u001b[1;32m    647\u001b[0m \u001b[43m        \u001b[49m\u001b[43mshow_console\u001b[49m\u001b[38;5;241;43m=\u001b[39;49m\u001b[43mshow_console\u001b[49m\u001b[43m,\u001b[49m\n\u001b[1;32m    648\u001b[0m \u001b[43m        \u001b[49m\u001b[43mtimeout\u001b[49m\u001b[38;5;241;43m=\u001b[39;49m\u001b[43mtimeout\u001b[49m\u001b[43m,\u001b[49m\n\u001b[1;32m    649\u001b[0m \u001b[43m    \u001b[49m\u001b[43m)\u001b[49m\n\u001b[1;32m    650\u001b[0m runset\u001b[38;5;241m.\u001b[39mraise_for_timeouts()\n\u001b[1;32m    652\u001b[0m \u001b[38;5;28;01mif\u001b[39;00m \u001b[38;5;129;01mnot\u001b[39;00m runset\u001b[38;5;241m.\u001b[39m_check_retcodes():\n",
      "File \u001b[0;32m~/proyectos4/p4_venv/lib/python3.10/site-packages/cmdstanpy/model.py:2087\u001b[0m, in \u001b[0;36mCmdStanModel._run_cmdstan\u001b[0;34m(self, runset, idx, show_progress, show_console, progress_hook, timeout)\u001b[0m\n\u001b[1;32m   2085\u001b[0m \u001b[38;5;28;01mwhile\u001b[39;00m proc\u001b[38;5;241m.\u001b[39mpoll() \u001b[38;5;129;01mis\u001b[39;00m \u001b[38;5;28;01mNone\u001b[39;00m:\n\u001b[1;32m   2086\u001b[0m     \u001b[38;5;28;01mif\u001b[39;00m proc\u001b[38;5;241m.\u001b[39mstdout \u001b[38;5;129;01mis\u001b[39;00m \u001b[38;5;129;01mnot\u001b[39;00m \u001b[38;5;28;01mNone\u001b[39;00m:\n\u001b[0;32m-> 2087\u001b[0m         line \u001b[38;5;241m=\u001b[39m \u001b[43mproc\u001b[49m\u001b[38;5;241;43m.\u001b[39;49m\u001b[43mstdout\u001b[49m\u001b[38;5;241;43m.\u001b[39;49m\u001b[43mreadline\u001b[49m\u001b[43m(\u001b[49m\u001b[43m)\u001b[49m\n\u001b[1;32m   2088\u001b[0m         fd_out\u001b[38;5;241m.\u001b[39mwrite(line)\n\u001b[1;32m   2089\u001b[0m         line \u001b[38;5;241m=\u001b[39m line\u001b[38;5;241m.\u001b[39mstrip()\n",
      "\u001b[0;31mKeyboardInterrupt\u001b[0m: "
     ]
    }
   ],
   "source": [
    "# Prepare data for Prophet\n",
    "prophet_df = prepare_data(df_precio)\n",
    "\n",
    "# Define parameters to try\n",
    "prophet_params = {\n",
    "    'yearly_seasonality': True,\n",
    "    'weekly_seasonality': True,\n",
    "    'daily_seasonality': True,\n",
    "}\n",
    "\n",
    "model, metrics, forecast = train_evaluate_prophet(prophet_df, prophet_params)\n",
    "\n",
    "print(metrics)"
   ]
  },
  {
   "cell_type": "code",
   "execution_count": 2,
   "metadata": {},
   "outputs": [
    {
     "data": {
      "text/html": [
       "<pre style=\"white-space:pre;overflow-x:auto;line-height:normal;font-family:Menlo,'DejaVu Sans Mono',consolas,'Courier New',monospace\">Accessing as auditoria.SGBA1\n",
       "</pre>\n"
      ],
      "text/plain": [
       "Accessing as auditoria.SGBA1\n"
      ]
     },
     "metadata": {},
     "output_type": "display_data"
    },
    {
     "data": {
      "text/html": [
       "<pre style=\"white-space:pre;overflow-x:auto;line-height:normal;font-family:Menlo,'DejaVu Sans Mono',consolas,'Courier New',monospace\">Initialized MLflow to track repo <span style=\"color: #008000; text-decoration-color: #008000\">\"auditoria.SGBA1/Proyectos-SGBA1\"</span>\n",
       "</pre>\n"
      ],
      "text/plain": [
       "Initialized MLflow to track repo \u001b[32m\"auditoria.SGBA1/Proyectos-SGBA1\"\u001b[0m\n"
      ]
     },
     "metadata": {},
     "output_type": "display_data"
    },
    {
     "data": {
      "text/html": [
       "<pre style=\"white-space:pre;overflow-x:auto;line-height:normal;font-family:Menlo,'DejaVu Sans Mono',consolas,'Courier New',monospace\">Repository auditoria.SGBA1/Proyectos-SGBA1 initialized!\n",
       "</pre>\n"
      ],
      "text/plain": [
       "Repository auditoria.SGBA1/Proyectos-SGBA1 initialized!\n"
      ]
     },
     "metadata": {},
     "output_type": "display_data"
    }
   ],
   "source": [
    "import dagshub\n",
    "dagshub.init(repo_owner='auditoria.SGBA1', repo_name='Proyectos-SGBA1', mlflow=True)"
   ]
  },
  {
   "cell_type": "code",
   "execution_count": null,
   "metadata": {},
   "outputs": [],
   "source": [
    "import mlflow\n",
    "\n",
    "experiment_prefix = 'prediccion_precio_energia'\n",
    "\n",
    "experiment_name = f'{experiment_prefix}_prophet'\n",
    "mlflow.set_experiment(experiment_name)"
   ]
  },
  {
   "cell_type": "code",
   "execution_count": null,
   "metadata": {},
   "outputs": [],
   "source": [
    "prophet_params = {\n",
    "    'yearly_seasonality': True,\n",
    "    'weekly_seasonality': True,\n",
    "    'daily_seasonality': True,\n",
    "}\n",
    "\n",
    "prophet_df = prepare_data(df_precio)\n",
    "\n",
    "with mlflow.start_run(run_name='prophet_base'):\n",
    "    # Log parameters\n",
    "    mlflow.log_params(prophet_params)\n",
    "\n",
    "    model, metrics, forecast = train_evaluate_prophet(prophet_df, prophet_params)\n",
    "\n",
    "    # Log metrics\n",
    "    mlflow.log_metrics(metrics)\n",
    "\n",
    "    # Log model\n",
    "    mlflow.log_artifact('prophet_base_model.pkl')\n",
    "    # mlflow.log_artifact('prophet_base_forecast.pkl')\n",
    "\n",
    "    # Log feature importance\n",
    "    fig1 = model.plot(forecast)\n",
    "    fig2 = model.plot_components(forecast)\n",
    "    # mlflow.log_artifact('feature_importance.png')\n"
   ]
  }
 ],
 "metadata": {
  "kernelspec": {
   "display_name": "p4_venv",
   "language": "python",
   "name": "python3"
  },
  "language_info": {
   "codemirror_mode": {
    "name": "ipython",
    "version": 3
   },
   "file_extension": ".py",
   "mimetype": "text/x-python",
   "name": "python",
   "nbconvert_exporter": "python",
   "pygments_lexer": "ipython3",
   "version": "3.10.12"
  }
 },
 "nbformat": 4,
 "nbformat_minor": 2
}

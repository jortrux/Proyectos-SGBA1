{
 "cells": [
  {
   "cell_type": "code",
   "execution_count": 1,
   "metadata": {},
   "outputs": [],
   "source": [
    "import pandas as pd"
   ]
  },
  {
   "cell_type": "code",
   "execution_count": 2,
   "metadata": {},
   "outputs": [],
   "source": [
    "# %pip install tensorflow[and-cuda]"
   ]
  },
  {
   "cell_type": "code",
   "execution_count": 3,
   "metadata": {},
   "outputs": [
    {
     "name": "stdout",
     "output_type": "stream",
     "text": [
      "/home/david/proyectos4/repositorios/Proyectos-SGBA1/Pruebas/Modelos/precio_peninsula\n"
     ]
    }
   ],
   "source": [
    "import os\n",
    "\n",
    "dir_notebook = os.getcwd()\n",
    "print(dir_notebook)"
   ]
  },
  {
   "cell_type": "code",
   "execution_count": 4,
   "metadata": {},
   "outputs": [
    {
     "name": "stdout",
     "output_type": "stream",
     "text": [
      "Directorio de trabajo actual: /home/david/proyectos4/repositorios/Proyectos-SGBA1\n"
     ]
    }
   ],
   "source": [
    "ruta_trabajo = '../../../'\n",
    "\n",
    "# Cambiar el directorio de trabajo\n",
    "os.chdir(ruta_trabajo)\n",
    "\n",
    "print(\"Directorio de trabajo actual:\", os.getcwd())"
   ]
  },
  {
   "cell_type": "code",
   "execution_count": 5,
   "metadata": {},
   "outputs": [
    {
     "name": "stdout",
     "output_type": "stream",
     "text": [
      "/home/david/proyectos4/repositorios/Proyectos-SGBA1\n"
     ]
    }
   ],
   "source": [
    "!pwd"
   ]
  },
  {
   "cell_type": "markdown",
   "metadata": {},
   "source": [
    "### Cargar df_clima_precio "
   ]
  },
  {
   "cell_type": "code",
   "execution_count": 6,
   "metadata": {},
   "outputs": [],
   "source": [
    "df_precio = pd.read_parquet('data/processed/datos_precio/clima_precio_merged.parquet')"
   ]
  },
  {
   "cell_type": "code",
   "execution_count": 7,
   "metadata": {},
   "outputs": [],
   "source": [
    "# !pip install numpy pandas scikit-learn tensorflow xgboost lightgbm matplotlib"
   ]
  },
  {
   "cell_type": "code",
   "execution_count": 8,
   "metadata": {},
   "outputs": [
    {
     "name": "stderr",
     "output_type": "stream",
     "text": [
      "2025-03-26 18:46:38.626763: E external/local_xla/xla/stream_executor/cuda/cuda_fft.cc:467] Unable to register cuFFT factory: Attempting to register factory for plugin cuFFT when one has already been registered\n",
      "WARNING: All log messages before absl::InitializeLog() is called are written to STDERR\n",
      "E0000 00:00:1743011198.639026   47715 cuda_dnn.cc:8579] Unable to register cuDNN factory: Attempting to register factory for plugin cuDNN when one has already been registered\n",
      "E0000 00:00:1743011198.642459   47715 cuda_blas.cc:1407] Unable to register cuBLAS factory: Attempting to register factory for plugin cuBLAS when one has already been registered\n",
      "W0000 00:00:1743011198.652669   47715 computation_placer.cc:177] computation placer already registered. Please check linkage and avoid linking the same target more than once.\n",
      "W0000 00:00:1743011198.652693   47715 computation_placer.cc:177] computation placer already registered. Please check linkage and avoid linking the same target more than once.\n",
      "W0000 00:00:1743011198.652694   47715 computation_placer.cc:177] computation placer already registered. Please check linkage and avoid linking the same target more than once.\n",
      "W0000 00:00:1743011198.652695   47715 computation_placer.cc:177] computation placer already registered. Please check linkage and avoid linking the same target more than once.\n",
      "2025-03-26 18:46:38.656362: I tensorflow/core/platform/cpu_feature_guard.cc:210] This TensorFlow binary is optimized to use available CPU instructions in performance-critical operations.\n",
      "To enable the following instructions: AVX2 FMA, in other operations, rebuild TensorFlow with the appropriate compiler flags.\n"
     ]
    }
   ],
   "source": [
    "import numpy as np\n",
    "from sklearn.model_selection import TimeSeriesSplit\n",
    "from sklearn.metrics import mean_squared_error, mean_absolute_error, r2_score\n",
    "from sklearn.preprocessing import StandardScaler\n",
    "from tensorflow.keras.models import Sequential\n",
    "from sklearn.ensemble import RandomForestRegressor\n",
    "from xgboost import XGBRegressor\n",
    "from lightgbm import LGBMRegressor\n",
    "from tensorflow.keras.layers import LSTM, Dense, Dropout\n",
    "\n",
    "import matplotlib.pyplot as plt"
   ]
  },
  {
   "cell_type": "code",
   "execution_count": 9,
   "metadata": {},
   "outputs": [
    {
     "data": {
      "text/plain": [
       "Index(['timestamp', '€/kwh', 'fecha', 'indicativo_3196', 'altitud_3196',\n",
       "       'tmed_3196', 'tmin_3196', 'tmax_3196', 'velmedia_3196', 'racha_3196',\n",
       "       ...\n",
       "       'horaPresMax_cos_8175', 'horaPresMin_varias_8175',\n",
       "       'horaPresMin_minutos_8175', 'horaPresMin_sin_8175',\n",
       "       'horaPresMin_cos_8175', 'prec_inapreciable_8175', 'prec_valor_8175',\n",
       "       'prec_log_8175', 'dir_sin_8175', 'dir_cos_8175'],\n",
       "      dtype='object', length=516)"
      ]
     },
     "execution_count": 9,
     "metadata": {},
     "output_type": "execute_result"
    }
   ],
   "source": [
    "df_precio.columns"
   ]
  },
  {
   "cell_type": "code",
   "execution_count": 10,
   "metadata": {},
   "outputs": [
    {
     "name": "stdout",
     "output_type": "stream",
     "text": [
      "Non-numeric columns: Index(['timestamp', 'fecha', 'indicativo_6155A', 'horaHrMax_6155A',\n",
      "       'horaHrMin_6155A', 'indicativo_3469A', 'horaHrMax_8019',\n",
      "       'horaHrMin_8019', 'indicativo_0200E', 'horaHrMax_4121',\n",
      "       'horaHrMin_4121', 'horaHrMax_8175', 'horaHrMin_8175'],\n",
      "      dtype='object')\n",
      "            timestamp      fecha indicativo_6155A horaHrMax_6155A  \\\n",
      "0 2014-11-03 14:00:00 2014-11-03            6155A          Varias   \n",
      "1 2014-11-03 15:00:00 2014-11-03            6155A          Varias   \n",
      "2 2014-11-03 16:00:00 2014-11-03            6155A          Varias   \n",
      "3 2014-11-03 17:00:00 2014-11-03            6155A          Varias   \n",
      "4 2014-11-03 18:00:00 2014-11-03            6155A          Varias   \n",
      "\n",
      "  horaHrMin_6155A indicativo_3469A horaHrMax_8019 horaHrMin_8019  \\\n",
      "0          Varias            3469A         Varias          12:31   \n",
      "1          Varias            3469A         Varias          12:31   \n",
      "2          Varias            3469A         Varias          12:31   \n",
      "3          Varias            3469A         Varias          12:31   \n",
      "4          Varias            3469A         Varias          12:31   \n",
      "\n",
      "  indicativo_0200E horaHrMax_4121 horaHrMin_4121 horaHrMax_8175 horaHrMin_8175  \n",
      "0            0200E          05:20          16:10         Varias         Varias  \n",
      "1            0200E          05:20          16:10         Varias         Varias  \n",
      "2            0200E          05:20          16:10         Varias         Varias  \n",
      "3            0200E          05:20          16:10         Varias         Varias  \n",
      "4            0200E          05:20          16:10         Varias         Varias  \n"
     ]
    }
   ],
   "source": [
    "# Identify numeric and non-numeric columns\n",
    "numeric_cols = df_precio.select_dtypes(include=['float64', 'int64']).columns\n",
    "non_numeric_cols = df_precio.select_dtypes(exclude=['float64', 'int64']).columns\n",
    "\n",
    "print(\"Non-numeric columns:\", non_numeric_cols)\n",
    "print(df_precio[non_numeric_cols].head())\n",
    "\n",
    "# Remove all non-numeric columns except 'fecha'\n",
    "columns_to_drop = [col for col in non_numeric_cols if col != 'fecha']\n",
    "df_precio_coor = df_precio.drop(columns_to_drop, axis=1, errors='ignore')\n",
    "df_precio_coor = df_precio.drop(non_numeric_cols, axis=1, errors='ignore')\n"
   ]
  },
  {
   "cell_type": "code",
   "execution_count": 14,
   "metadata": {},
   "outputs": [
    {
     "name": "stdout",
     "output_type": "stream",
     "text": [
      "(57625, 402)\n",
      "(57625, 162)\n"
     ]
    }
   ],
   "source": [
    "print(df_precio_coor.shape)\n",
    "# Drop de las columnas que contengan la palabra indicativo y altitud\n",
    "df_precio_coor = df_precio_coor.drop([col for col in df_precio_coor.columns if 'indicativo' in col], axis=1, errors='ignore')\n",
    "df_precio_coor = df_precio_coor.drop([col for col in df_precio_coor.columns if 'altitud' in col], axis=1, errors='ignore')\n",
    "df_precio_coor = df_precio_coor.drop([col for col in df_precio_coor.columns if 'hr' in col], axis=1, errors='ignore')\n",
    "df_precio_coor = df_precio_coor.drop([col for col in df_precio_coor.columns if 'Hr' in col], axis=1, errors='ignore')\n",
    "df_precio_coor = df_precio_coor.drop([col for col in df_precio_coor.columns if 'hora' in col], axis=1, errors='ignore')\n",
    "\n",
    "\n",
    "\n",
    "print(df_precio_coor.shape)"
   ]
  },
  {
   "cell_type": "code",
   "execution_count": 15,
   "metadata": {},
   "outputs": [
    {
     "name": "stdout",
     "output_type": "stream",
     "text": [
      "Top 10 correlaciones con €/kwh:\n",
      "velmedia_1505             0.012853\n",
      "prec_inapreciable_1505    0.011212\n",
      "prec_log_1505             0.011212\n",
      "prec_valor_1505           0.011212\n",
      "dir_sin_3469A             0.009587\n",
      "dir_sin_0200E             0.008583\n",
      "velmedia_8019             0.007689\n",
      "racha_1505                0.007352\n",
      "dir_cos_4121              0.007001\n",
      "anio                      0.006963\n",
      "Name: €/kwh, dtype: float64\n",
      "\n",
      "Top 10 características más importantes según Random Forest:\n",
      "           feature  importance\n",
      "159   dir_sin_8175    0.102750\n",
      "8             anio    0.082773\n",
      "133  dir_sin_0200E    0.075554\n",
      "101      sol_3469A    0.067667\n",
      "140       sol_4121    0.066834\n",
      "10             dia    0.049641\n",
      "42    dir_sin_9170    0.048639\n",
      "76   velmedia_5514    0.048251\n",
      "86   velmedia_1505    0.047628\n",
      "87      racha_1505    0.040080\n"
     ]
    },
    {
     "data": {
      "image/png": "[encoded data removed]",
      "text/plain": [
       "<Figure size 1200x600 with 1 Axes>"
      ]
     },
     "metadata": {},
     "output_type": "display_data"
    }
   ],
   "source": [
    "# Calculamos la correlación con €/kwh\n",
    "correlations = df_precio_coor.corr()['€/kwh'].sort_values(ascending=False)\n",
    "\n",
    "# Mostramos las 10 variables más correlacionadas (excluyendo la propia €/kwh)\n",
    "print(\"Top 10 correlaciones con €/kwh:\")\n",
    "print(correlations[1:11])\n",
    "\n",
    "# Usamos Random Forest para ver la importancia de las características\n",
    "# Seleccionamos solo columnas numéricas\n",
    "numeric_cols = df_precio_coor.select_dtypes(include=['float64', 'int64']).columns\n",
    "X = df_precio_coor[numeric_cols].drop('€/kwh', axis=1)\n",
    "y = df_precio_coor['€/kwh']\n",
    "\n",
    "# Entrenamos un Random Forest\n",
    "rf = RandomForestRegressor(n_estimators=100, random_state=42)\n",
    "rf.fit(X, y)\n",
    "\n",
    "# Obtenemos la importancia de las características\n",
    "feature_importance = pd.DataFrame({\n",
    "    'feature': X.columns,\n",
    "    'importance': rf.feature_importances_\n",
    "})\n",
    "\n",
    "# Mostramos las 10 características más importantes según Random Forest\n",
    "print(\"\\nTop 10 características más importantes según Random Forest:\")\n",
    "print(feature_importance.sort_values('importance', ascending=False).head(10))\n",
    "\n",
    "# Visualizamos las 10 características más importantes\n",
    "plt.figure(figsize=(12, 6))\n",
    "top_10_features = feature_importance.sort_values('importance', ascending=False).head(10)\n",
    "plt.bar(top_10_features['feature'], top_10_features['importance'])\n",
    "plt.xticks(rotation=45, ha='right')\n",
    "plt.title('Top 10 características más importantes para predecir €/kwh')\n",
    "plt.tight_layout()\n",
    "plt.show()"
   ]
  },
  {
   "cell_type": "code",
   "execution_count": null,
   "metadata": {},
   "outputs": [],
   "source": [
    "# Ordenar por fecha\n",
    "df_precio = df_precio.sort_values('fecha')\n",
    "\n",
    "# Seleccionar todas las columnas numéricas excepto la variable objetivo\n",
    "X = df_precio_coor.drop('€/kwh', axis=1)\n",
    "y = df_precio['€/kwh']\n",
    "\n",
    "# Escalar los datos\n",
    "scaler = StandardScaler()\n",
    "X_scaled = scaler.fit_transform(X)\n"
   ]
  },
  {
   "cell_type": "code",
   "execution_count": null,
   "metadata": {},
   "outputs": [],
   "source": [
    "# Select top 20 most important features\n",
    "# Get temperature, sun and wind related features\n",
    "selected_features = [col for col in X.columns if any(x in col for x in ['tmed', 'sol', 'velmedia'])]\n",
    "X_reduced = X_scaled[:, [list(X.columns).index(feat) for feat in selected_features]]\n",
    "\n",
    "# Create sequences with reduced features\n",
    "def create_sequences(X, y, seq_length=72, batch_size=1000):\n",
    "    n_samples = len(X) - seq_length\n",
    "    X_seq = np.zeros((n_samples, seq_length, X.shape[1]))\n",
    "    y_seq = np.zeros(n_samples)\n",
    "    \n",
    "    for i in range(0, n_samples, batch_size):\n",
    "        end_idx = min(i + batch_size, n_samples)\n",
    "        for j in range(i, end_idx):\n",
    "            X_seq[j] = X[j:j+seq_length]\n",
    "            y_seq[j] = y[j+seq_length]\n",
    "            \n",
    "    return X_seq, y_seq\n",
    "\n",
    "X_seq, y_seq = create_sequences(X_reduced, y.values)\n",
    "\n",
    "# Print the shape of the sequences\n",
    "print(\"X_seq shape:\", X_seq.shape)\n",
    "print(\"y_seq shape:\", y_seq.shape)"
   ]
  },
  {
   "cell_type": "code",
   "execution_count": null,
   "metadata": {},
   "outputs": [],
   "source": [
    "selected_features"
   ]
  },
  {
   "cell_type": "code",
   "execution_count": null,
   "metadata": {},
   "outputs": [],
   "source": [
    "%pip install optuna"
   ]
  },
  {
   "cell_type": "code",
   "execution_count": null,
   "metadata": {},
   "outputs": [],
   "source": [
    "import optuna\n",
    "from sklearn.model_selection import TimeSeriesSplit\n",
    "from keras.models import Sequential\n",
    "from keras.layers import LSTM, Dense, Dropout, Input\n",
    "from sklearn.metrics import mean_squared_error\n",
    "import numpy as np\n",
    "\n",
    "# Definir función objetivo para Optuna\n",
    "def objective(trial):\n",
    "    # Definir el espacio de búsqueda de hiperparámetros\n",
    "    lstm_units = trial.suggest_int('lstm_units', 20, 64)\n",
    "    dropout_rate = trial.suggest_float('dropout_rate', 0.1, 0.5)\n",
    "    \n",
    "    # Inicializar TimeSeriesSplit\n",
    "    tscv = TimeSeriesSplit(n_splits=3)  # You can adjust the number of splits\n",
    "    \n",
    "    mse_scores = []\n",
    "    \n",
    "    # Loop through each fold in TimeSeriesSplit\n",
    "    for train_idx, val_idx in tscv.split(X_seq):\n",
    "        X_train, X_val = X_seq[train_idx], X_seq[val_idx]\n",
    "        y_train, y_val = y_seq[train_idx], y_seq[val_idx]\n",
    "        \n",
    "        # Definir el modelo LSTM con los hiperparámetros sugeridos\n",
    "        model = Sequential([\n",
    "            Input(shape=(72, len(selected_features))),  # Specify the input shape here\n",
    "            LSTM(lstm_units, activation='relu'),\n",
    "            Dropout(dropout_rate),\n",
    "            Dense(1)\n",
    "        ])\n",
    "        \n",
    "        # Compilar el modelo\n",
    "        model.compile(optimizer='adam', loss='mse')\n",
    "        \n",
    "        # Entrenar el modelo\n",
    "        model.fit(X_train, y_train, epochs=10, batch_size=16, verbose=0)\n",
    "        \n",
    "        # Evaluar el modelo en el conjunto de validación\n",
    "        y_pred = model.predict(X_val)\n",
    "        mse = mean_squared_error(y_val, y_pred)\n",
    "        mse_scores.append(mse)\n",
    "    \n",
    "    # Return the mean MSE across all folds\n",
    "    return np.mean(mse_scores)\n",
    "\n",
    "# Ejecutar la optimización con Optuna\n",
    "study = optuna.create_study(direction='minimize')\n",
    "study.optimize(objective, n_trials=10)\n",
    "\n",
    "# Imprimir los mejores hiperparámetros encontrados\n",
    "print(\"Mejores hiperparámetros:\")\n",
    "print(study.best_params)\n",
    "\n",
    "# Imprimir el mejor valor de la función objetivo\n",
    "print(\"Mejor MSE:\")\n",
    "print(study.best_value)\n",
    "\n",
    "# Entrenar el modelo final con los mejores hiperparámetros\n",
    "best_lstm_units = study.best_params['lstm_units']\n",
    "best_dropout_rate = study.best_params['dropout_rate']\n",
    "\n",
    "final_model = Sequential([\n",
    "    LSTM(best_lstm_units, input_shape=(72, len(selected_features)), activation='relu'),\n",
    "    Dropout(best_dropout_rate),\n",
    "    Dense(1)\n",
    "])\n",
    "\n",
    "final_model.compile(optimizer='adam', loss='mse')\n",
    "\n",
    "# Reentrenar con todos los datos\n",
    "final_model.fit(X_seq, y_seq, epochs=10, batch_size=32)\n",
    "\n",
    "# Validación cruzada con series temporales (usando el modelo final)\n",
    "tscv = TimeSeriesSplit(n_splits=3)\n",
    "results = {'LSTM_Optuna': {'mse': [], 'mae': [], 'r2': []}}\n",
    "\n",
    "for train_idx, test_idx in tscv.split(X_seq):\n",
    "    X_train, X_test = X_seq[train_idx], X_seq[test_idx]\n",
    "    y_train, y_test = y_seq[train_idx], y_seq[test_idx]\n",
    "    \n",
    "    # Usar el modelo entrenado con Optuna\n",
    "    y_pred = final_model.predict(X_test)\n",
    "    \n",
    "    # Calcular métricas\n",
    "    results['LSTM_Optuna']['mse'].append(mean_squared_error(y_test, y_pred))\n",
    "    results['LSTM_Optuna']['mae'].append(mean_absolute_error(y_test, y_pred))\n",
    "    results['LSTM_Optuna']['r2'].append(r2_score(y_test, y_pred))"
   ]
  },
  {
   "cell_type": "code",
   "execution_count": null,
   "metadata": {},
   "outputs": [],
   "source": [
    "# Mostrar resultados\n",
    "for model_name in results:\n",
    "    print(f\"\\nResultados para {model_name}:\")\n",
    "    print(f\"MSE medio: {np.mean(results[model_name]['mse']):.4f} ± {np.std(results[model_name]['mse']):.4f}\")\n",
    "    print(f\"MAE medio: {np.mean(results[model_name]['mae']):.4f} ± {np.std(results[model_name]['mae']):.4f}\")\n",
    "    print(f\"R2 medio: {np.mean(results[model_name]['r2']):.4f} ± {np.std(results[model_name]['r2']):.4f}\")\n",
    "\n",
    "# Visualizar comparación de modelos\n",
    "plt.figure(figsize=(10, 6))\n",
    "for model_name in results:\n",
    "    plt.plot(results[model_name]['mae'], label=model_name)\n",
    "plt.xlabel('Fold')\n",
    "plt.ylabel('MAE')\n",
    "plt.title('Comparación de MAE por modelo')\n",
    "plt.legend()\n",
    "plt.show()"
   ]
  }
 ],
 "metadata": {
  "kernelspec": {
   "display_name": "p4_venv",
   "language": "python",
   "name": "python3"
  },
  "language_info": {
   "codemirror_mode": {
    "name": "ipython",
    "version": 3
   },
   "file_extension": ".py",
   "mimetype": "text/x-python",
   "name": "python",
   "nbconvert_exporter": "python",
   "pygments_lexer": "ipython3",
   "version": "3.10.12"
  }
 },
 "nbformat": 4,
 "nbformat_minor": 2
}

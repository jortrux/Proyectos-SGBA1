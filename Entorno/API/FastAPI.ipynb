{
 "cells": [
  {
   "cell_type": "markdown",
   "metadata": {},
   "source": [
    "### Realizar predicciones en producción de un modelo de ml de mlflow con FastAPI"
   ]
  },
  {
   "cell_type": "code",
   "execution_count": 8,
   "metadata": {},
   "outputs": [
    {
     "name": "stdout",
     "output_type": "stream",
     "text": [
      "Collecting prophet\n",
      "  Downloading prophet-1.1.6-py3-none-win_amd64.whl.metadata (3.6 kB)\n",
      "Collecting cmdstanpy>=1.0.4 (from prophet)\n",
      "  Downloading cmdstanpy-1.2.5-py3-none-any.whl.metadata (4.0 kB)\n",
      "Requirement already satisfied: numpy>=1.15.4 in c:\\users\\joanb\\appdata\\roaming\\python\\python310\\site-packages (from prophet) (1.26.4)\n",
      "Requirement already satisfied: matplotlib>=2.0.0 in c:\\users\\joanb\\appdata\\roaming\\python\\python310\\site-packages (from prophet) (3.9.2)\n",
      "Requirement already satisfied: pandas>=1.0.4 in c:\\users\\joanb\\appdata\\roaming\\python\\python310\\site-packages (from prophet) (2.2.3)\n",
      "Collecting holidays<1,>=0.25 (from prophet)\n",
      "  Downloading holidays-0.67-py3-none-any.whl.metadata (27 kB)\n",
      "Requirement already satisfied: tqdm>=4.36.1 in c:\\users\\joanb\\appdata\\roaming\\python\\python310\\site-packages (from prophet) (4.67.1)\n",
      "Requirement already satisfied: importlib-resources in c:\\users\\joanb\\appdata\\roaming\\python\\python310\\site-packages (from prophet) (6.4.5)\n",
      "Collecting stanio<2.0.0,>=0.4.0 (from cmdstanpy>=1.0.4->prophet)\n",
      "  Downloading stanio-0.5.1-py3-none-any.whl.metadata (1.6 kB)\n",
      "Requirement already satisfied: python-dateutil in c:\\users\\joanb\\appdata\\roaming\\python\\python310\\site-packages (from holidays<1,>=0.25->prophet) (2.9.0.post0)\n",
      "Requirement already satisfied: contourpy>=1.0.1 in c:\\users\\joanb\\appdata\\roaming\\python\\python310\\site-packages (from matplotlib>=2.0.0->prophet) (1.3.1)\n",
      "Requirement already satisfied: cycler>=0.10 in c:\\users\\joanb\\appdata\\roaming\\python\\python310\\site-packages (from matplotlib>=2.0.0->prophet) (0.12.1)\n",
      "Requirement already satisfied: fonttools>=4.22.0 in c:\\users\\joanb\\appdata\\roaming\\python\\python310\\site-packages (from matplotlib>=2.0.0->prophet) (4.55.0)\n",
      "Requirement already satisfied: kiwisolver>=1.3.1 in c:\\users\\joanb\\appdata\\roaming\\python\\python310\\site-packages (from matplotlib>=2.0.0->prophet) (1.4.7)\n",
      "Requirement already satisfied: packaging>=20.0 in c:\\users\\joanb\\appdata\\roaming\\python\\python310\\site-packages (from matplotlib>=2.0.0->prophet) (24.2)\n",
      "Requirement already satisfied: pillow>=8 in c:\\users\\joanb\\appdata\\roaming\\python\\python310\\site-packages (from matplotlib>=2.0.0->prophet) (11.0.0)\n",
      "Requirement already satisfied: pyparsing>=2.3.1 in c:\\users\\joanb\\appdata\\roaming\\python\\python310\\site-packages (from matplotlib>=2.0.0->prophet) (3.2.0)\n",
      "Requirement already satisfied: pytz>=2020.1 in c:\\users\\joanb\\appdata\\roaming\\python\\python310\\site-packages (from pandas>=1.0.4->prophet) (2024.2)\n",
      "Requirement already satisfied: tzdata>=2022.7 in c:\\users\\joanb\\appdata\\roaming\\python\\python310\\site-packages (from pandas>=1.0.4->prophet) (2024.2)\n",
      "Requirement already satisfied: colorama in c:\\users\\joanb\\appdata\\roaming\\python\\python310\\site-packages (from tqdm>=4.36.1->prophet) (0.4.6)\n",
      "Requirement already satisfied: six>=1.5 in c:\\users\\joanb\\appdata\\roaming\\python\\python310\\site-packages (from python-dateutil->holidays<1,>=0.25->prophet) (1.16.0)\n",
      "Downloading prophet-1.1.6-py3-none-win_amd64.whl (13.3 MB)\n",
      "   ---------------------------------------- 0.0/13.3 MB ? eta -:--:--\n",
      "   ------------------ --------------------- 6.3/13.3 MB 35.1 MB/s eta 0:00:01\n",
      "   ---------------------------------------- 13.3/13.3 MB 39.8 MB/s eta 0:00:00\n",
      "Downloading cmdstanpy-1.2.5-py3-none-any.whl (94 kB)\n",
      "Downloading holidays-0.67-py3-none-any.whl (820 kB)\n",
      "   ---------------------------------------- 0.0/820.7 kB ? eta -:--:--\n",
      "   --------------------------------------- 820.7/820.7 kB 34.9 MB/s eta 0:00:00\n",
      "Downloading stanio-0.5.1-py3-none-any.whl (8.1 kB)\n",
      "Installing collected packages: stanio, holidays, cmdstanpy, prophet\n",
      "Successfully installed cmdstanpy-1.2.5 holidays-0.67 prophet-1.1.6 stanio-0.5.1\n"
     ]
    }
   ],
   "source": [
    "!pip install prophet"
   ]
  },
  {
   "cell_type": "code",
   "execution_count": null,
   "metadata": {},
   "outputs": [
    {
     "name": "stderr",
     "output_type": "stream",
     "text": [
      "Downloading artifacts: 100%|██████████| 5/5 [00:00<00:00, 10.55it/s]\n"
     ]
    },
    {
     "ename": "MlflowException",
     "evalue": "Model does not have the \"sklearn\" flavor",
     "output_type": "error",
     "traceback": [
      "\u001b[1;31m---------------------------------------------------------------------------\u001b[0m",
      "\u001b[1;31mKeyError\u001b[0m                                  Traceback (most recent call last)",
      "File \u001b[1;32m~\\AppData\\Roaming\\Python\\Python310\\site-packages\\mlflow\\utils\\model_utils.py:62\u001b[0m, in \u001b[0;36m_get_flavor_configuration\u001b[1;34m(model_path, flavor_name)\u001b[0m\n\u001b[0;32m     61\u001b[0m \u001b[38;5;28;01mtry\u001b[39;00m:\n\u001b[1;32m---> 62\u001b[0m     \u001b[38;5;28;01mreturn\u001b[39;00m \u001b[43mModel\u001b[49m\u001b[38;5;241;43m.\u001b[39;49m\u001b[43mload\u001b[49m\u001b[43m(\u001b[49m\u001b[43mmodel_path\u001b[49m\u001b[43m)\u001b[49m\u001b[38;5;241;43m.\u001b[39;49m\u001b[43mflavors\u001b[49m\u001b[43m[\u001b[49m\u001b[43mflavor_name\u001b[49m\u001b[43m]\u001b[49m\n\u001b[0;32m     63\u001b[0m \u001b[38;5;28;01mexcept\u001b[39;00m \u001b[38;5;167;01mKeyError\u001b[39;00m \u001b[38;5;28;01mas\u001b[39;00m ex:\n",
      "\u001b[1;31mKeyError\u001b[0m: 'sklearn'",
      "\nThe above exception was the direct cause of the following exception:\n",
      "\u001b[1;31mMlflowException\u001b[0m                           Traceback (most recent call last)",
      "Cell \u001b[1;32mIn[9], line 15\u001b[0m\n\u001b[0;32m     13\u001b[0m test_version \u001b[38;5;241m=\u001b[39m \u001b[38;5;124m\"\u001b[39m\u001b[38;5;124m3\u001b[39m\u001b[38;5;124m\"\u001b[39m  \n\u001b[0;32m     14\u001b[0m model_uri \u001b[38;5;241m=\u001b[39m \u001b[38;5;124mf\u001b[39m\u001b[38;5;124m\"\u001b[39m\u001b[38;5;124mmodels:/\u001b[39m\u001b[38;5;132;01m{\u001b[39;00mMODEL_NAME\u001b[38;5;132;01m}\u001b[39;00m\u001b[38;5;124m/\u001b[39m\u001b[38;5;132;01m{\u001b[39;00mtest_version\u001b[38;5;132;01m}\u001b[39;00m\u001b[38;5;124m\"\u001b[39m\n\u001b[1;32m---> 15\u001b[0m model \u001b[38;5;241m=\u001b[39m \u001b[43mmlflow\u001b[49m\u001b[38;5;241;43m.\u001b[39;49m\u001b[43msklearn\u001b[49m\u001b[38;5;241;43m.\u001b[39;49m\u001b[43mload_model\u001b[49m\u001b[43m(\u001b[49m\u001b[43mmodel_uri\u001b[49m\u001b[43m)\u001b[49m\n\u001b[0;32m     16\u001b[0m \u001b[38;5;28;01mtry\u001b[39;00m:\n\u001b[0;32m     17\u001b[0m     model \u001b[38;5;241m=\u001b[39m mlflow\u001b[38;5;241m.\u001b[39mpyfunc\u001b[38;5;241m.\u001b[39mload_model(model_uri)\n",
      "File \u001b[1;32m~\\AppData\\Roaming\\Python\\Python310\\site-packages\\mlflow\\sklearn\\__init__.py:634\u001b[0m, in \u001b[0;36mload_model\u001b[1;34m(model_uri, dst_path)\u001b[0m\n\u001b[0;32m    599\u001b[0m \u001b[38;5;250m\u001b[39m\u001b[38;5;124;03m\"\"\"\u001b[39;00m\n\u001b[0;32m    600\u001b[0m \u001b[38;5;124;03mLoad a scikit-learn model from a local file or a run.\u001b[39;00m\n\u001b[0;32m    601\u001b[0m \n\u001b[1;32m   (...)\u001b[0m\n\u001b[0;32m    631\u001b[0m \u001b[38;5;124;03m    predictions = sk_model.predict(pandas_df)\u001b[39;00m\n\u001b[0;32m    632\u001b[0m \u001b[38;5;124;03m\"\"\"\u001b[39;00m\n\u001b[0;32m    633\u001b[0m local_model_path \u001b[38;5;241m=\u001b[39m _download_artifact_from_uri(artifact_uri\u001b[38;5;241m=\u001b[39mmodel_uri, output_path\u001b[38;5;241m=\u001b[39mdst_path)\n\u001b[1;32m--> 634\u001b[0m flavor_conf \u001b[38;5;241m=\u001b[39m \u001b[43m_get_flavor_configuration\u001b[49m\u001b[43m(\u001b[49m\u001b[43mmodel_path\u001b[49m\u001b[38;5;241;43m=\u001b[39;49m\u001b[43mlocal_model_path\u001b[49m\u001b[43m,\u001b[49m\u001b[43m \u001b[49m\u001b[43mflavor_name\u001b[49m\u001b[38;5;241;43m=\u001b[39;49m\u001b[43mFLAVOR_NAME\u001b[49m\u001b[43m)\u001b[49m\n\u001b[0;32m    635\u001b[0m _add_code_from_conf_to_system_path(local_model_path, flavor_conf)\n\u001b[0;32m    636\u001b[0m sklearn_model_artifacts_path \u001b[38;5;241m=\u001b[39m os\u001b[38;5;241m.\u001b[39mpath\u001b[38;5;241m.\u001b[39mjoin(local_model_path, flavor_conf[\u001b[38;5;124m\"\u001b[39m\u001b[38;5;124mpickled_model\u001b[39m\u001b[38;5;124m\"\u001b[39m])\n",
      "File \u001b[1;32m~\\AppData\\Roaming\\Python\\Python310\\site-packages\\mlflow\\utils\\model_utils.py:64\u001b[0m, in \u001b[0;36m_get_flavor_configuration\u001b[1;34m(model_path, flavor_name)\u001b[0m\n\u001b[0;32m     62\u001b[0m     \u001b[38;5;28;01mreturn\u001b[39;00m Model\u001b[38;5;241m.\u001b[39mload(model_path)\u001b[38;5;241m.\u001b[39mflavors[flavor_name]\n\u001b[0;32m     63\u001b[0m \u001b[38;5;28;01mexcept\u001b[39;00m \u001b[38;5;167;01mKeyError\u001b[39;00m \u001b[38;5;28;01mas\u001b[39;00m ex:\n\u001b[1;32m---> 64\u001b[0m     \u001b[38;5;28;01mraise\u001b[39;00m MlflowException(\n\u001b[0;32m     65\u001b[0m         \u001b[38;5;124mf\u001b[39m\u001b[38;5;124m'\u001b[39m\u001b[38;5;124mModel does not have the \u001b[39m\u001b[38;5;124m\"\u001b[39m\u001b[38;5;132;01m{\u001b[39;00mflavor_name\u001b[38;5;132;01m}\u001b[39;00m\u001b[38;5;124m\"\u001b[39m\u001b[38;5;124m flavor\u001b[39m\u001b[38;5;124m'\u001b[39m, RESOURCE_DOES_NOT_EXIST\n\u001b[0;32m     66\u001b[0m     ) \u001b[38;5;28;01mfrom\u001b[39;00m \u001b[38;5;21;01mex\u001b[39;00m\n",
      "\u001b[1;31mMlflowException\u001b[0m: Model does not have the \"sklearn\" flavor"
     ]
    }
   ],
   "source": [
    "from fastapi import FastAPI, HTTPException\n",
    "import mlflow.pyfunc\n",
    "import pandas as pd\n",
    "import os\n",
    "\n",
    "# Configurar las credenciales de MLflow en Dagshub\n",
    "DAGSHUB_USERNAME = os.getenv(\"DAGSHUB_USERNAME\")\n",
    "DAGSHUB_TOKEN = os.getenv(\"DAGSHUB_TOKEN\")\n",
    "os.environ[\"MLFLOW_TRACKING_USERNAME\"] = DAGSHUB_USERNAME\n",
    "os.environ[\"MLFLOW_TRACKING_PASSWORD\"] = DAGSHUB_TOKEN\n",
    "\n",
    "\n",
    "\n",
    "# Cargar el modelo desde MLflow\n",
    "MODEL_NAME = \"Prophet-Precio-Luz\" \n",
    "test_version = \"3\"  \n",
    "model_uri = f\"models:/{MODEL_NAME}/{test_version}\"\n",
    "model = mlflow.sklearn.load_model(model_uri)\n",
    "try:\n",
    "    model = mlflow.pyfunc.load_model(model_uri)\n",
    "except Exception as e:\n",
    "    print(f\"Error al cargar el modelo: {e}\")\n",
    "    model = None\n",
    "\n",
    "# Iniciar la aplicación FastAPI\n",
    "app = FastAPI()\n",
    "\n",
    "@app.get(\"/\")\n",
    "def home():\n",
    "    return {\"message\": \"API de predicción con MLflow y FastAPI\"}\n",
    "\n",
    "@app.post(\"/predict\")\n",
    "def predict(data: dict):\n",
    "    if model is None:\n",
    "        raise HTTPException(status_code=500, detail=\"Modelo no disponible\")\n",
    "    \n",
    "    try:\n",
    "        df = pd.DataFrame([data])  # Convertir datos a DataFrame\n",
    "        prediction = model.predict(df)\n",
    "        return {\"prediction\": prediction.tolist()}\n",
    "    except Exception as e:\n",
    "        raise HTTPException(status_code=400, detail=f\"Error en predicción: {e}\")"
   ]
  },
  {
   "cell_type": "code",
   "execution_count": 6,
   "metadata": {},
   "outputs": [
    {
     "name": "stdout",
     "output_type": "stream",
     "text": [
      "Requirement already satisfied: fastapi in c:\\users\\joanb\\appdata\\roaming\\python\\python310\\site-packages (0.110.0)\n",
      "Requirement already satisfied: uvicorn in c:\\users\\joanb\\appdata\\roaming\\python\\python310\\site-packages (0.34.0)\n",
      "Requirement already satisfied: pydantic!=1.8,!=1.8.1,!=2.0.0,!=2.0.1,!=2.1.0,<3.0.0,>=1.7.4 in c:\\users\\joanb\\appdata\\roaming\\python\\python310\\site-packages (from fastapi) (2.7.1)\n",
      "Requirement already satisfied: starlette<0.37.0,>=0.36.3 in c:\\users\\joanb\\appdata\\roaming\\python\\python310\\site-packages (from fastapi) (0.36.3)\n",
      "Requirement already satisfied: typing-extensions>=4.8.0 in c:\\users\\joanb\\appdata\\roaming\\python\\python310\\site-packages (from fastapi) (4.12.2)\n",
      "Requirement already satisfied: click>=7.0 in c:\\users\\joanb\\appdata\\roaming\\python\\python310\\site-packages (from uvicorn) (8.1.8)\n",
      "Requirement already satisfied: h11>=0.8 in c:\\users\\joanb\\appdata\\roaming\\python\\python310\\site-packages (from uvicorn) (0.14.0)\n",
      "Requirement already satisfied: colorama in c:\\users\\joanb\\appdata\\roaming\\python\\python310\\site-packages (from click>=7.0->uvicorn) (0.4.6)\n",
      "Requirement already satisfied: annotated-types>=0.4.0 in c:\\users\\joanb\\appdata\\roaming\\python\\python310\\site-packages (from pydantic!=1.8,!=1.8.1,!=2.0.0,!=2.0.1,!=2.1.0,<3.0.0,>=1.7.4->fastapi) (0.7.0)\n",
      "Requirement already satisfied: pydantic-core==2.18.2 in c:\\users\\joanb\\appdata\\roaming\\python\\python310\\site-packages (from pydantic!=1.8,!=1.8.1,!=2.0.0,!=2.0.1,!=2.1.0,<3.0.0,>=1.7.4->fastapi) (2.18.2)\n",
      "Requirement already satisfied: anyio<5,>=3.4.0 in c:\\users\\joanb\\appdata\\roaming\\python\\python310\\site-packages (from starlette<0.37.0,>=0.36.3->fastapi) (4.7.0)\n",
      "Requirement already satisfied: exceptiongroup>=1.0.2 in c:\\users\\joanb\\appdata\\roaming\\python\\python310\\site-packages (from anyio<5,>=3.4.0->starlette<0.37.0,>=0.36.3->fastapi) (1.2.2)\n",
      "Requirement already satisfied: idna>=2.8 in c:\\users\\joanb\\appdata\\roaming\\python\\python310\\site-packages (from anyio<5,>=3.4.0->starlette<0.37.0,>=0.36.3->fastapi) (3.10)\n",
      "Requirement already satisfied: sniffio>=1.1 in c:\\users\\joanb\\appdata\\roaming\\python\\python310\\site-packages (from anyio<5,>=3.4.0->starlette<0.37.0,>=0.36.3->fastapi) (1.3.1)\n",
      "Collecting dagshub\n",
      "  Downloading dagshub-0.5.8-py3-none-any.whl.metadata (12 kB)\n",
      "Requirement already satisfied: PyYAML>=5 in c:\\users\\joanb\\appdata\\roaming\\python\\python310\\site-packages (from dagshub) (6.0.2)\n",
      "Collecting appdirs>=1.4.4 (from dagshub)\n",
      "  Downloading appdirs-1.4.4-py2.py3-none-any.whl.metadata (9.0 kB)\n",
      "Requirement already satisfied: click>=8.0.4 in c:\\users\\joanb\\appdata\\roaming\\python\\python310\\site-packages (from dagshub) (8.1.8)\n",
      "Requirement already satisfied: httpx>=0.23.0 in c:\\users\\joanb\\appdata\\roaming\\python\\python310\\site-packages (from dagshub) (0.28.1)\n",
      "Requirement already satisfied: GitPython>=3.1.29 in c:\\users\\joanb\\appdata\\roaming\\python\\python310\\site-packages (from dagshub) (3.1.44)\n",
      "Collecting rich>=13.1.0 (from dagshub)\n",
      "  Downloading rich-13.9.4-py3-none-any.whl.metadata (18 kB)\n",
      "Collecting dacite~=1.6.0 (from dagshub)\n",
      "  Downloading dacite-1.6.0-py3-none-any.whl.metadata (14 kB)\n",
      "Collecting tenacity>=8.2.2 (from dagshub)\n",
      "  Downloading tenacity-9.0.0-py3-none-any.whl.metadata (1.2 kB)\n",
      "Collecting gql[requests] (from dagshub)\n",
      "  Downloading gql-3.5.1-py2.py3-none-any.whl.metadata (9.4 kB)\n",
      "Collecting dataclasses-json (from dagshub)\n",
      "  Downloading dataclasses_json-0.6.7-py3-none-any.whl.metadata (25 kB)\n",
      "Requirement already satisfied: pandas in c:\\users\\joanb\\appdata\\roaming\\python\\python310\\site-packages (from dagshub) (2.2.3)\n",
      "Collecting treelib>=1.6.4 (from dagshub)\n",
      "  Downloading treelib-1.7.0-py3-none-any.whl.metadata (1.3 kB)\n",
      "Collecting pathvalidate>=3.0.0 (from dagshub)\n",
      "  Downloading pathvalidate-3.2.3-py3-none-any.whl.metadata (12 kB)\n",
      "Requirement already satisfied: python-dateutil in c:\\users\\joanb\\appdata\\roaming\\python\\python310\\site-packages (from dagshub) (2.9.0.post0)\n",
      "Collecting boto3 (from dagshub)\n",
      "  Downloading boto3-1.37.1-py3-none-any.whl.metadata (6.6 kB)\n",
      "Collecting semver (from dagshub)\n",
      "  Downloading semver-3.0.4-py3-none-any.whl.metadata (6.8 kB)\n",
      "Collecting dagshub-annotation-converter>=0.1.4 (from dagshub)\n",
      "  Downloading dagshub_annotation_converter-0.1.5-py3-none-any.whl.metadata (2.5 kB)\n",
      "Requirement already satisfied: colorama in c:\\users\\joanb\\appdata\\roaming\\python\\python310\\site-packages (from click>=8.0.4->dagshub) (0.4.6)\n",
      "Collecting lxml (from dagshub-annotation-converter>=0.1.4->dagshub)\n",
      "  Downloading lxml-5.3.1-cp310-cp310-win_amd64.whl.metadata (3.8 kB)\n",
      "Requirement already satisfied: pillow in c:\\users\\joanb\\appdata\\roaming\\python\\python310\\site-packages (from dagshub-annotation-converter>=0.1.4->dagshub) (11.0.0)\n",
      "Requirement already satisfied: pydantic>=2.0.0 in c:\\users\\joanb\\appdata\\roaming\\python\\python310\\site-packages (from dagshub-annotation-converter>=0.1.4->dagshub) (2.7.1)\n",
      "Requirement already satisfied: typing-extensions in c:\\users\\joanb\\appdata\\roaming\\python\\python310\\site-packages (from dagshub-annotation-converter>=0.1.4->dagshub) (4.12.2)\n",
      "Requirement already satisfied: gitdb<5,>=4.0.1 in c:\\users\\joanb\\appdata\\roaming\\python\\python310\\site-packages (from GitPython>=3.1.29->dagshub) (4.0.12)\n",
      "Requirement already satisfied: anyio in c:\\users\\joanb\\appdata\\roaming\\python\\python310\\site-packages (from httpx>=0.23.0->dagshub) (4.7.0)\n",
      "Requirement already satisfied: certifi in c:\\users\\joanb\\appdata\\roaming\\python\\python310\\site-packages (from httpx>=0.23.0->dagshub) (2024.8.30)\n",
      "Requirement already satisfied: httpcore==1.* in c:\\users\\joanb\\appdata\\roaming\\python\\python310\\site-packages (from httpx>=0.23.0->dagshub) (1.0.7)\n",
      "Requirement already satisfied: idna in c:\\users\\joanb\\appdata\\roaming\\python\\python310\\site-packages (from httpx>=0.23.0->dagshub) (3.10)\n",
      "Requirement already satisfied: h11<0.15,>=0.13 in c:\\users\\joanb\\appdata\\roaming\\python\\python310\\site-packages (from httpcore==1.*->httpx>=0.23.0->dagshub) (0.14.0)\n",
      "Collecting markdown-it-py>=2.2.0 (from rich>=13.1.0->dagshub)\n",
      "  Downloading markdown_it_py-3.0.0-py3-none-any.whl.metadata (6.9 kB)\n",
      "Requirement already satisfied: pygments<3.0.0,>=2.13.0 in c:\\users\\joanb\\appdata\\roaming\\python\\python310\\site-packages (from rich>=13.1.0->dagshub) (2.18.0)\n",
      "Requirement already satisfied: six in c:\\users\\joanb\\appdata\\roaming\\python\\python310\\site-packages (from treelib>=1.6.4->dagshub) (1.16.0)\n",
      "Collecting botocore<1.38.0,>=1.37.1 (from boto3->dagshub)\n",
      "  Downloading botocore-1.37.1-py3-none-any.whl.metadata (5.7 kB)\n",
      "Collecting jmespath<2.0.0,>=0.7.1 (from boto3->dagshub)\n",
      "  Downloading jmespath-1.0.1-py3-none-any.whl.metadata (7.6 kB)\n",
      "Collecting s3transfer<0.12.0,>=0.11.0 (from boto3->dagshub)\n",
      "  Downloading s3transfer-0.11.2-py3-none-any.whl.metadata (1.7 kB)\n",
      "Collecting marshmallow<4.0.0,>=3.18.0 (from dataclasses-json->dagshub)\n",
      "  Downloading marshmallow-3.26.1-py3-none-any.whl.metadata (7.3 kB)\n",
      "Collecting typing-inspect<1,>=0.4.0 (from dataclasses-json->dagshub)\n",
      "  Downloading typing_inspect-0.9.0-py3-none-any.whl.metadata (1.5 kB)\n",
      "Collecting graphql-core<3.2.4,>=3.2 (from gql[requests]->dagshub)\n",
      "  Downloading graphql_core-3.2.3-py3-none-any.whl.metadata (10 kB)\n",
      "Requirement already satisfied: yarl<2.0,>=1.6 in c:\\users\\joanb\\appdata\\roaming\\python\\python310\\site-packages (from gql[requests]->dagshub) (1.18.3)\n",
      "Collecting backoff<3.0,>=1.11.1 (from gql[requests]->dagshub)\n",
      "  Downloading backoff-2.2.1-py3-none-any.whl.metadata (14 kB)\n",
      "Requirement already satisfied: requests<3,>=2.26 in c:\\users\\joanb\\appdata\\roaming\\python\\python310\\site-packages (from gql[requests]->dagshub) (2.32.3)\n",
      "Collecting requests-toolbelt<2,>=1.0.0 (from gql[requests]->dagshub)\n",
      "  Downloading requests_toolbelt-1.0.0-py2.py3-none-any.whl.metadata (14 kB)\n",
      "Requirement already satisfied: numpy>=1.22.4 in c:\\users\\joanb\\appdata\\roaming\\python\\python310\\site-packages (from pandas->dagshub) (1.26.4)\n",
      "Requirement already satisfied: pytz>=2020.1 in c:\\users\\joanb\\appdata\\roaming\\python\\python310\\site-packages (from pandas->dagshub) (2024.2)\n",
      "Requirement already satisfied: tzdata>=2022.7 in c:\\users\\joanb\\appdata\\roaming\\python\\python310\\site-packages (from pandas->dagshub) (2024.2)\n",
      "Requirement already satisfied: exceptiongroup>=1.0.2 in c:\\users\\joanb\\appdata\\roaming\\python\\python310\\site-packages (from anyio->httpx>=0.23.0->dagshub) (1.2.2)\n",
      "Requirement already satisfied: sniffio>=1.1 in c:\\users\\joanb\\appdata\\roaming\\python\\python310\\site-packages (from anyio->httpx>=0.23.0->dagshub) (1.3.1)\n",
      "Requirement already satisfied: urllib3!=2.2.0,<3,>=1.25.4 in c:\\users\\joanb\\appdata\\roaming\\python\\python310\\site-packages (from botocore<1.38.0,>=1.37.1->boto3->dagshub) (2.2.3)\n",
      "Requirement already satisfied: smmap<6,>=3.0.1 in c:\\users\\joanb\\appdata\\roaming\\python\\python310\\site-packages (from gitdb<5,>=4.0.1->GitPython>=3.1.29->dagshub) (5.0.2)\n",
      "Collecting mdurl~=0.1 (from markdown-it-py>=2.2.0->rich>=13.1.0->dagshub)\n",
      "  Downloading mdurl-0.1.2-py3-none-any.whl.metadata (1.6 kB)\n",
      "Requirement already satisfied: packaging>=17.0 in c:\\users\\joanb\\appdata\\roaming\\python\\python310\\site-packages (from marshmallow<4.0.0,>=3.18.0->dataclasses-json->dagshub) (24.2)\n",
      "Requirement already satisfied: annotated-types>=0.4.0 in c:\\users\\joanb\\appdata\\roaming\\python\\python310\\site-packages (from pydantic>=2.0.0->dagshub-annotation-converter>=0.1.4->dagshub) (0.7.0)\n",
      "Requirement already satisfied: pydantic-core==2.18.2 in c:\\users\\joanb\\appdata\\roaming\\python\\python310\\site-packages (from pydantic>=2.0.0->dagshub-annotation-converter>=0.1.4->dagshub) (2.18.2)\n",
      "Requirement already satisfied: charset-normalizer<4,>=2 in c:\\users\\joanb\\appdata\\roaming\\python\\python310\\site-packages (from requests<3,>=2.26->gql[requests]->dagshub) (3.4.0)\n",
      "Collecting mypy-extensions>=0.3.0 (from typing-inspect<1,>=0.4.0->dataclasses-json->dagshub)\n",
      "  Downloading mypy_extensions-1.0.0-py3-none-any.whl.metadata (1.1 kB)\n",
      "Requirement already satisfied: multidict>=4.0 in c:\\users\\joanb\\appdata\\roaming\\python\\python310\\site-packages (from yarl<2.0,>=1.6->gql[requests]->dagshub) (6.1.0)\n",
      "Requirement already satisfied: propcache>=0.2.0 in c:\\users\\joanb\\appdata\\roaming\\python\\python310\\site-packages (from yarl<2.0,>=1.6->gql[requests]->dagshub) (0.2.1)\n",
      "Downloading dagshub-0.5.8-py3-none-any.whl (259 kB)\n",
      "Downloading appdirs-1.4.4-py2.py3-none-any.whl (9.6 kB)\n",
      "Downloading dacite-1.6.0-py3-none-any.whl (12 kB)\n",
      "Downloading dagshub_annotation_converter-0.1.5-py3-none-any.whl (33 kB)\n",
      "Downloading pathvalidate-3.2.3-py3-none-any.whl (24 kB)\n",
      "Downloading rich-13.9.4-py3-none-any.whl (242 kB)\n",
      "Downloading tenacity-9.0.0-py3-none-any.whl (28 kB)\n",
      "Downloading treelib-1.7.0-py3-none-any.whl (18 kB)\n",
      "Downloading boto3-1.37.1-py3-none-any.whl (139 kB)\n",
      "Downloading dataclasses_json-0.6.7-py3-none-any.whl (28 kB)\n",
      "Downloading semver-3.0.4-py3-none-any.whl (17 kB)\n",
      "Downloading backoff-2.2.1-py3-none-any.whl (15 kB)\n",
      "Downloading botocore-1.37.1-py3-none-any.whl (13.4 MB)\n",
      "   ---------------------------------------- 0.0/13.4 MB ? eta -:--:--\n",
      "   -------------- ------------------------- 5.0/13.4 MB 25.1 MB/s eta 0:00:01\n",
      "   ---------------------------------------- 13.4/13.4 MB 39.9 MB/s eta 0:00:00\n",
      "Downloading graphql_core-3.2.3-py3-none-any.whl (202 kB)\n",
      "Downloading jmespath-1.0.1-py3-none-any.whl (20 kB)\n",
      "Downloading markdown_it_py-3.0.0-py3-none-any.whl (87 kB)\n",
      "Downloading marshmallow-3.26.1-py3-none-any.whl (50 kB)\n",
      "Downloading requests_toolbelt-1.0.0-py2.py3-none-any.whl (54 kB)\n",
      "Downloading s3transfer-0.11.2-py3-none-any.whl (84 kB)\n",
      "Downloading typing_inspect-0.9.0-py3-none-any.whl (8.8 kB)\n",
      "Downloading gql-3.5.1-py2.py3-none-any.whl (74 kB)\n",
      "Downloading lxml-5.3.1-cp310-cp310-win_amd64.whl (3.8 MB)\n",
      "   ---------------------------------------- 0.0/3.8 MB ? eta -:--:--\n",
      "   ---------------------------------------- 3.8/3.8 MB 38.1 MB/s eta 0:00:00\n",
      "Downloading mdurl-0.1.2-py3-none-any.whl (10.0 kB)\n",
      "Downloading mypy_extensions-1.0.0-py3-none-any.whl (4.7 kB)\n",
      "Installing collected packages: appdirs, treelib, tenacity, semver, pathvalidate, mypy-extensions, mdurl, marshmallow, lxml, jmespath, graphql-core, dacite, backoff, typing-inspect, requests-toolbelt, markdown-it-py, botocore, s3transfer, rich, gql, dataclasses-json, dagshub-annotation-converter, boto3, dagshub\n",
      "  Attempting uninstall: graphql-core\n",
      "    Found existing installation: graphql-core 3.2.6\n",
      "    Uninstalling graphql-core-3.2.6:\n",
      "      Successfully uninstalled graphql-core-3.2.6\n",
      "Successfully installed appdirs-1.4.4 backoff-2.2.1 boto3-1.37.1 botocore-1.37.1 dacite-1.6.0 dagshub-0.5.8 dagshub-annotation-converter-0.1.5 dataclasses-json-0.6.7 gql-3.5.1 graphql-core-3.2.3 jmespath-1.0.1 lxml-5.3.1 markdown-it-py-3.0.0 marshmallow-3.26.1 mdurl-0.1.2 mypy-extensions-1.0.0 pathvalidate-3.2.3 requests-toolbelt-1.0.0 rich-13.9.4 s3transfer-0.11.2 semver-3.0.4 tenacity-9.0.0 treelib-1.7.0 typing-inspect-0.9.0\n"
     ]
    }
   ],
   "source": [
    "!pip install fastapi uvicorn\n",
    "!pip install dagshub"
   ]
  },
  {
   "cell_type": "code",
   "execution_count": 11,
   "metadata": {},
   "outputs": [
    {
     "name": "stdout",
     "output_type": "stream",
     "text": [
      "Collecting defusedxml\n",
      "  Downloading defusedxml-0.7.1-py2.py3-none-any.whl.metadata (32 kB)\n",
      "Downloading defusedxml-0.7.1-py2.py3-none-any.whl (25 kB)\n",
      "Installing collected packages: defusedxml\n",
      "Successfully installed defusedxml-0.7.1\n"
     ]
    }
   ],
   "source": [
    "!pip install defusedxml "
   ]
  },
  {
   "cell_type": "code",
   "execution_count": 15,
   "metadata": {},
   "outputs": [
    {
     "name": "stdout",
     "output_type": "stream",
     "text": [
      "Collecting matplotlib==3.10.0\n",
      "  Downloading matplotlib-3.10.0-cp310-cp310-win_amd64.whl.metadata (11 kB)\n",
      "Requirement already satisfied: contourpy>=1.0.1 in c:\\users\\joanb\\appdata\\roaming\\python\\python310\\site-packages (from matplotlib==3.10.0) (1.3.1)\n",
      "Requirement already satisfied: cycler>=0.10 in c:\\users\\joanb\\appdata\\roaming\\python\\python310\\site-packages (from matplotlib==3.10.0) (0.12.1)\n",
      "Requirement already satisfied: fonttools>=4.22.0 in c:\\users\\joanb\\appdata\\roaming\\python\\python310\\site-packages (from matplotlib==3.10.0) (4.55.0)\n",
      "Requirement already satisfied: kiwisolver>=1.3.1 in c:\\users\\joanb\\appdata\\roaming\\python\\python310\\site-packages (from matplotlib==3.10.0) (1.4.7)\n",
      "Requirement already satisfied: numpy>=1.23 in c:\\users\\joanb\\appdata\\roaming\\python\\python310\\site-packages (from matplotlib==3.10.0) (1.26.4)\n",
      "Requirement already satisfied: packaging>=20.0 in c:\\users\\joanb\\appdata\\roaming\\python\\python310\\site-packages (from matplotlib==3.10.0) (24.2)\n",
      "Requirement already satisfied: pillow>=8 in c:\\users\\joanb\\appdata\\roaming\\python\\python310\\site-packages (from matplotlib==3.10.0) (11.0.0)\n",
      "Requirement already satisfied: pyparsing>=2.3.1 in c:\\users\\joanb\\appdata\\roaming\\python\\python310\\site-packages (from matplotlib==3.10.0) (3.2.0)\n",
      "Requirement already satisfied: python-dateutil>=2.7 in c:\\users\\joanb\\appdata\\roaming\\python\\python310\\site-packages (from matplotlib==3.10.0) (2.9.0.post0)\n",
      "Requirement already satisfied: six>=1.5 in c:\\users\\joanb\\appdata\\roaming\\python\\python310\\site-packages (from python-dateutil>=2.7->matplotlib==3.10.0) (1.16.0)\n",
      "Downloading matplotlib-3.10.0-cp310-cp310-win_amd64.whl (8.0 MB)\n",
      "   ---------------------------------------- 0.0/8.0 MB ? eta -:--:--\n",
      "   ---------------------- ----------------- 4.5/8.0 MB 26.7 MB/s eta 0:00:01\n",
      "   ---------------------------------------- 8.0/8.0 MB 33.0 MB/s eta 0:00:00\n",
      "Installing collected packages: matplotlib\n",
      "  Attempting uninstall: matplotlib\n",
      "    Found existing installation: matplotlib 3.9.2\n",
      "    Uninstalling matplotlib-3.9.2:\n",
      "      Successfully uninstalled matplotlib-3.9.2\n",
      "Successfully installed matplotlib-3.10.0\n"
     ]
    },
    {
     "name": "stderr",
     "output_type": "stream",
     "text": [
      "  WARNING: Failed to remove contents in a temporary directory 'C:\\Users\\joanb\\AppData\\Roaming\\Python\\Python310\\site-packages\\~atplotlib'.\n",
      "  You can safely remove it manually.\n"
     ]
    }
   ],
   "source": [
    "!pip install matplotlib==3.10.0"
   ]
  },
  {
   "cell_type": "code",
   "execution_count": 18,
   "metadata": {},
   "outputs": [
    {
     "data": {
      "text/html": [
       "<pre style=\"white-space:pre;overflow-x:auto;line-height:normal;font-family:Menlo,'DejaVu Sans Mono',consolas,'Courier New',monospace\">Initialized MLflow to track repo <span style=\"color: #008000; text-decoration-color: #008000\">\"auditoria.SGBA1/SGBA1-smartgrids\"</span>\n",
       "</pre>\n"
      ],
      "text/plain": [
       "Initialized MLflow to track repo \u001b[32m\"auditoria.SGBA1/SGBA1-smartgrids\"\u001b[0m\n"
      ]
     },
     "metadata": {},
     "output_type": "display_data"
    },
    {
     "data": {
      "text/html": [
       "<pre style=\"white-space:pre;overflow-x:auto;line-height:normal;font-family:Menlo,'DejaVu Sans Mono',consolas,'Courier New',monospace\">Repository auditoria.SGBA1/SGBA1-smartgrids initialized!\n",
       "</pre>\n"
      ],
      "text/plain": [
       "Repository auditoria.SGBA1/SGBA1-smartgrids initialized!\n"
      ]
     },
     "metadata": {},
     "output_type": "display_data"
    },
    {
     "name": "stderr",
     "output_type": "stream",
     "text": [
      "Downloading artifacts: 100%|██████████| 5/5 [00:00<00:00, 12.82it/s]\n"
     ]
    }
   ],
   "source": [
    "from fastapi import FastAPI, HTTPException\n",
    "import pandas as pd\n",
    "import mlflow.pyfunc\n",
    "import dagshub\n",
    "\n",
    "# Configurar DAGsHub con MLflow antes de cargar el modelo\n",
    "dagshub.init(repo_owner='auditoria.SGBA1', repo_name='SGBA1-smartgrids', mlflow=True)\n",
    "mlflow.set_tracking_uri(\"https://dagshub.com/auditoria.SGBA1/SGBA1-smartgrids.mlflow\")\n",
    "\n",
    "# Definir el nombre del modelo registrado\n",
    "model_name = \"Prophet-Precio-Luz\"\n",
    "model_version = 2  # Ajustar versión si es necesario\n",
    "\n",
    "# URI del modelo en MLflow\n",
    "model_uri = f\"models:/{model_name}/{model_version}\"\n",
    "\n",
    "# Cargar el modelo Prophet desde MLflow\n",
    "try:\n",
    "    loaded_model = mlflow.pyfunc.load_model(model_uri)\n",
    "except Exception as e:\n",
    "    print(f\"Error al cargar el modelo: {e}\")\n",
    "    loaded_model = None\n",
    "\n",
    "# Iniciar FastAPI\n",
    "app = FastAPI()\n",
    "\n",
    "@app.get(\"/\")\n",
    "def home():\n",
    "    return {\"message\": \"API de predicción con MLflow y FastAPI\"}\n",
    "\n",
    "@app.post(\"/predict\")\n",
    "def predict(data: dict):\n",
    "    if loaded_model is None:\n",
    "        raise HTTPException(status_code=500, detail=\"Modelo no disponible\")\n",
    "    \n",
    "    try:\n",
    "        # Convertir los datos de entrada a DataFrame\n",
    "        df = pd.DataFrame([data])\n",
    "\n",
    "        # Hacer predicción\n",
    "        predictions = loaded_model.predict(df)\n",
    "\n",
    "        # Convertir a JSON\n",
    "        return {\"prediction\": predictions.to_dict(orient=\"records\")}\n",
    "    except Exception as e:\n",
    "        raise HTTPException(status_code=400, detail=f\"Error en predicción: {e}\")\n",
    "\n",
    "\n",
    "# Para ejecutar el servidor: uvicorn nombre_archivo:app --host 0.0.0.0 --port 8000\n"
   ]
  },
  {
   "cell_type": "code",
   "execution_count": null,
   "metadata": {},
   "outputs": [
    {
     "name": "stderr",
     "output_type": "stream",
     "text": [
      "\"uvicorn\" no se reconoce como un comando interno o externo,\n",
      "programa o archivo por lotes ejecutable.\n"
     ]
    }
   ],
   "source": [
    "!uvicorn fastAPI:app --host 0.0.0.0 --port 8000\n"
   ]
  },
  {
   "cell_type": "code",
   "execution_count": 1,
   "metadata": {},
   "outputs": [
    {
     "ename": "SyntaxError",
     "evalue": "invalid syntax (3748995682.py, line 1)",
     "output_type": "error",
     "traceback": [
      "\u001b[1;36m  Cell \u001b[1;32mIn[1], line 1\u001b[1;36m\u001b[0m\n\u001b[1;33m    curl -X POST \"http://127.0.0.1:8000/predict\" -H \"Content-Type: application/json\" -d '{\"ds\": \"2025-01-01T00:00:00\"}'\u001b[0m\n\u001b[1;37m            ^\u001b[0m\n\u001b[1;31mSyntaxError\u001b[0m\u001b[1;31m:\u001b[0m invalid syntax\n"
     ]
    }
   ],
   "source": [
    "curl -X POST \"http://127.0.0.1:8000/predict\" -H \"Content-Type: application/json\" -d '{\"ds\": \"2025-01-01T00:00:00\"}'\n"
   ]
  },
  {
   "cell_type": "code",
   "execution_count": 22,
   "metadata": {},
   "outputs": [
    {
     "name": "stdout",
     "output_type": "stream",
     "text": [
      "['2025-01-01 00:00:00', '2025-01-01 01:00:00', '2025-01-01 02:00:00', '2025-01-01 03:00:00', '2025-01-01 04:00:00', '2025-01-01 05:00:00', '2025-01-01 06:00:00', '2025-01-01 07:00:00', '2025-01-01 08:00:00', '2025-01-01 09:00:00', '2025-01-01 10:00:00', '2025-01-01 11:00:00', '2025-01-01 12:00:00', '2025-01-01 13:00:00', '2025-01-01 14:00:00', '2025-01-01 15:00:00', '2025-01-01 16:00:00', '2025-01-01 17:00:00', '2025-01-01 18:00:00', '2025-01-01 19:00:00', '2025-01-01 20:00:00', '2025-01-01 21:00:00', '2025-01-01 22:00:00', '2025-01-01 23:00:00', '2025-01-02 00:00:00', '2025-01-02 01:00:00', '2025-01-02 02:00:00', '2025-01-02 03:00:00', '2025-01-02 04:00:00', '2025-01-02 05:00:00', '2025-01-02 06:00:00', '2025-01-02 07:00:00', '2025-01-02 08:00:00', '2025-01-02 09:00:00', '2025-01-02 10:00:00', '2025-01-02 11:00:00', '2025-01-02 12:00:00', '2025-01-02 13:00:00', '2025-01-02 14:00:00', '2025-01-02 15:00:00', '2025-01-02 16:00:00', '2025-01-02 17:00:00', '2025-01-02 18:00:00', '2025-01-02 19:00:00', '2025-01-02 20:00:00', '2025-01-02 21:00:00', '2025-01-02 22:00:00', '2025-01-02 23:00:00', '2025-01-03 00:00:00', '2025-01-03 01:00:00', '2025-01-03 02:00:00', '2025-01-03 03:00:00', '2025-01-03 04:00:00', '2025-01-03 05:00:00', '2025-01-03 06:00:00', '2025-01-03 07:00:00', '2025-01-03 08:00:00', '2025-01-03 09:00:00', '2025-01-03 10:00:00', '2025-01-03 11:00:00', '2025-01-03 12:00:00', '2025-01-03 13:00:00', '2025-01-03 14:00:00', '2025-01-03 15:00:00', '2025-01-03 16:00:00', '2025-01-03 17:00:00', '2025-01-03 18:00:00', '2025-01-03 19:00:00', '2025-01-03 20:00:00', '2025-01-03 21:00:00', '2025-01-03 22:00:00', '2025-01-03 23:00:00', '2025-01-04 00:00:00', '2025-01-04 01:00:00', '2025-01-04 02:00:00', '2025-01-04 03:00:00', '2025-01-04 04:00:00', '2025-01-04 05:00:00', '2025-01-04 06:00:00', '2025-01-04 07:00:00', '2025-01-04 08:00:00', '2025-01-04 09:00:00', '2025-01-04 10:00:00', '2025-01-04 11:00:00', '2025-01-04 12:00:00', '2025-01-04 13:00:00', '2025-01-04 14:00:00', '2025-01-04 15:00:00', '2025-01-04 16:00:00', '2025-01-04 17:00:00', '2025-01-04 18:00:00', '2025-01-04 19:00:00', '2025-01-04 20:00:00', '2025-01-04 21:00:00', '2025-01-04 22:00:00', '2025-01-04 23:00:00', '2025-01-05 00:00:00', '2025-01-05 01:00:00', '2025-01-05 02:00:00', '2025-01-05 03:00:00', '2025-01-05 04:00:00', '2025-01-05 05:00:00', '2025-01-05 06:00:00', '2025-01-05 07:00:00', '2025-01-05 08:00:00', '2025-01-05 09:00:00', '2025-01-05 10:00:00', '2025-01-05 11:00:00', '2025-01-05 12:00:00', '2025-01-05 13:00:00', '2025-01-05 14:00:00', '2025-01-05 15:00:00', '2025-01-05 16:00:00', '2025-01-05 17:00:00', '2025-01-05 18:00:00', '2025-01-05 19:00:00', '2025-01-05 20:00:00', '2025-01-05 21:00:00', '2025-01-05 22:00:00', '2025-01-05 23:00:00', '2025-01-06 00:00:00', '2025-01-06 01:00:00', '2025-01-06 02:00:00', '2025-01-06 03:00:00', '2025-01-06 04:00:00', '2025-01-06 05:00:00', '2025-01-06 06:00:00', '2025-01-06 07:00:00', '2025-01-06 08:00:00', '2025-01-06 09:00:00', '2025-01-06 10:00:00', '2025-01-06 11:00:00', '2025-01-06 12:00:00', '2025-01-06 13:00:00', '2025-01-06 14:00:00', '2025-01-06 15:00:00', '2025-01-06 16:00:00', '2025-01-06 17:00:00', '2025-01-06 18:00:00', '2025-01-06 19:00:00', '2025-01-06 20:00:00', '2025-01-06 21:00:00', '2025-01-06 22:00:00', '2025-01-06 23:00:00', '2025-01-07 00:00:00', '2025-01-07 01:00:00', '2025-01-07 02:00:00', '2025-01-07 03:00:00', '2025-01-07 04:00:00', '2025-01-07 05:00:00', '2025-01-07 06:00:00', '2025-01-07 07:00:00', '2025-01-07 08:00:00', '2025-01-07 09:00:00', '2025-01-07 10:00:00', '2025-01-07 11:00:00', '2025-01-07 12:00:00', '2025-01-07 13:00:00', '2025-01-07 14:00:00', '2025-01-07 15:00:00', '2025-01-07 16:00:00', '2025-01-07 17:00:00', '2025-01-07 18:00:00', '2025-01-07 19:00:00', '2025-01-07 20:00:00', '2025-01-07 21:00:00', '2025-01-07 22:00:00', '2025-01-07 23:00:00']\n"
     ]
    },
    {
     "name": "stderr",
     "output_type": "stream",
     "text": [
      "C:\\Users\\joanb\\AppData\\Local\\Temp\\ipykernel_92044\\4238262446.py:4: FutureWarning: 'H' is deprecated and will be removed in a future version, please use 'h' instead.\n",
      "  future_dates = pd.DataFrame({\"ds\": pd.date_range(start=\"2025-01-01\", periods=7*24, freq='H')})\n"
     ]
    }
   ],
   "source": [
    "import pandas as pd\n",
    "\n",
    "# Generar las fechas\n",
    "future_dates = pd.DataFrame({\"ds\": pd.date_range(start=\"2025-01-01\", periods=7*24, freq='H')})\n",
    "\n",
    "# Convertir las fechas a una lista de strings\n",
    "date_list = future_dates['ds'].dt.strftime(\"%Y-%m-%d %H:%M:%S\").tolist()\n",
    "\n",
    "print(date_list)\n"
   ]
  },
  {
   "cell_type": "code",
   "execution_count": 25,
   "metadata": {},
   "outputs": [
    {
     "name": "stdout",
     "output_type": "stream",
     "text": [
      "['2025-01-01 00:00:00', '2025-01-01 01:00:00', '2025-01-01 02:00:00', '2025-01-01 03:00:00', '2025-01-01 04:00:00', '2025-01-01 05:00:00', '2025-01-01 06:00:00', '2025-01-01 07:00:00', '2025-01-01 08:00:00', '2025-01-01 09:00:00', '2025-01-01 10:00:00', '2025-01-01 11:00:00', '2025-01-01 12:00:00', '2025-01-01 13:00:00', '2025-01-01 14:00:00', '2025-01-01 15:00:00', '2025-01-01 16:00:00', '2025-01-01 17:00:00', '2025-01-01 18:00:00', '2025-01-01 19:00:00', '2025-01-01 20:00:00', '2025-01-01 21:00:00', '2025-01-01 22:00:00', '2025-01-01 23:00:00', '2025-01-02 00:00:00', '2025-01-02 01:00:00', '2025-01-02 02:00:00', '2025-01-02 03:00:00', '2025-01-02 04:00:00', '2025-01-02 05:00:00', '2025-01-02 06:00:00', '2025-01-02 07:00:00', '2025-01-02 08:00:00', '2025-01-02 09:00:00', '2025-01-02 10:00:00', '2025-01-02 11:00:00', '2025-01-02 12:00:00', '2025-01-02 13:00:00', '2025-01-02 14:00:00', '2025-01-02 15:00:00', '2025-01-02 16:00:00', '2025-01-02 17:00:00', '2025-01-02 18:00:00', '2025-01-02 19:00:00', '2025-01-02 20:00:00', '2025-01-02 21:00:00', '2025-01-02 22:00:00', '2025-01-02 23:00:00', '2025-01-03 00:00:00', '2025-01-03 01:00:00', '2025-01-03 02:00:00', '2025-01-03 03:00:00', '2025-01-03 04:00:00', '2025-01-03 05:00:00', '2025-01-03 06:00:00', '2025-01-03 07:00:00', '2025-01-03 08:00:00', '2025-01-03 09:00:00', '2025-01-03 10:00:00', '2025-01-03 11:00:00', '2025-01-03 12:00:00', '2025-01-03 13:00:00', '2025-01-03 14:00:00', '2025-01-03 15:00:00', '2025-01-03 16:00:00', '2025-01-03 17:00:00', '2025-01-03 18:00:00', '2025-01-03 19:00:00', '2025-01-03 20:00:00', '2025-01-03 21:00:00', '2025-01-03 22:00:00', '2025-01-03 23:00:00', '2025-01-04 00:00:00', '2025-01-04 01:00:00', '2025-01-04 02:00:00', '2025-01-04 03:00:00', '2025-01-04 04:00:00', '2025-01-04 05:00:00', '2025-01-04 06:00:00', '2025-01-04 07:00:00', '2025-01-04 08:00:00', '2025-01-04 09:00:00', '2025-01-04 10:00:00', '2025-01-04 11:00:00', '2025-01-04 12:00:00', '2025-01-04 13:00:00', '2025-01-04 14:00:00', '2025-01-04 15:00:00', '2025-01-04 16:00:00', '2025-01-04 17:00:00', '2025-01-04 18:00:00', '2025-01-04 19:00:00', '2025-01-04 20:00:00', '2025-01-04 21:00:00', '2025-01-04 22:00:00', '2025-01-04 23:00:00', '2025-01-05 00:00:00', '2025-01-05 01:00:00', '2025-01-05 02:00:00', '2025-01-05 03:00:00', '2025-01-05 04:00:00', '2025-01-05 05:00:00', '2025-01-05 06:00:00', '2025-01-05 07:00:00', '2025-01-05 08:00:00', '2025-01-05 09:00:00', '2025-01-05 10:00:00', '2025-01-05 11:00:00', '2025-01-05 12:00:00', '2025-01-05 13:00:00', '2025-01-05 14:00:00', '2025-01-05 15:00:00', '2025-01-05 16:00:00', '2025-01-05 17:00:00', '2025-01-05 18:00:00', '2025-01-05 19:00:00', '2025-01-05 20:00:00', '2025-01-05 21:00:00', '2025-01-05 22:00:00', '2025-01-05 23:00:00', '2025-01-06 00:00:00', '2025-01-06 01:00:00', '2025-01-06 02:00:00', '2025-01-06 03:00:00', '2025-01-06 04:00:00', '2025-01-06 05:00:00', '2025-01-06 06:00:00', '2025-01-06 07:00:00', '2025-01-06 08:00:00', '2025-01-06 09:00:00', '2025-01-06 10:00:00', '2025-01-06 11:00:00', '2025-01-06 12:00:00', '2025-01-06 13:00:00', '2025-01-06 14:00:00', '2025-01-06 15:00:00', '2025-01-06 16:00:00', '2025-01-06 17:00:00', '2025-01-06 18:00:00', '2025-01-06 19:00:00', '2025-01-06 20:00:00', '2025-01-06 21:00:00', '2025-01-06 22:00:00', '2025-01-06 23:00:00', '2025-01-07 00:00:00', '2025-01-07 01:00:00', '2025-01-07 02:00:00', '2025-01-07 03:00:00', '2025-01-07 04:00:00', '2025-01-07 05:00:00', '2025-01-07 06:00:00', '2025-01-07 07:00:00', '2025-01-07 08:00:00', '2025-01-07 09:00:00', '2025-01-07 10:00:00', '2025-01-07 11:00:00', '2025-01-07 12:00:00', '2025-01-07 13:00:00', '2025-01-07 14:00:00', '2025-01-07 15:00:00', '2025-01-07 16:00:00', '2025-01-07 17:00:00', '2025-01-07 18:00:00', '2025-01-07 19:00:00', '2025-01-07 20:00:00', '2025-01-07 21:00:00', '2025-01-07 22:00:00', '2025-01-07 23:00:00']\n"
     ]
    }
   ],
   "source": [
    "import pandas as pd\n",
    "\n",
    "# Generar las fechas\n",
    "future_dates = pd.DataFrame({\"ds\": pd.date_range(start=\"2025-01-01\", periods=7*24, freq='h')})\n",
    "\n",
    "# Convertir las fechas a una lista de strings\n",
    "date_list = future_dates[\"ds\"].dt.strftime(\"%Y-%m-%d %H:%M:%S\").tolist()\n",
    "\n",
    "print(date_list)\n"
   ]
  },
  {
   "cell_type": "code",
   "execution_count": null,
   "metadata": {},
   "outputs": [],
   "source": [
    "#Body de la petición\n",
    "{\"ds\": [\"2025-01-01T00:00:00\"]}\n",
    "\n",
    "#Respuesta \n",
    "{\n",
    "    \"prediction\": [\n",
    "        {\n",
    "            \"ds\": \"2025-01-01T00:00:00\",\n",
    "            \"yhat\": 131.5214515976314\n",
    "        }\n",
    "    ]\n",
    "}\n"
   ]
  },
  {
   "cell_type": "code",
   "execution_count": null,
   "metadata": {},
   "outputs": [],
   "source": [
    "#Body de la petición\n",
    "{\n",
    "    \"ds\": [\"2025-01-01 00:00:00\", \"2025-01-01 01:00:00\", \"2025-01-01 02:00:00\", \"2025-01-01 03:00:00\", \"2025-01-01 04:00:00\", \"2025-01-01 05:00:00\", \"2025-01-01 06:00:00\", \"2025-01-01 07:00:00\", \"2025-01-01 08:00:00\", \"2025-01-01 09:00:00\", \"2025-01-01 10:00:00\", \"2025-01-01 11:00:00\", \"2025-01-01 12:00:00\", \"2025-01-01 13:00:00\", \"2025-01-01 14:00:00\", \"2025-01-01 15:00:00\", \"2025-01-01 16:00:00\", \"2025-01-01 17:00:00\", \"2025-01-01 18:00:00\", \"2025-01-01 19:00:00\", \"2025-01-01 20:00:00\", \"2025-01-01 21:00:00\", \"2025-01-01 22:00:00\", \"2025-01-01 23:00:00\", \"2025-01-02 00:00:00\", \"2025-01-02 01:00:00\", \"2025-01-02 02:00:00\", \"2025-01-02 03:00:00\", \"2025-01-02 04:00:00\", \"2025-01-02 05:00:00\", \"2025-01-02 06:00:00\", \"2025-01-02 07:00:00\", \"2025-01-02 08:00:00\", \"2025-01-02 09:00:00\", \"2025-01-02 10:00:00\", \"2025-01-02 11:00:00\", \"2025-01-02 12:00:00\", \"2025-01-02 13:00:00\", \"2025-01-02 14:00:00\", \"2025-01-02 15:00:00\", \"2025-01-02 16:00:00\", \"2025-01-02 17:00:00\", \"2025-01-02 18:00:00\", \"2025-01-02 19:00:00\", \"2025-01-02 20:00:00\", \"2025-01-02 21:00:00\", \"2025-01-02 22:00:00\", \"2025-01-02 23:00:00\", \"2025-01-03 00:00:00\", \"2025-01-03 01:00:00\", \"2025-01-03 02:00:00\", \"2025-01-03 03:00:00\", \"2025-01-03 04:00:00\", \"2025-01-03 05:00:00\", \"2025-01-03 06:00:00\", \"2025-01-03 07:00:00\", \"2025-01-03 08:00:00\", \"2025-01-03 09:00:00\", \"2025-01-03 10:00:00\", \"2025-01-03 11:00:00\", \"2025-01-03 12:00:00\", \"2025-01-03 13:00:00\", \"2025-01-03 14:00:00\", \"2025-01-03 15:00:00\", \"2025-01-03 16:00:00\", \"2025-01-03 17:00:00\", \"2025-01-03 18:00:00\", \"2025-01-03 19:00:00\", \"2025-01-03 20:00:00\", \"2025-01-03 21:00:00\", \"2025-01-03 22:00:00\", \"2025-01-03 23:00:00\", \"2025-01-04 00:00:00\", \"2025-01-04 01:00:00\", \"2025-01-04 02:00:00\", \"2025-01-04 03:00:00\", \"2025-01-04 04:00:00\", \"2025-01-04 05:00:00\", \"2025-01-04 06:00:00\", \"2025-01-04 07:00:00\", \"2025-01-04 08:00:00\", \"2025-01-04 09:00:00\", \"2025-01-04 10:00:00\", \"2025-01-04 11:00:00\", \"2025-01-04 12:00:00\", \"2025-01-04 13:00:00\", \"2025-01-04 14:00:00\", \"2025-01-04 15:00:00\", \"2025-01-04 16:00:00\", \"2025-01-04 17:00:00\", \"2025-01-04 18:00:00\", \"2025-01-04 19:00:00\", \"2025-01-04 20:00:00\", \"2025-01-04 21:00:00\", \"2025-01-04 22:00:00\", \"2025-01-04 23:00:00\", \"2025-01-05 00:00:00\", \"2025-01-05 01:00:00\", \"2025-01-05 02:00:00\", \"2025-01-05 03:00:00\", \"2025-01-05 04:00:00\", \"2025-01-05 05:00:00\", \"2025-01-05 06:00:00\", \"2025-01-05 07:00:00\", \"2025-01-05 08:00:00\", \"2025-01-05 09:00:00\", \"2025-01-05 10:00:00\", \"2025-01-05 11:00:00\", \"2025-01-05 12:00:00\", \"2025-01-05 13:00:00\", \"2025-01-05 14:00:00\", \"2025-01-05 15:00:00\", \"2025-01-05 16:00:00\", \"2025-01-05 17:00:00\", \"2025-01-05 18:00:00\", \"2025-01-05 19:00:00\", \"2025-01-05 20:00:00\", \"2025-01-05 21:00:00\", \"2025-01-05 22:00:00\", \"2025-01-05 23:00:00\", \"2025-01-06 00:00:00\", \"2025-01-06 01:00:00\", \"2025-01-06 02:00:00\", \"2025-01-06 03:00:00\", \"2025-01-06 04:00:00\", \"2025-01-06 05:00:00\", \"2025-01-06 06:00:00\", \"2025-01-06 07:00:00\", \"2025-01-06 08:00:00\", \"2025-01-06 09:00:00\", \"2025-01-06 10:00:00\", \"2025-01-06 11:00:00\", \"2025-01-06 12:00:00\", \"2025-01-06 13:00:00\", \"2025-01-06 14:00:00\", \"2025-01-06 15:00:00\", \"2025-01-06 16:00:00\", \"2025-01-06 17:00:00\", \"2025-01-06 18:00:00\", \"2025-01-06 19:00:00\", \"2025-01-06 20:00:00\", \"2025-01-06 21:00:00\", \"2025-01-06 22:00:00\", \"2025-01-06 23:00:00\", \"2025-01-07 00:00:00\", \"2025-01-07 01:00:00\", \"2025-01-07 02:00:00\", \"2025-01-07 03:00:00\", \"2025-01-07 04:00:00\", \"2025-01-07 05:00:00\", \"2025-01-07 06:00:00\", \"2025-01-07 07:00:00\", \"2025-01-07 08:00:00\", \"2025-01-07 09:00:00\", \"2025-01-07 10:00:00\", \"2025-01-07 11:00:00\", \"2025-01-07 12:00:00\", \"2025-01-07 13:00:00\", \"2025-01-07 14:00:00\", \"2025-01-07 15:00:00\", \"2025-01-07 16:00:00\", \"2025-01-07 17:00:00\", \"2025-01-07 18:00:00\", \"2025-01-07 19:00:00\", \"2025-01-07 20:00:00\", \"2025-01-07 21:00:00\", \"2025-01-07 22:00:00\", \"2025-01-07 23:00:00\"]\n",
    "}\n",
    "\n",
    "#Respuesta \n",
    "\n",
    "{\"prediction\":[{\"ds\":\"2025-01-01T00:00:00\",\"yhat\":131.5214515976314},{\"ds\":\"2025-01-01T01:00:00\",\"yhat\":127.99117005060792},{\"ds\":\"2025-01-01T02:00:00\",\"yhat\":124.54743062228916},{\"ds\":\"2025-01-01T03:00:00\",\"yhat\":122.22951859789744},{\"ds\":\"2025-01-01T04:00:00\",\"yhat\":123.621466716385},{\"ds\":\"2025-01-01T05:00:00\",\"yhat\":129.30678836063592},{\"ds\":\"2025-01-01T06:00:00\",\"yhat\":135.80234404380968},{\"ds\":\"2025-01-01T07:00:00\",\"yhat\":137.59820362776978},{\"ds\":\"2025-01-01T08:00:00\",\"yhat\":131.71768961717396},{\"ds\":\"2025-01-01T09:00:00\",\"yhat\":120.45288331011575},{\"ds\":\"2025-01-01T10:00:00\",\"yhat\":109.5116430791961},{\"ds\":\"2025-01-01T11:00:00\",\"yhat\":103.2473373421808},{\"ds\":\"2025-01-01T12:00:00\",\"yhat\":101.51769113568469},{\"ds\":\"2025-01-01T13:00:00\",\"yhat\":101.11185347769155},{\"ds\":\"2025-01-01T14:00:00\",\"yhat\":100.13418418842109},{\"ds\":\"2025-01-01T15:00:00\",\"yhat\":100.75620238771874},{\"ds\":\"2025-01-01T16:00:00\",\"yhat\":107.34887029425913},{\"ds\":\"2025-01-01T17:00:00\",\"yhat\":121.65378776585004},{\"ds\":\"2025-01-01T18:00:00\",\"yhat\":139.7544170012194},{\"ds\":\"2025-01-01T19:00:00\",\"yhat\":154.05745904838358},{\"ds\":\"2025-01-01T20:00:00\",\"yhat\":158.75410531298462},{\"ds\":\"2025-01-01T21:00:00\",\"yhat\":153.91027859605347},{\"ds\":\"2025-01-01T22:00:00\",\"yhat\":144.6490640217414},{\"ds\":\"2025-01-01T23:00:00\",\"yhat\":136.5083126550712},{\"ds\":\"2025-01-02T00:00:00\",\"yhat\":131.45954882464596},{\"ds\":\"2025-01-02T01:00:00\",\"yhat\":128.02927840663128},{\"ds\":\"2025-01-02T02:00:00\",\"yhat\":124.6807060218514},{\"ds\":\"2025-01-02T03:00:00\",\"yhat\":122.45324873477017},{\"ds\":\"2025-01-02T04:00:00\",\"yhat\":123.93123358010905},{\"ds\":\"2025-01-02T05:00:00\",\"yhat\":129.6986022282582},{\"ds\":\"2025-01-02T06:00:00\",\"yhat\":136.27274678860678},{\"ds\":\"2025-01-02T07:00:00\",\"yhat\":138.14433972876432},{\"ds\":\"2025-01-02T08:00:00\",\"yhat\":132.33734383406167},{\"ds\":\"2025-01-02T09:00:00\",\"yhat\":121.14448457349351},{\"ds\":\"2025-01-02T10:00:00\",\"yhat\":110.27423473010404},{\"ds\":\"2025-01-02T11:00:00\",\"yhat\":104.08051445996696},{\"ds\":\"2025-01-02T12:00:00\",\"yhat\":102.42150625631609},{\"ds\":\"2025-01-02T13:00:00\",\"yhat\":102.08669256994355},{\"ds\":\"2025-01-02T14:00:00\",\"yhat\":101.18061528860301},{\"ds\":\"2025-01-02T15:00:00\",\"yhat\":101.87479978601827},{\"ds\":\"2025-01-02T16:00:00\",\"yhat\":108.54001761930073},{\"ds\":\"2025-01-02T17:00:00\",\"yhat\":122.91746372416033},{\"ds\":\"2025-01-02T18:00:00\",\"yhat\":141.08996787228284},{\"ds\":\"2025-01-02T19:00:00\",\"yhat\":155.46336233241948},{\"ds\":\"2025-01-02T20:00:00\",\"yhat\":160.22772915165882},{\"ds\":\"2025-01-02T21:00:00\",\"yhat\":155.44764174673668},{\"ds\":\"2025-01-02T22:00:00\",\"yhat\":146.24460125296147},{\"ds\":\"2025-01-02T23:00:00\",\"yhat\":138.15465044875614},{\"ds\":\"2025-01-03T00:00:00\",\"yhat\":133.1472962149805},{\"ds\":\"2025-01-03T01:00:00\",\"yhat\":129.74683765320728},{\"ds\":\"2025-01-03T02:00:00\",\"yhat\":126.41410761905979},{\"ds\":\"2025-01-03T03:00:00\",\"yhat\":124.18601498737888},{\"ds\":\"2025-01-03T04:00:00\",\"yhat\":125.64427464233637},{\"ds\":\"2025-01-03T05:00:00\",\"yhat\":131.37014810371625},{\"ds\":\"2025-01-03T06:00:00\",\"yhat\":137.87831834022344},{\"ds\":\"2025-01-03T07:00:00\",\"yhat\":139.6567612378138},{\"ds\":\"2025-01-03T08:00:00\",\"yhat\":133.7267991015028},{\"ds\":\"2025-01-03T09:00:00\",\"yhat\":122.37861796478694},{\"ds\":\"2025-01-03T10:00:00\",\"yhat\":111.31829795808797},{\"ds\":\"2025-01-03T11:00:00\",\"yhat\":104.89755924408426},{\"ds\":\"2025-01-03T12:00:00\",\"yhat\":102.97262235660719},{\"ds\":\"2025-01-03T13:00:00\",\"yhat\":102.33129003389571},{\"ds\":\"2025-01-03T14:00:00\",\"yhat\":101.07674908638886},{\"ds\":\"2025-01-03T15:00:00\",\"yhat\":101.3795343746605},{\"ds\":\"2025-01-03T16:00:00\",\"yhat\":107.60982835350448},{\"ds\":\"2025-01-03T17:00:00\",\"yhat\":121.50867143797203},{\"ds\":\"2025-01-03T18:00:00\",\"yhat\":139.15920239745373},{\"ds\":\"2025-01-03T19:00:00\",\"yhat\":152.96805022927117},{\"ds\":\"2025-01-03T20:00:00\",\"yhat\":157.12660043990445},{\"ds\":\"2025-01-03T21:00:00\",\"yhat\":151.7012500592788},{\"ds\":\"2025-01-03T22:00:00\",\"yhat\":141.81585148666568},{\"ds\":\"2025-01-03T23:00:00\",\"yhat\":133.0093277221927},{\"ds\":\"2025-01-04T00:00:00\",\"yhat\":127.25458977165235},{\"ds\":\"2025-01-04T01:00:00\",\"yhat\":123.07985321821846},{\"ds\":\"2025-01-04T02:00:00\",\"yhat\":118.95036170581994},{\"ds\":\"2025-01-04T03:00:00\",\"yhat\":115.90790469263617},{\"ds\":\"2025-01-04T04:00:00\",\"yhat\":116.53951660308974},{\"ds\":\"2025-01-04T05:00:00\",\"yhat\":121.43218050736667},{\"ds\":\"2025-01-04T06:00:00\",\"yhat\":127.10666016757501},{\"ds\":\"2025-01-04T07:00:00\",\"yhat\":128.05732329486364},{\"ds\":\"2025-01-04T08:00:00\",\"yhat\":121.31214183419931},{\"ds\":\"2025-01-04T09:00:00\",\"yhat\":109.16815156442371},{\"ds\":\"2025-01-04T10:00:00\",\"yhat\":97.33842083992944},{\"ds\":\"2025-01-04T11:00:00\",\"yhat\":90.18173160915357},{\"ds\":\"2025-01-04T12:00:00\",\"yhat\":87.56137222931925},{\"ds\":\"2025-01-04T13:00:00\",\"yhat\":86.27214988677169},{\"ds\":\"2025-01-04T14:00:00\",\"yhat\":84.42412191789636},{\"ds\":\"2025-01-04T15:00:00\",\"yhat\":84.19448888309086},{\"ds\":\"2025-01-04T16:00:00\",\"yhat\":89.95982364678946},{\"ds\":\"2025-01-04T17:00:00\",\"yhat\":103.4672125113932},{\"ds\":\"2025-01-04T18:00:00\",\"yhat\":120.80542841921444},{\"ds\":\"2025-01-04T19:00:00\",\"yhat\":134.38625843164345},{\"ds\":\"2025-01-04T20:00:00\",\"yhat\":138.4057092072885},{\"ds\":\"2025-01-04T21:00:00\",\"yhat\":132.93420549762664},{\"ds\":\"2025-01-04T22:00:00\",\"yhat\":123.09898246321963},{\"ds\":\"2025-01-04T23:00:00\",\"yhat\":114.44165500160636},{\"ds\":\"2025-01-05T00:00:00\",\"yhat\":108.93709543759405},{\"ds\":\"2025-01-05T01:00:00\",\"yhat\":105.11471710653194},{\"ds\":\"2025-01-05T02:00:00\",\"yhat\":101.44017199816403},{\"ds\":\"2025-01-05T03:00:00\",\"yhat\":98.95485019892777},{\"ds\":\"2025-01-05T04:00:00\",\"yhat\":100.24456853746506},{\"ds\":\"2025-01-05T05:00:00\",\"yhat\":105.89427176897964},{\"ds\":\"2025-01-05T06:00:00\",\"yhat\":112.42187023899504},{\"ds\":\"2025-01-05T07:00:00\",\"yhat\":114.31807690301926},{\"ds\":\"2025-01-05T08:00:00\",\"yhat\":108.6064294333047},{\"ds\":\"2025-01-05T09:00:00\",\"yhat\":97.57877955683696},{\"ds\":\"2025-01-05T10:00:00\",\"yhat\":86.94229918384782},{\"ds\":\"2025-01-05T11:00:00\",\"yhat\":81.0492061345413},{\"ds\":\"2025-01-05T12:00:00\",\"yhat\":79.7556085674093},{\"ds\":\"2025-01-05T13:00:00\",\"yhat\":79.84857540410565},{\"ds\":\"2025-01-05T14:00:00\",\"yhat\":79.42993149042991},{\"ds\":\"2025-01-05T15:00:00\",\"yhat\":80.6682196992267},{\"ds\":\"2025-01-05T16:00:00\",\"yhat\":87.93100352876584},{\"ds\":\"2025-01-05T17:00:00\",\"yhat\":102.95608549824699},{\"ds\":\"2025-01-05T18:00:00\",\"yhat\":121.82276055935274},{\"ds\":\"2025-01-05T19:00:00\",\"yhat\":136.93322590248408},{\"ds\":\"2025-01-05T20:00:00\",\"yhat\":142.47387003244506},{\"ds\":\"2025-01-05T21:00:00\",\"yhat\":138.50555525764605},{\"ds\":\"2025-01-05T22:00:00\",\"yhat\":130.14609352745842},{\"ds\":\"2025-01-05T23:00:00\",\"yhat\":122.92789793852884},{\"ds\":\"2025-01-06T00:00:00\",\"yhat\":118.81694040814101},{\"ds\":\"2025-01-06T01:00:00\",\"yhat\":116.33411221385447},{\"ds\":\"2025-01-06T02:00:00\",\"yhat\":113.93699477541665},{\"ds\":\"2025-01-06T03:00:00\",\"yhat\":112.6594276602782},{\"ds\":\"2025-01-06T04:00:00\",\"yhat\":115.08026052119041},{\"ds\":\"2025-01-06T05:00:00\",\"yhat\":121.77811165517927},{\"ds\":\"2025-01-06T06:00:00\",\"yhat\":129.26525655822377},{\"ds\":\"2025-01-06T07:00:00\",\"yhat\":132.0275088373446},{\"ds\":\"2025-01-06T08:00:00\",\"yhat\":127.08427880625618},{\"ds\":\"2025-01-06T09:00:00\",\"yhat\":116.72409155341886},{\"ds\":\"2025-01-06T10:00:00\",\"yhat\":106.6516137994952},{\"ds\":\"2025-01-06T11:00:00\",\"yhat\":101.21739218792729},{\"ds\":\"2025-01-06T12:00:00\",\"yhat\":100.27670203161838},{\"ds\":\"2025-01-06T13:00:00\",\"yhat\":100.61661384640101},{\"ds\":\"2025-01-06T14:00:00\",\"yhat\":100.33977650669866},{\"ds\":\"2025-01-06T15:00:00\",\"yhat\":101.61635943800637},{\"ds\":\"2025-01-06T16:00:00\",\"yhat\":108.81632768301199},{\"ds\":\"2025-01-06T17:00:00\",\"yhat\":123.68062551373824},{\"ds\":\"2025-01-06T18:00:00\",\"yhat\":142.29238824880028},{\"ds\":\"2025-01-06T19:00:00\",\"yhat\":157.05830418901445},{\"ds\":\"2025-01-06T20:00:00\",\"yhat\":162.16985011432837},{\"ds\":\"2025-01-06T21:00:00\",\"yhat\":157.69351513397345},{\"ds\":\"2025-01-06T22:00:00\",\"yhat\":148.7532135299985},{\"ds\":\"2025-01-06T23:00:00\",\"yhat\":140.88786963433245},{\"ds\":\"2025-01-07T00:00:00\",\"yhat\":136.07030601704847},{\"ds\":\"2025-01-07T01:00:00\",\"yhat\":132.82853247819864},{\"ds\":\"2025-01-07T02:00:00\",\"yhat\":129.6274440217978},{\"ds\":\"2025-01-07T03:00:00\",\"yhat\":127.50831560997499},{\"ds\":\"2025-01-07T04:00:00\",\"yhat\":129.05748121337155},{\"ds\":\"2025-01-07T05:00:00\",\"yhat\":134.8610206383858},{\"ds\":\"2025-01-07T06:00:00\",\"yhat\":141.4385782764969},{\"ds\":\"2025-01-07T07:00:00\",\"yhat\":143.28317687556864},{\"ds\":\"2025-01-07T08:00:00\",\"yhat\":137.4212123546978},{\"ds\":\"2025-01-07T09:00:00\",\"yhat\":126.14791209649125},{\"ds\":\"2025-01-07T10:00:00\",\"yhat\":115.17430662948674},{\"ds\":\"2025-01-07T11:00:00\",\"yhat\":108.8569178685878},{\"ds\":\"2025-01-07T12:00:00\",\"yhat\":107.05656339898434},{\"ds\":\"2025-01-07T13:00:00\",\"yhat\":106.56538451856817},{\"ds\":\"2025-01-07T14:00:00\",\"yhat\":105.49059718647649},{\"ds\":\"2025-01-07T15:00:00\",\"yhat\":106.00640851856718},{\"ds\":\"2025-01-07T16:00:00\",\"yhat\":112.48627281629662},{\"ds\":\"2025-01-07T17:00:00\",\"yhat\":126.67406286353754},{\"ds\":\"2025-01-07T18:00:00\",\"yhat\":144.65527613851836},{\"ds\":\"2025-01-07T19:00:00\",\"yhat\":158.8383977413876},{\"ds\":\"2025-01-07T20:00:00\",\"yhat\":163.4161433130501},{\"ds\":\"2025-01-07T21:00:00\",\"yhat\":158.4556964838398},{\"ds\":\"2025-01-07T22:00:00\",\"yhat\":149.08114114878342},{\"ds\":\"2025-01-07T23:00:00\",\"yhat\":140.83107123336055}]}\n",
    "\n"
   ]
  }
 ],
 "metadata": {
  "kernelspec": {
   "display_name": "tf_env",
   "language": "python",
   "name": "python3"
  },
  "language_info": {
   "codemirror_mode": {
    "name": "ipython",
    "version": 3
   },
   "file_extension": ".py",
   "mimetype": "text/x-python",
   "name": "python",
   "nbconvert_exporter": "python",
   "pygments_lexer": "ipython3",
   "version": "3.10.13"
  }
 },
 "nbformat": 4,
 "nbformat_minor": 2
}
